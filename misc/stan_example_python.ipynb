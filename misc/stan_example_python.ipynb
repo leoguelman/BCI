{
 "cells": [
  {
   "cell_type": "markdown",
   "metadata": {
    "id": "oZEkeIOBOqPJ"
   },
   "source": [
    "# Bayesian Causal Inference"
   ]
  },
  {
   "cell_type": "code",
   "execution_count": 5,
   "metadata": {
    "colab": {
     "base_uri": "https://localhost:8080/"
    },
    "id": "OpMNDlEqP6Q5",
    "outputId": "ef3a7a68-26eb-489e-b84e-03faa9b035a2"
   },
   "outputs": [
    {
     "name": "stdout",
     "output_type": "stream",
     "text": [
      "Requirement already satisfied: arviz in /usr/local/lib/python3.6/dist-packages (0.11.1)\n",
      "Requirement already satisfied: netcdf4 in /usr/local/lib/python3.6/dist-packages (from arviz) (1.5.5.1)\n",
      "Requirement already satisfied: matplotlib>=3.0 in /usr/local/lib/python3.6/dist-packages (from arviz) (3.2.2)\n",
      "Requirement already satisfied: pandas>=0.23 in /usr/local/lib/python3.6/dist-packages (from arviz) (1.1.5)\n",
      "Requirement already satisfied: typing-extensions<4,>=3.7.4.3 in /usr/local/lib/python3.6/dist-packages (from arviz) (3.7.4.3)\n",
      "Requirement already satisfied: setuptools>=38.4 in /usr/local/lib/python3.6/dist-packages (from arviz) (53.0.0)\n",
      "Requirement already satisfied: packaging in /usr/local/lib/python3.6/dist-packages (from arviz) (20.9)\n",
      "Requirement already satisfied: numpy>=1.12 in /usr/local/lib/python3.6/dist-packages (from arviz) (1.19.5)\n",
      "Requirement already satisfied: scipy>=0.19 in /usr/local/lib/python3.6/dist-packages (from arviz) (1.4.1)\n",
      "Requirement already satisfied: xarray>=0.16.1 in /usr/local/lib/python3.6/dist-packages (from arviz) (0.16.2)\n",
      "Requirement already satisfied: cftime in /usr/local/lib/python3.6/dist-packages (from netcdf4->arviz) (1.4.1)\n",
      "Requirement already satisfied: kiwisolver>=1.0.1 in /usr/local/lib/python3.6/dist-packages (from matplotlib>=3.0->arviz) (1.3.1)\n",
      "Requirement already satisfied: pyparsing!=2.0.4,!=2.1.2,!=2.1.6,>=2.0.1 in /usr/local/lib/python3.6/dist-packages (from matplotlib>=3.0->arviz) (2.4.7)\n",
      "Requirement already satisfied: python-dateutil>=2.1 in /usr/local/lib/python3.6/dist-packages (from matplotlib>=3.0->arviz) (2.8.1)\n",
      "Requirement already satisfied: cycler>=0.10 in /usr/local/lib/python3.6/dist-packages (from matplotlib>=3.0->arviz) (0.10.0)\n",
      "Requirement already satisfied: pytz>=2017.2 in /usr/local/lib/python3.6/dist-packages (from pandas>=0.23->arviz) (2018.9)\n",
      "Requirement already satisfied: six>=1.5 in /usr/local/lib/python3.6/dist-packages (from python-dateutil>=2.1->matplotlib>=3.0->arviz) (1.15.0)\n"
     ]
    }
   ],
   "source": [
    "!pip install arviz"
   ]
  },
  {
   "cell_type": "markdown",
   "metadata": {
    "id": "f79OAoVf67Hn"
   },
   "source": [
    "# Imports"
   ]
  },
  {
   "cell_type": "code",
   "execution_count": 6,
   "metadata": {
    "id": "DSbOrSvE7AG_"
   },
   "outputs": [],
   "source": [
    "import numpy as np\n",
    "import pystan\n",
    "import pandas as pd\n",
    "import arviz as az\n",
    "import seaborn as sns\n",
    "import matplotlib.pyplot as plt\n"
   ]
  },
  {
   "cell_type": "markdown",
   "metadata": {
    "id": "x18iVWZiDXFq"
   },
   "source": [
    "# Data Generating Process\n",
    "\n",
    "Math TBD"
   ]
  },
  {
   "cell_type": "code",
   "execution_count": 7,
   "metadata": {
    "id": "kTpnFcH-Di2p"
   },
   "outputs": [],
   "source": [
    "class DataGeneratingProcess:\n",
    "    \n",
    "    \"\"\"\n",
    "    Generates sample data for causal inference \n",
    "\n",
    "    Parameters\n",
    "    ----------\n",
    "    N :  number of observations\n",
    "    alpha : intercept in the Y model\n",
    "    tau : treatment effect\n",
    "    rho:  correlation between the errors\n",
    "    treatment_assignment : unconfounded vs confounded treatment assignment. If treatment is counfounded, then the assignment\n",
    "                           mechanism is: (i) unknown, (ii) not independent of potential outcomes, (iii) probabilistic \n",
    "                           (conditional on covariates, probability of receiving treatment is strictly between zero and one \n",
    "                           for all units)\n",
    "    \"\"\"\n",
    "    \n",
    "    def __init__(self, N: int = 500, alpha: float = 1.0, tau: float = 0.25, \n",
    "                 rho: float = 0.0, covariates: bool = False,  \n",
    "                 treatment_assignment: str = 'u', seed: int = 42):\n",
    "\n",
    "        self.N = N\n",
    "        self.alpha = alpha\n",
    "        self.tau = tau\n",
    "        self.rho = rho\n",
    "        self.covariates = covariates\n",
    "        self.treatment_assignment = treatment_assignment\n",
    "        self.seed = seed\n",
    "\n",
    "    def __repr__(self):\n",
    "            \n",
    "            items = (\"%s = %r\" % (k, v) for k, v in self.__dict__.items())\n",
    "            return \"<%s: {%s}>\" % (self.__class__.__name__, ', '.join(items))\n",
    "\n",
    "    def generate_data(self):\n",
    "\n",
    "        np.random.seed(self.seed)\n",
    "\n",
    "        sd_c = 1 # SD for the control\n",
    "        sd_t = 1 # SD for the treated\n",
    "\n",
    "        cov_mat = np.array([[sd_c**2, self.rho*sd_c*sd_t], \n",
    "                            [self.rho*sd_c*sd_t, sd_t**2]])\n",
    "\n",
    "        if self.covariates:\n",
    "\n",
    "            X = np.random.normal(0.0, 1.0, size=(self.N, 5))\n",
    "            #beta_c = np.random.normal(0.0, 1.0, 5)\n",
    "            #beta_t = np.random.normal(0.0, 1.0, 5)\n",
    "            #beta_c[2:4] = 0.0\n",
    "            #beta_t[0:2] = 0.0\n",
    "            beta_c = np.array([1.5, 0.5, -1.0,  0.0, 0.0])\n",
    "            beta_t = np.array([0.0, 0.0, -1.0, 0.5, 1.5])\n",
    "            Xbeta_c = np.matmul(X, beta_c)\n",
    "            Xbeta_t = np.matmul(X, beta_t)\n",
    "            \n",
    "            mu_c = self.alpha + Xbeta_c + 0 * self.tau; # mean for the control\n",
    "            mu_t = self.alpha + Xbeta_t + 1 * self.tau; # mean for the treated\n",
    "\n",
    "            self.beta_c = beta_c\n",
    "            self.beta_t = beta_t          \n",
    "\n",
    "            science = np.empty([self.N, 2])\n",
    "            for i in range(self.N):\n",
    "                science[i,:] = np.random.multivariate_normal(mean = [mu_c[i], mu_t[i]], cov = cov_mat, size = 1) \n",
    "\n",
    "            if self.treatment_assignment == 'u':\n",
    "                W = np.random.choice([0,1], size = self.N) # binary treatment variable (uniform probs across treatments)\n",
    "            \n",
    "            elif self.treatment_assignment == 'c':\n",
    "                # Undividuals who benefit from treatment are more likely to be treated\n",
    "                # X5 is positively related to likelihood of treatment\n",
    "                ps = np.exp(-0.2 + X[:,4])/(1 + np.exp(-0.2 + X[:,4])) # true propensity score\n",
    "           \n",
    "        else:\n",
    "            if self.treatment_assignment == 'c':\n",
    "                raise ValueError(\"treatment_assignment = 'c' not valid when covariates = False\")\n",
    "      \n",
    "            mu_c = self.alpha + 0 * self.tau; # mean and SD for the control\n",
    "            mu_t = self.alpha + 1 * self.tau; \n",
    "            science = np.random.multivariate_normal(mean = [mu_c, mu_t], cov = cov_mat, size = self.N)\n",
    "            W = np.random.choice([0,1], size = self.N) # binary treatment variable (uniform probs across treatments)\n",
    "        \n",
    "        Y0 = science[:, 0]  # potential outcome if W = 0\n",
    "        Y1 = science[:, 1]  # potential outcome if W = 1\n",
    "        tau_unit = Y1 - Y0  # unit-level treatment effect\n",
    "        \n",
    "        if self.treatment_assignment == 'u':\n",
    "            W = np.random.choice([0,1], size = self.N) # binary treatment variable (uniform probs across treatments)\n",
    "            \n",
    "        elif self.treatment_assignment == 'c':\n",
    "            # Undividuals who benefit from treatment are more likely to be treated\n",
    "            # X5 is positively related to likelihood of treatment\n",
    "            ps = np.exp(-0.2 + X[:,4])/(1 + np.exp(-0.2 + X[:,4])) # true propensity score\n",
    "\n",
    "            #tau_unit_cdf = norm.cdf(tau_unit)\n",
    "            W = np.empty([self.N], dtype=int)\n",
    "            for i in range(len(W)):\n",
    "                W[i] = np.random.choice([0,1], size = 1, p = [1-ps[i], ps[i]]) \n",
    "          \n",
    "        # The realization of potential outcomes by the assignment mechanism\n",
    "        Y_obs = Y0 * (1 - W) + Y1 * W\n",
    "        Y_mis = Y0 * W + Y1 * (1 - W)\n",
    "\n",
    "        df = pd.DataFrame({'y_obs':Y_obs, 'y_mis': Y_mis, 'y0':Y0, 'y1': Y1, 'tau_unit': tau_unit, 'w':W})\n",
    "\n",
    "        if self.covariates:\n",
    "            X_df = pd.DataFrame(X, columns=['X1','X2','X3','X4','X5'])\n",
    "            df = df.join(X_df) \n",
    "\n",
    "        self.df = df\n",
    "    \n",
    "        return self \n"
   ]
  },
  {
   "cell_type": "code",
   "execution_count": 8,
   "metadata": {
    "colab": {
     "base_uri": "https://localhost:8080/"
    },
    "id": "hX2RcqvR20XQ",
    "outputId": "05968cfb-31a2-43ec-e518-ec1146697e40"
   },
   "outputs": [
    {
     "name": "stdout",
     "output_type": "stream",
     "text": [
      "(array([0, 1]), array([240, 260]))\n",
      "      y_obs\n",
      "W          \n",
      "0  1.072989\n",
      "1  0.950468\n",
      "(array([0, 1]), array([287, 213]))\n",
      "      y_obs\n",
      "W          \n",
      "0  0.812148\n",
      "1  2.099246\n"
     ]
    }
   ],
   "source": [
    "### Test\n",
    "\n",
    "seed=432\n",
    "\n",
    "dgp = DataGeneratingProcess(covariates=True, treatment_assignment = 'u', seed=seed)\n",
    "r = dgp.generate_data()\n",
    "df = r.df\n",
    "\n",
    "print(np.unique(df['w'], return_counts=True))\n",
    "\n",
    "df = pd.DataFrame({'W':df['w'], 'y_obs' : df['y_obs']})     \n",
    "print(df.groupby('W').mean())\n",
    "\n",
    "dgp = DataGeneratingProcess(covariates=True, treatment_assignment = 'c', seed=seed)\n",
    "r = dgp.generate_data()\n",
    "df = r.df\n",
    "\n",
    "print(np.unique(df['w'], return_counts=True))\n",
    "\n",
    "df = pd.DataFrame({'W':df['w'], 'y_obs' : df['y_obs']})     \n",
    "print(df.groupby('W').mean())\n",
    "\n"
   ]
  },
  {
   "cell_type": "markdown",
   "metadata": {
    "id": "kz74EBTz7WVW"
   },
   "source": [
    "# 1. Randomized experiment without covariates"
   ]
  },
  {
   "cell_type": "markdown",
   "metadata": {
    "id": "F3OZ6DAJFfp0"
   },
   "source": [
    "## 1.1. Sample data"
   ]
  },
  {
   "cell_type": "code",
   "execution_count": 9,
   "metadata": {
    "colab": {
     "base_uri": "https://localhost:8080/",
     "height": 402
    },
    "id": "9FaNs6BXEfNx",
    "outputId": "9b3ca824-025b-404a-cf6f-233d10e14f06"
   },
   "outputs": [
    {
     "data": {
      "text/html": [
       "<div>\n",
       "<style scoped>\n",
       "    .dataframe tbody tr th:only-of-type {\n",
       "        vertical-align: middle;\n",
       "    }\n",
       "\n",
       "    .dataframe tbody tr th {\n",
       "        vertical-align: top;\n",
       "    }\n",
       "\n",
       "    .dataframe thead th {\n",
       "        text-align: right;\n",
       "    }\n",
       "</style>\n",
       "<table border=\"1\" class=\"dataframe\">\n",
       "  <thead>\n",
       "    <tr style=\"text-align: right;\">\n",
       "      <th></th>\n",
       "      <th>y_obs</th>\n",
       "      <th>y_mis</th>\n",
       "      <th>y0</th>\n",
       "      <th>y1</th>\n",
       "      <th>tau_unit</th>\n",
       "      <th>w</th>\n",
       "    </tr>\n",
       "  </thead>\n",
       "  <tbody>\n",
       "    <tr>\n",
       "      <th>0</th>\n",
       "      <td>0.795292</td>\n",
       "      <td>1.728943</td>\n",
       "      <td>0.795292</td>\n",
       "      <td>1.728943</td>\n",
       "      <td>0.933651</td>\n",
       "      <td>0</td>\n",
       "    </tr>\n",
       "    <tr>\n",
       "      <th>1</th>\n",
       "      <td>0.480561</td>\n",
       "      <td>0.694270</td>\n",
       "      <td>0.480561</td>\n",
       "      <td>0.694270</td>\n",
       "      <td>0.213708</td>\n",
       "      <td>0</td>\n",
       "    </tr>\n",
       "    <tr>\n",
       "      <th>2</th>\n",
       "      <td>2.643406</td>\n",
       "      <td>2.965781</td>\n",
       "      <td>2.965781</td>\n",
       "      <td>2.643406</td>\n",
       "      <td>-0.322375</td>\n",
       "      <td>1</td>\n",
       "    </tr>\n",
       "    <tr>\n",
       "      <th>3</th>\n",
       "      <td>1.531746</td>\n",
       "      <td>1.092908</td>\n",
       "      <td>1.092908</td>\n",
       "      <td>1.531746</td>\n",
       "      <td>0.438838</td>\n",
       "      <td>1</td>\n",
       "    </tr>\n",
       "    <tr>\n",
       "      <th>4</th>\n",
       "      <td>1.769023</td>\n",
       "      <td>2.496435</td>\n",
       "      <td>1.769023</td>\n",
       "      <td>2.496435</td>\n",
       "      <td>0.727412</td>\n",
       "      <td>0</td>\n",
       "    </tr>\n",
       "    <tr>\n",
       "      <th>...</th>\n",
       "      <td>...</td>\n",
       "      <td>...</td>\n",
       "      <td>...</td>\n",
       "      <td>...</td>\n",
       "      <td>...</td>\n",
       "      <td>...</td>\n",
       "    </tr>\n",
       "    <tr>\n",
       "      <th>495</th>\n",
       "      <td>2.848291</td>\n",
       "      <td>0.254395</td>\n",
       "      <td>0.254395</td>\n",
       "      <td>2.848291</td>\n",
       "      <td>2.593896</td>\n",
       "      <td>1</td>\n",
       "    </tr>\n",
       "    <tr>\n",
       "      <th>496</th>\n",
       "      <td>0.086600</td>\n",
       "      <td>3.652912</td>\n",
       "      <td>0.086600</td>\n",
       "      <td>3.652912</td>\n",
       "      <td>3.566312</td>\n",
       "      <td>0</td>\n",
       "    </tr>\n",
       "    <tr>\n",
       "      <th>497</th>\n",
       "      <td>0.410640</td>\n",
       "      <td>1.357657</td>\n",
       "      <td>0.410640</td>\n",
       "      <td>1.357657</td>\n",
       "      <td>0.947018</td>\n",
       "      <td>0</td>\n",
       "    </tr>\n",
       "    <tr>\n",
       "      <th>498</th>\n",
       "      <td>0.090074</td>\n",
       "      <td>0.860702</td>\n",
       "      <td>0.860702</td>\n",
       "      <td>0.090074</td>\n",
       "      <td>-0.770628</td>\n",
       "      <td>1</td>\n",
       "    </tr>\n",
       "    <tr>\n",
       "      <th>499</th>\n",
       "      <td>1.618965</td>\n",
       "      <td>2.623890</td>\n",
       "      <td>1.618965</td>\n",
       "      <td>2.623890</td>\n",
       "      <td>1.004926</td>\n",
       "      <td>0</td>\n",
       "    </tr>\n",
       "  </tbody>\n",
       "</table>\n",
       "<p>500 rows × 6 columns</p>\n",
       "</div>"
      ],
      "text/plain": [
       "        y_obs     y_mis        y0        y1  tau_unit  w\n",
       "0    0.795292  1.728943  0.795292  1.728943  0.933651  0\n",
       "1    0.480561  0.694270  0.480561  0.694270  0.213708  0\n",
       "2    2.643406  2.965781  2.965781  2.643406 -0.322375  1\n",
       "3    1.531746  1.092908  1.092908  1.531746  0.438838  1\n",
       "4    1.769023  2.496435  1.769023  2.496435  0.727412  0\n",
       "..        ...       ...       ...       ...       ... ..\n",
       "495  2.848291  0.254395  0.254395  2.848291  2.593896  1\n",
       "496  0.086600  3.652912  0.086600  3.652912  3.566312  0\n",
       "497  0.410640  1.357657  0.410640  1.357657  0.947018  0\n",
       "498  0.090074  0.860702  0.860702  0.090074 -0.770628  1\n",
       "499  1.618965  2.623890  1.618965  2.623890  1.004926  0\n",
       "\n",
       "[500 rows x 6 columns]"
      ]
     },
     "execution_count": 9,
     "metadata": {
      "tags": []
     },
     "output_type": "execute_result"
    }
   ],
   "source": [
    "dgp = DataGeneratingProcess(seed=12345)\n",
    "df1 = dgp.generate_data().df\n",
    "df1"
   ]
  },
  {
   "cell_type": "markdown",
   "metadata": {
    "id": "w57rO44qFqee"
   },
   "source": [
    "## 1.2. Fit Model"
   ]
  },
  {
   "cell_type": "code",
   "execution_count": 10,
   "metadata": {
    "id": "SieXSAiuHI-Y"
   },
   "outputs": [],
   "source": [
    "simulated_example = \"\"\"\n",
    "\n",
    "data {\n",
    "  int<lower=0> N;                   // sample size\n",
    "  vector[N] y;                      // observed outcome\n",
    "  vector[N] w;                      // treatment assigned\n",
    "  real<lower=-1,upper=1> rho;       // assumed correlation between the potential outcomes\n",
    "}\n",
    "parameters {\n",
    "  real alpha;                       // intercept\n",
    "  real tau;                         // super-population average treatment effect\n",
    "  real<lower=0> sigma_c;            // residual SD for the control\n",
    "  real<lower=0> sigma_t;            // residual SD for the treated\n",
    "}\n",
    "model {\n",
    "   // PRIORS\n",
    "   alpha ~ normal(0, 5);            \n",
    "   tau ~ normal(0, 5);\n",
    "   sigma_c ~ normal(0, 5);          \n",
    "   sigma_t ~ normal(0, 5);\n",
    "\n",
    "   // LIKELIHOOD\n",
    "   y ~ normal(alpha + tau*w, sigma_t*w + sigma_c*(1 - w));\n",
    "}\n",
    "generated quantities{\n",
    "  real tau_fs;                      // finite-sample average treatment effect  \n",
    "  real y0[N];                       // potential outcome if W = 0\n",
    "  real y1[N];                       // potential outcome if W = 1\n",
    "  real tau_unit[N];                 // unit-level treatment effect\n",
    "  for(n in 1:N){\n",
    "    real mu_c = alpha;            \n",
    "    real mu_t = alpha + tau;      \n",
    "    if(w[n] == 1){                \n",
    "      y0[n] = normal_rng(mu_c + rho*(sigma_c/sigma_t)*(y[n] - mu_t), sigma_c*sqrt(1 - rho^2)); \n",
    "      y1[n] = y[n];\n",
    "    }else{                        \n",
    "      y0[n] = y[n];       \n",
    "      y1[n] = normal_rng(mu_t + rho*(sigma_t/sigma_c)*(y[n] - mu_c), sigma_t*sqrt(1 - rho^2)); \n",
    "    }\n",
    "    tau_unit[n] = y1[n] - y0[n];\n",
    "  }\n",
    "  tau_fs = mean(tau_unit);        \n",
    "}\n",
    "\n",
    "\"\"\""
   ]
  },
  {
   "cell_type": "code",
   "execution_count": 11,
   "metadata": {
    "colab": {
     "base_uri": "https://localhost:8080/"
    },
    "id": "VV8bc89RHVr6",
    "outputId": "9ff006d4-5009-4588-f3ed-6453e0b3cb92"
   },
   "outputs": [
    {
     "name": "stderr",
     "output_type": "stream",
     "text": [
      "INFO:pystan:COMPILING THE C++ CODE FOR MODEL anon_model_384bd7d86f218945cd76179a6faaa753 NOW.\n",
      "WARNING:pystan:Maximum (flat) parameter count (1000) exceeded: skipping diagnostic tests for n_eff and Rhat.\n",
      "To run all diagnostics call pystan.check_hmc_diagnostics(fit)\n"
     ]
    }
   ],
   "source": [
    "stan_data1 = {'N':df1.shape[0], 'y':df1.y_obs, 'w':df1.w, 'rho':0.0}\n",
    "sm1 = pystan.StanModel(model_code=simulated_example)\n",
    "fit1 = sm1.sampling(data=stan_data1, iter=1000, chains=4)"
   ]
  },
  {
   "cell_type": "markdown",
   "metadata": {
    "id": "rv0dMfcxHH7h"
   },
   "source": [
    "## 1.3. Results"
   ]
  },
  {
   "cell_type": "code",
   "execution_count": 12,
   "metadata": {
    "colab": {
     "base_uri": "https://localhost:8080/",
     "height": 195
    },
    "id": "KTCeS8xbHX8H",
    "outputId": "882d203b-6e3b-4ec4-ed33-b52a48954da7"
   },
   "outputs": [
    {
     "data": {
      "text/html": [
       "<div>\n",
       "<style scoped>\n",
       "    .dataframe tbody tr th:only-of-type {\n",
       "        vertical-align: middle;\n",
       "    }\n",
       "\n",
       "    .dataframe tbody tr th {\n",
       "        vertical-align: top;\n",
       "    }\n",
       "\n",
       "    .dataframe thead th {\n",
       "        text-align: right;\n",
       "    }\n",
       "</style>\n",
       "<table border=\"1\" class=\"dataframe\">\n",
       "  <thead>\n",
       "    <tr style=\"text-align: right;\">\n",
       "      <th></th>\n",
       "      <th>mean</th>\n",
       "      <th>se_mean</th>\n",
       "      <th>sd</th>\n",
       "      <th>2.5%</th>\n",
       "      <th>25%</th>\n",
       "      <th>50%</th>\n",
       "      <th>75%</th>\n",
       "      <th>97.5%</th>\n",
       "      <th>n_eff</th>\n",
       "      <th>Rhat</th>\n",
       "    </tr>\n",
       "  </thead>\n",
       "  <tbody>\n",
       "    <tr>\n",
       "      <th>alpha</th>\n",
       "      <td>1.029552</td>\n",
       "      <td>0.001677</td>\n",
       "      <td>0.061881</td>\n",
       "      <td>0.911718</td>\n",
       "      <td>0.989783</td>\n",
       "      <td>1.027673</td>\n",
       "      <td>1.071892</td>\n",
       "      <td>1.154690</td>\n",
       "      <td>1362.248554</td>\n",
       "      <td>0.999968</td>\n",
       "    </tr>\n",
       "    <tr>\n",
       "      <th>tau</th>\n",
       "      <td>0.222783</td>\n",
       "      <td>0.002401</td>\n",
       "      <td>0.086670</td>\n",
       "      <td>0.049028</td>\n",
       "      <td>0.164715</td>\n",
       "      <td>0.225317</td>\n",
       "      <td>0.281668</td>\n",
       "      <td>0.385602</td>\n",
       "      <td>1302.514041</td>\n",
       "      <td>1.002737</td>\n",
       "    </tr>\n",
       "    <tr>\n",
       "      <th>tau_fs</th>\n",
       "      <td>0.225520</td>\n",
       "      <td>0.001494</td>\n",
       "      <td>0.059960</td>\n",
       "      <td>0.104208</td>\n",
       "      <td>0.185244</td>\n",
       "      <td>0.226522</td>\n",
       "      <td>0.265273</td>\n",
       "      <td>0.346139</td>\n",
       "      <td>1611.539605</td>\n",
       "      <td>0.999598</td>\n",
       "    </tr>\n",
       "    <tr>\n",
       "      <th>sigma_c</th>\n",
       "      <td>0.957223</td>\n",
       "      <td>0.000985</td>\n",
       "      <td>0.043764</td>\n",
       "      <td>0.874038</td>\n",
       "      <td>0.927653</td>\n",
       "      <td>0.956082</td>\n",
       "      <td>0.984840</td>\n",
       "      <td>1.047381</td>\n",
       "      <td>1975.788099</td>\n",
       "      <td>1.000683</td>\n",
       "    </tr>\n",
       "    <tr>\n",
       "      <th>sigma_t</th>\n",
       "      <td>0.944845</td>\n",
       "      <td>0.000988</td>\n",
       "      <td>0.042501</td>\n",
       "      <td>0.865190</td>\n",
       "      <td>0.915877</td>\n",
       "      <td>0.943799</td>\n",
       "      <td>0.973423</td>\n",
       "      <td>1.031758</td>\n",
       "      <td>1851.452370</td>\n",
       "      <td>0.999445</td>\n",
       "    </tr>\n",
       "  </tbody>\n",
       "</table>\n",
       "</div>"
      ],
      "text/plain": [
       "             mean   se_mean        sd  ...     97.5%        n_eff      Rhat\n",
       "alpha    1.029552  0.001677  0.061881  ...  1.154690  1362.248554  0.999968\n",
       "tau      0.222783  0.002401  0.086670  ...  0.385602  1302.514041  1.002737\n",
       "tau_fs   0.225520  0.001494  0.059960  ...  0.346139  1611.539605  0.999598\n",
       "sigma_c  0.957223  0.000985  0.043764  ...  1.047381  1975.788099  1.000683\n",
       "sigma_t  0.944845  0.000988  0.042501  ...  1.031758  1851.452370  0.999445\n",
       "\n",
       "[5 rows x 10 columns]"
      ]
     },
     "execution_count": 12,
     "metadata": {
      "tags": []
     },
     "output_type": "execute_result"
    }
   ],
   "source": [
    "#print(fit)\n",
    "summary_dict = fit1.summary()\n",
    "#pars = fit.model_pars\n",
    "df = pd.DataFrame(summary_dict['summary'], \n",
    "                  columns=summary_dict['summary_colnames'], \n",
    "                  index=summary_dict['summary_rownames'])\n",
    "\n",
    "df.loc[[\"alpha\", \"tau\", \"tau_fs\", \"sigma_c\", \"sigma_t\"]]"
   ]
  },
  {
   "cell_type": "code",
   "execution_count": 13,
   "metadata": {
    "colab": {
     "base_uri": "https://localhost:8080/",
     "height": 330
    },
    "id": "nsagLGqGM2Mb",
    "outputId": "c0559beb-9fcf-428c-e8e8-4248e978c9d1"
   },
   "outputs": [
    {
     "data": {
      "text/plain": [
       "<matplotlib.axes._subplots.AxesSubplot at 0x7f135e9c67b8>"
      ]
     },
     "execution_count": 13,
     "metadata": {
      "tags": []
     },
     "output_type": "execute_result"
    },
    {
     "data": {
      "image/png": "[encoded data removed]",
      "text/plain": [
       "<Figure size 432x288 with 1 Axes>"
      ]
     },
     "metadata": {
      "tags": []
     },
     "output_type": "display_data"
    }
   ],
   "source": [
    "inf_data = az.convert_to_inference_data(fit1)\n",
    "az.plot_energy(inf_data)"
   ]
  },
  {
   "cell_type": "code",
   "execution_count": 14,
   "metadata": {
    "colab": {
     "base_uri": "https://localhost:8080/",
     "height": 805
    },
    "id": "_rgbObZyPPk2",
    "outputId": "148cf72b-32cb-4ec5-8743-fb11f92e0502"
   },
   "outputs": [
    {
     "data": {
      "text/plain": [
       "array([[<matplotlib.axes._subplots.AxesSubplot object at 0x7f135b890a90>,\n",
       "        <matplotlib.axes._subplots.AxesSubplot object at 0x7f13538108d0>,\n",
       "        <matplotlib.axes._subplots.AxesSubplot object at 0x7f135b879908>],\n",
       "       [<matplotlib.axes._subplots.AxesSubplot object at 0x7f135337b940>,\n",
       "        <matplotlib.axes._subplots.AxesSubplot object at 0x7f1353333978>,\n",
       "        <matplotlib.axes._subplots.AxesSubplot object at 0x7f13532ea9b0>]],\n",
       "      dtype=object)"
      ]
     },
     "execution_count": 14,
     "metadata": {
      "tags": []
     },
     "output_type": "execute_result"
    },
    {
     "data": {
      "image/png": "[encoded data removed]",
      "text/plain": [
       "<Figure size 1490.4x662.4 with 6 Axes>"
      ]
     },
     "metadata": {
      "needs_background": "light",
      "tags": []
     },
     "output_type": "display_data"
    }
   ],
   "source": [
    "az.plot_density(inf_data, var_names = [\"alpha\", \"tau\", \"tau_fs\", \"sigma_c\", \"sigma_t\"], hdi_prob =.95, hdi_markers='v', shade =.5)"
   ]
  },
  {
   "cell_type": "code",
   "execution_count": 15,
   "metadata": {
    "colab": {
     "base_uri": "https://localhost:8080/"
    },
    "id": "cRyzICEFQvRz",
    "outputId": "77c598e7-a50e-4411-a8bb-bb08c8c0a13f"
   },
   "outputs": [
    {
     "name": "stdout",
     "output_type": "stream",
     "text": [
      "(500, 4, 1506)\n"
     ]
    }
   ],
   "source": [
    "## return an array of three dimensions: iterations, chains, parameters\n",
    "posterior = fit1.extract(permuted=False)\n",
    "print(posterior.shape)"
   ]
  },
  {
   "cell_type": "code",
   "execution_count": 16,
   "metadata": {
    "colab": {
     "base_uri": "https://localhost:8080/"
    },
    "id": "3XwC9D7U313K",
    "outputId": "ee3b39e2-3649-49a2-bcd5-64442b0f53a7"
   },
   "outputs": [
    {
     "data": {
      "text/plain": [
       "(2000, 500)"
      ]
     },
     "execution_count": 16,
     "metadata": {
      "tags": []
     },
     "output_type": "execute_result"
    }
   ],
   "source": [
    "# Collect MCMC samples for the missing potential outcomes\n",
    "mcmc = fit1.extract(permuted=True)\n",
    "mcmc['y0'].shape # 2000 samples (4 chains x 500 each) x for each of the 500 obs"
   ]
  },
  {
   "cell_type": "code",
   "execution_count": 17,
   "metadata": {
    "colab": {
     "base_uri": "https://localhost:8080/"
    },
    "id": "AxZ8jrTT4L4I",
    "outputId": "850eb270-1ed8-4de4-9344-ce2e33132417"
   },
   "outputs": [
    {
     "data": {
      "text/plain": [
       "(2000,)"
      ]
     },
     "execution_count": 17,
     "metadata": {
      "tags": []
     },
     "output_type": "execute_result"
    }
   ],
   "source": [
    "mcmc['y0'][:,0].shape # all samples for first obs"
   ]
  },
  {
   "cell_type": "code",
   "execution_count": 18,
   "metadata": {
    "colab": {
     "base_uri": "https://localhost:8080/"
    },
    "id": "k1S1V34M4hjo",
    "outputId": "5897fe9c-e2e8-44c8-f4d0-43a4b62e543a"
   },
   "outputs": [
    {
     "data": {
      "text/plain": [
       "array([0.79529234, 0.79529234, 0.79529234, ..., 0.79529234, 0.79529234,\n",
       "       0.79529234])"
      ]
     },
     "execution_count": 18,
     "metadata": {
      "tags": []
     },
     "output_type": "execute_result"
    }
   ],
   "source": [
    "mcmc['y0'][:,0] # becuase first obs is w=0 => all values comes from y_obs, whereas mcmc['y1'][:,0] comes from the posterior distribition of missing values"
   ]
  },
  {
   "cell_type": "code",
   "execution_count": 19,
   "metadata": {
    "colab": {
     "base_uri": "https://localhost:8080/"
    },
    "id": "qLi2ETJY4-4d",
    "outputId": "bf276aba-50ef-4e73-9636-51fc993ff6e7"
   },
   "outputs": [
    {
     "data": {
      "text/plain": [
       "array([0.95516739, 0.09313324, 0.24836934, ..., 2.88904433, 1.58212788,\n",
       "       0.62030421])"
      ]
     },
     "execution_count": 19,
     "metadata": {
      "tags": []
     },
     "output_type": "execute_result"
    }
   ],
   "source": [
    "mcmc['y1'][:,0]"
   ]
  },
  {
   "cell_type": "markdown",
   "metadata": {
    "id": "_OfmbXujxpD3"
   },
   "source": [
    "# 2. Randomized experiment with covariates"
   ]
  },
  {
   "cell_type": "markdown",
   "metadata": {
    "id": "NL5RN9qNxx01"
   },
   "source": [
    "## 2.1. Sample Data "
   ]
  },
  {
   "cell_type": "code",
   "execution_count": 20,
   "metadata": {
    "colab": {
     "base_uri": "https://localhost:8080/",
     "height": 402
    },
    "id": "R1GfFetfxppJ",
    "outputId": "ef7c0e2e-cb85-4d4a-bde1-2e2cc1dee557"
   },
   "outputs": [
    {
     "data": {
      "text/html": [
       "<div>\n",
       "<style scoped>\n",
       "    .dataframe tbody tr th:only-of-type {\n",
       "        vertical-align: middle;\n",
       "    }\n",
       "\n",
       "    .dataframe tbody tr th {\n",
       "        vertical-align: top;\n",
       "    }\n",
       "\n",
       "    .dataframe thead th {\n",
       "        text-align: right;\n",
       "    }\n",
       "</style>\n",
       "<table border=\"1\" class=\"dataframe\">\n",
       "  <thead>\n",
       "    <tr style=\"text-align: right;\">\n",
       "      <th></th>\n",
       "      <th>y_obs</th>\n",
       "      <th>y_mis</th>\n",
       "      <th>y0</th>\n",
       "      <th>y1</th>\n",
       "      <th>tau_unit</th>\n",
       "      <th>w</th>\n",
       "      <th>X1</th>\n",
       "      <th>X2</th>\n",
       "      <th>X3</th>\n",
       "      <th>X4</th>\n",
       "      <th>X5</th>\n",
       "    </tr>\n",
       "  </thead>\n",
       "  <tbody>\n",
       "    <tr>\n",
       "      <th>0</th>\n",
       "      <td>6.266737</td>\n",
       "      <td>0.519771</td>\n",
       "      <td>0.519771</td>\n",
       "      <td>6.266737</td>\n",
       "      <td>5.746966</td>\n",
       "      <td>1</td>\n",
       "      <td>-0.204708</td>\n",
       "      <td>0.478943</td>\n",
       "      <td>-0.519439</td>\n",
       "      <td>-0.555730</td>\n",
       "      <td>1.965781</td>\n",
       "    </tr>\n",
       "    <tr>\n",
       "      <th>1</th>\n",
       "      <td>2.383818</td>\n",
       "      <td>2.624701</td>\n",
       "      <td>2.624701</td>\n",
       "      <td>2.383818</td>\n",
       "      <td>-0.240883</td>\n",
       "      <td>1</td>\n",
       "      <td>1.393406</td>\n",
       "      <td>0.092908</td>\n",
       "      <td>0.281746</td>\n",
       "      <td>0.769023</td>\n",
       "      <td>1.246435</td>\n",
       "    </tr>\n",
       "    <tr>\n",
       "      <th>2</th>\n",
       "      <td>0.617474</td>\n",
       "      <td>3.833803</td>\n",
       "      <td>0.617474</td>\n",
       "      <td>3.833803</td>\n",
       "      <td>3.216329</td>\n",
       "      <td>0</td>\n",
       "      <td>1.007189</td>\n",
       "      <td>-1.296221</td>\n",
       "      <td>0.274992</td>\n",
       "      <td>0.228913</td>\n",
       "      <td>1.352917</td>\n",
       "    </tr>\n",
       "    <tr>\n",
       "      <th>3</th>\n",
       "      <td>0.922897</td>\n",
       "      <td>2.223415</td>\n",
       "      <td>0.922897</td>\n",
       "      <td>2.223415</td>\n",
       "      <td>1.300517</td>\n",
       "      <td>0</td>\n",
       "      <td>0.886429</td>\n",
       "      <td>-2.001637</td>\n",
       "      <td>-0.371843</td>\n",
       "      <td>1.669025</td>\n",
       "      <td>-0.438570</td>\n",
       "    </tr>\n",
       "    <tr>\n",
       "      <th>4</th>\n",
       "      <td>-1.265838</td>\n",
       "      <td>-2.598899</td>\n",
       "      <td>-2.598899</td>\n",
       "      <td>-1.265838</td>\n",
       "      <td>1.333061</td>\n",
       "      <td>1</td>\n",
       "      <td>-0.539741</td>\n",
       "      <td>0.476985</td>\n",
       "      <td>3.248944</td>\n",
       "      <td>-1.021228</td>\n",
       "      <td>-0.577087</td>\n",
       "    </tr>\n",
       "    <tr>\n",
       "      <th>...</th>\n",
       "      <td>...</td>\n",
       "      <td>...</td>\n",
       "      <td>...</td>\n",
       "      <td>...</td>\n",
       "      <td>...</td>\n",
       "      <td>...</td>\n",
       "      <td>...</td>\n",
       "      <td>...</td>\n",
       "      <td>...</td>\n",
       "      <td>...</td>\n",
       "      <td>...</td>\n",
       "    </tr>\n",
       "    <tr>\n",
       "      <th>495</th>\n",
       "      <td>1.219681</td>\n",
       "      <td>-2.616722</td>\n",
       "      <td>-2.616722</td>\n",
       "      <td>1.219681</td>\n",
       "      <td>3.836402</td>\n",
       "      <td>1</td>\n",
       "      <td>-2.490860</td>\n",
       "      <td>0.468027</td>\n",
       "      <td>-0.343683</td>\n",
       "      <td>-1.428207</td>\n",
       "      <td>0.969402</td>\n",
       "    </tr>\n",
       "    <tr>\n",
       "      <th>496</th>\n",
       "      <td>3.932656</td>\n",
       "      <td>3.055717</td>\n",
       "      <td>3.055717</td>\n",
       "      <td>3.932656</td>\n",
       "      <td>0.876938</td>\n",
       "      <td>1</td>\n",
       "      <td>-1.026410</td>\n",
       "      <td>1.097896</td>\n",
       "      <td>-2.216861</td>\n",
       "      <td>-1.681929</td>\n",
       "      <td>-0.375497</td>\n",
       "    </tr>\n",
       "    <tr>\n",
       "      <th>497</th>\n",
       "      <td>0.241502</td>\n",
       "      <td>2.212151</td>\n",
       "      <td>0.241502</td>\n",
       "      <td>2.212151</td>\n",
       "      <td>1.970649</td>\n",
       "      <td>0</td>\n",
       "      <td>-0.764114</td>\n",
       "      <td>1.500305</td>\n",
       "      <td>1.256951</td>\n",
       "      <td>1.685727</td>\n",
       "      <td>0.722659</td>\n",
       "    </tr>\n",
       "    <tr>\n",
       "      <th>498</th>\n",
       "      <td>1.025913</td>\n",
       "      <td>2.117330</td>\n",
       "      <td>2.117330</td>\n",
       "      <td>1.025913</td>\n",
       "      <td>-1.091416</td>\n",
       "      <td>1</td>\n",
       "      <td>0.940711</td>\n",
       "      <td>0.594283</td>\n",
       "      <td>0.186224</td>\n",
       "      <td>-0.656066</td>\n",
       "      <td>0.379592</td>\n",
       "    </tr>\n",
       "    <tr>\n",
       "      <th>499</th>\n",
       "      <td>0.957085</td>\n",
       "      <td>3.124928</td>\n",
       "      <td>0.957085</td>\n",
       "      <td>3.124928</td>\n",
       "      <td>2.167843</td>\n",
       "      <td>0</td>\n",
       "      <td>-0.319952</td>\n",
       "      <td>-0.816299</td>\n",
       "      <td>-0.599823</td>\n",
       "      <td>1.472026</td>\n",
       "      <td>0.946842</td>\n",
       "    </tr>\n",
       "  </tbody>\n",
       "</table>\n",
       "<p>500 rows × 11 columns</p>\n",
       "</div>"
      ],
      "text/plain": [
       "        y_obs     y_mis        y0  ...        X3        X4        X5\n",
       "0    6.266737  0.519771  0.519771  ... -0.519439 -0.555730  1.965781\n",
       "1    2.383818  2.624701  2.624701  ...  0.281746  0.769023  1.246435\n",
       "2    0.617474  3.833803  0.617474  ...  0.274992  0.228913  1.352917\n",
       "3    0.922897  2.223415  0.922897  ... -0.371843  1.669025 -0.438570\n",
       "4   -1.265838 -2.598899 -2.598899  ...  3.248944 -1.021228 -0.577087\n",
       "..        ...       ...       ...  ...       ...       ...       ...\n",
       "495  1.219681 -2.616722 -2.616722  ... -0.343683 -1.428207  0.969402\n",
       "496  3.932656  3.055717  3.055717  ... -2.216861 -1.681929 -0.375497\n",
       "497  0.241502  2.212151  0.241502  ...  1.256951  1.685727  0.722659\n",
       "498  1.025913  2.117330  2.117330  ...  0.186224 -0.656066  0.379592\n",
       "499  0.957085  3.124928  0.957085  ... -0.599823  1.472026  0.946842\n",
       "\n",
       "[500 rows x 11 columns]"
      ]
     },
     "execution_count": 20,
     "metadata": {
      "tags": []
     },
     "output_type": "execute_result"
    }
   ],
   "source": [
    "dgp = DataGeneratingProcess(covariates=True, seed=12345)\n",
    "r = dgp.generate_data()\n",
    "df2 = r.df\n",
    "df2"
   ]
  },
  {
   "cell_type": "code",
   "execution_count": 21,
   "metadata": {
    "colab": {
     "base_uri": "https://localhost:8080/",
     "height": 418
    },
    "id": "PzJlMDMA0QUE",
    "outputId": "cb280b13-5790-4117-f269-d1393ed1cdd8"
   },
   "outputs": [
    {
     "name": "stderr",
     "output_type": "stream",
     "text": [
      "INFO:numexpr.utils:NumExpr defaulting to 2 threads.\n"
     ]
    },
    {
     "data": {
      "text/html": [
       "<div>\n",
       "<style scoped>\n",
       "    .dataframe tbody tr th:only-of-type {\n",
       "        vertical-align: middle;\n",
       "    }\n",
       "\n",
       "    .dataframe tbody tr th {\n",
       "        vertical-align: top;\n",
       "    }\n",
       "\n",
       "    .dataframe thead th {\n",
       "        text-align: right;\n",
       "    }\n",
       "</style>\n",
       "<table border=\"1\" class=\"dataframe\">\n",
       "  <thead>\n",
       "    <tr style=\"text-align: right;\">\n",
       "      <th></th>\n",
       "      <th>y_obs</th>\n",
       "      <th>y_mis</th>\n",
       "      <th>y0</th>\n",
       "      <th>y1</th>\n",
       "      <th>tau_unit</th>\n",
       "      <th>w</th>\n",
       "      <th>X1</th>\n",
       "      <th>X2</th>\n",
       "      <th>X3</th>\n",
       "      <th>X4</th>\n",
       "      <th>X5</th>\n",
       "      <th>wX1</th>\n",
       "      <th>wX2</th>\n",
       "      <th>wX3</th>\n",
       "      <th>wX4</th>\n",
       "      <th>wX5</th>\n",
       "    </tr>\n",
       "  </thead>\n",
       "  <tbody>\n",
       "    <tr>\n",
       "      <th>0</th>\n",
       "      <td>6.266737</td>\n",
       "      <td>0.519771</td>\n",
       "      <td>0.519771</td>\n",
       "      <td>6.266737</td>\n",
       "      <td>5.746966</td>\n",
       "      <td>1</td>\n",
       "      <td>-0.204708</td>\n",
       "      <td>0.478943</td>\n",
       "      <td>-0.519439</td>\n",
       "      <td>-0.555730</td>\n",
       "      <td>1.965781</td>\n",
       "      <td>-0.204708</td>\n",
       "      <td>0.478943</td>\n",
       "      <td>-0.519439</td>\n",
       "      <td>-0.555730</td>\n",
       "      <td>1.965781</td>\n",
       "    </tr>\n",
       "    <tr>\n",
       "      <th>1</th>\n",
       "      <td>2.383818</td>\n",
       "      <td>2.624701</td>\n",
       "      <td>2.624701</td>\n",
       "      <td>2.383818</td>\n",
       "      <td>-0.240883</td>\n",
       "      <td>1</td>\n",
       "      <td>1.393406</td>\n",
       "      <td>0.092908</td>\n",
       "      <td>0.281746</td>\n",
       "      <td>0.769023</td>\n",
       "      <td>1.246435</td>\n",
       "      <td>1.393406</td>\n",
       "      <td>0.092908</td>\n",
       "      <td>0.281746</td>\n",
       "      <td>0.769023</td>\n",
       "      <td>1.246435</td>\n",
       "    </tr>\n",
       "    <tr>\n",
       "      <th>2</th>\n",
       "      <td>0.617474</td>\n",
       "      <td>3.833803</td>\n",
       "      <td>0.617474</td>\n",
       "      <td>3.833803</td>\n",
       "      <td>3.216329</td>\n",
       "      <td>0</td>\n",
       "      <td>1.007189</td>\n",
       "      <td>-1.296221</td>\n",
       "      <td>0.274992</td>\n",
       "      <td>0.228913</td>\n",
       "      <td>1.352917</td>\n",
       "      <td>0.000000</td>\n",
       "      <td>-0.000000</td>\n",
       "      <td>0.000000</td>\n",
       "      <td>0.000000</td>\n",
       "      <td>0.000000</td>\n",
       "    </tr>\n",
       "    <tr>\n",
       "      <th>3</th>\n",
       "      <td>0.922897</td>\n",
       "      <td>2.223415</td>\n",
       "      <td>0.922897</td>\n",
       "      <td>2.223415</td>\n",
       "      <td>1.300517</td>\n",
       "      <td>0</td>\n",
       "      <td>0.886429</td>\n",
       "      <td>-2.001637</td>\n",
       "      <td>-0.371843</td>\n",
       "      <td>1.669025</td>\n",
       "      <td>-0.438570</td>\n",
       "      <td>0.000000</td>\n",
       "      <td>-0.000000</td>\n",
       "      <td>-0.000000</td>\n",
       "      <td>0.000000</td>\n",
       "      <td>-0.000000</td>\n",
       "    </tr>\n",
       "    <tr>\n",
       "      <th>4</th>\n",
       "      <td>-1.265838</td>\n",
       "      <td>-2.598899</td>\n",
       "      <td>-2.598899</td>\n",
       "      <td>-1.265838</td>\n",
       "      <td>1.333061</td>\n",
       "      <td>1</td>\n",
       "      <td>-0.539741</td>\n",
       "      <td>0.476985</td>\n",
       "      <td>3.248944</td>\n",
       "      <td>-1.021228</td>\n",
       "      <td>-0.577087</td>\n",
       "      <td>-0.539741</td>\n",
       "      <td>0.476985</td>\n",
       "      <td>3.248944</td>\n",
       "      <td>-1.021228</td>\n",
       "      <td>-0.577087</td>\n",
       "    </tr>\n",
       "    <tr>\n",
       "      <th>...</th>\n",
       "      <td>...</td>\n",
       "      <td>...</td>\n",
       "      <td>...</td>\n",
       "      <td>...</td>\n",
       "      <td>...</td>\n",
       "      <td>...</td>\n",
       "      <td>...</td>\n",
       "      <td>...</td>\n",
       "      <td>...</td>\n",
       "      <td>...</td>\n",
       "      <td>...</td>\n",
       "      <td>...</td>\n",
       "      <td>...</td>\n",
       "      <td>...</td>\n",
       "      <td>...</td>\n",
       "      <td>...</td>\n",
       "    </tr>\n",
       "    <tr>\n",
       "      <th>495</th>\n",
       "      <td>1.219681</td>\n",
       "      <td>-2.616722</td>\n",
       "      <td>-2.616722</td>\n",
       "      <td>1.219681</td>\n",
       "      <td>3.836402</td>\n",
       "      <td>1</td>\n",
       "      <td>-2.490860</td>\n",
       "      <td>0.468027</td>\n",
       "      <td>-0.343683</td>\n",
       "      <td>-1.428207</td>\n",
       "      <td>0.969402</td>\n",
       "      <td>-2.490860</td>\n",
       "      <td>0.468027</td>\n",
       "      <td>-0.343683</td>\n",
       "      <td>-1.428207</td>\n",
       "      <td>0.969402</td>\n",
       "    </tr>\n",
       "    <tr>\n",
       "      <th>496</th>\n",
       "      <td>3.932656</td>\n",
       "      <td>3.055717</td>\n",
       "      <td>3.055717</td>\n",
       "      <td>3.932656</td>\n",
       "      <td>0.876938</td>\n",
       "      <td>1</td>\n",
       "      <td>-1.026410</td>\n",
       "      <td>1.097896</td>\n",
       "      <td>-2.216861</td>\n",
       "      <td>-1.681929</td>\n",
       "      <td>-0.375497</td>\n",
       "      <td>-1.026410</td>\n",
       "      <td>1.097896</td>\n",
       "      <td>-2.216861</td>\n",
       "      <td>-1.681929</td>\n",
       "      <td>-0.375497</td>\n",
       "    </tr>\n",
       "    <tr>\n",
       "      <th>497</th>\n",
       "      <td>0.241502</td>\n",
       "      <td>2.212151</td>\n",
       "      <td>0.241502</td>\n",
       "      <td>2.212151</td>\n",
       "      <td>1.970649</td>\n",
       "      <td>0</td>\n",
       "      <td>-0.764114</td>\n",
       "      <td>1.500305</td>\n",
       "      <td>1.256951</td>\n",
       "      <td>1.685727</td>\n",
       "      <td>0.722659</td>\n",
       "      <td>-0.000000</td>\n",
       "      <td>0.000000</td>\n",
       "      <td>0.000000</td>\n",
       "      <td>0.000000</td>\n",
       "      <td>0.000000</td>\n",
       "    </tr>\n",
       "    <tr>\n",
       "      <th>498</th>\n",
       "      <td>1.025913</td>\n",
       "      <td>2.117330</td>\n",
       "      <td>2.117330</td>\n",
       "      <td>1.025913</td>\n",
       "      <td>-1.091416</td>\n",
       "      <td>1</td>\n",
       "      <td>0.940711</td>\n",
       "      <td>0.594283</td>\n",
       "      <td>0.186224</td>\n",
       "      <td>-0.656066</td>\n",
       "      <td>0.379592</td>\n",
       "      <td>0.940711</td>\n",
       "      <td>0.594283</td>\n",
       "      <td>0.186224</td>\n",
       "      <td>-0.656066</td>\n",
       "      <td>0.379592</td>\n",
       "    </tr>\n",
       "    <tr>\n",
       "      <th>499</th>\n",
       "      <td>0.957085</td>\n",
       "      <td>3.124928</td>\n",
       "      <td>0.957085</td>\n",
       "      <td>3.124928</td>\n",
       "      <td>2.167843</td>\n",
       "      <td>0</td>\n",
       "      <td>-0.319952</td>\n",
       "      <td>-0.816299</td>\n",
       "      <td>-0.599823</td>\n",
       "      <td>1.472026</td>\n",
       "      <td>0.946842</td>\n",
       "      <td>-0.000000</td>\n",
       "      <td>-0.000000</td>\n",
       "      <td>-0.000000</td>\n",
       "      <td>0.000000</td>\n",
       "      <td>0.000000</td>\n",
       "    </tr>\n",
       "  </tbody>\n",
       "</table>\n",
       "<p>500 rows × 16 columns</p>\n",
       "</div>"
      ],
      "text/plain": [
       "        y_obs     y_mis        y0  ...       wX3       wX4       wX5\n",
       "0    6.266737  0.519771  0.519771  ... -0.519439 -0.555730  1.965781\n",
       "1    2.383818  2.624701  2.624701  ...  0.281746  0.769023  1.246435\n",
       "2    0.617474  3.833803  0.617474  ...  0.000000  0.000000  0.000000\n",
       "3    0.922897  2.223415  0.922897  ... -0.000000  0.000000 -0.000000\n",
       "4   -1.265838 -2.598899 -2.598899  ...  3.248944 -1.021228 -0.577087\n",
       "..        ...       ...       ...  ...       ...       ...       ...\n",
       "495  1.219681 -2.616722 -2.616722  ... -0.343683 -1.428207  0.969402\n",
       "496  3.932656  3.055717  3.055717  ... -2.216861 -1.681929 -0.375497\n",
       "497  0.241502  2.212151  0.241502  ...  0.000000  0.000000  0.000000\n",
       "498  1.025913  2.117330  2.117330  ...  0.186224 -0.656066  0.379592\n",
       "499  0.957085  3.124928  0.957085  ... -0.000000  0.000000  0.000000\n",
       "\n",
       "[500 rows x 16 columns]"
      ]
     },
     "execution_count": 21,
     "metadata": {
      "tags": []
     },
     "output_type": "execute_result"
    }
   ],
   "source": [
    "# Add interaction effects between covariates and treatment\n",
    "df2[[\"wX1\", \"wX2\", \"wX3\", \"wX4\", \"wX5\"]] = df2[[\"X1\", \"X2\", \"X3\", \"X4\", \"X5\"]].multiply(df2[\"w\"], axis=\"index\")\n",
    "df2"
   ]
  },
  {
   "cell_type": "markdown",
   "metadata": {
    "id": "xU1gKjo-yKKB"
   },
   "source": [
    "## 2.2. Fit Model"
   ]
  },
  {
   "cell_type": "code",
   "execution_count": 22,
   "metadata": {
    "id": "JOCmRgLZyEdl"
   },
   "outputs": [],
   "source": [
    "simulated_example2 = \"\"\"\n",
    "\n",
    "data {\n",
    "  int<lower=0> N;                   // sample size\n",
    "  int<lower=0> N_cov;               // number of covariates\n",
    "  vector[N] y;                      // observed outcome\n",
    "  vector[N] w;                      // treatment assigned\n",
    "  matrix[N, N_cov] x;               // covariates\n",
    "  matrix[N, N_cov] xw_inter;        // interaction terms\n",
    "  real<lower=-1,upper=1> rho;       // assumed correlation between the potential outcomes\n",
    "}\n",
    "parameters {\n",
    "  real alpha;                       // intercept\n",
    "  vector[N_cov] beta;               // coefficients for x[N]\n",
    "  vector[N_cov] beta_inter;         // coefficients for x_inter[N] \n",
    "  real tau;                         // super-population average treatment effect\n",
    "  real<lower=0> sigma_c;            // residual SD for the control\n",
    "  real<lower=0> sigma_t;            // residual SD for the treated\n",
    "}\n",
    "model {\n",
    "   // PRIORS\n",
    "   alpha ~ normal(0, 5); \n",
    "   beta ~ normal(0, 100);\n",
    "   beta_inter ~ normal(0, 100);           \n",
    "   tau ~ normal(0, 5);\n",
    "   sigma_c ~ normal(0, 5);          \n",
    "   sigma_t ~ normal(0, 5);\n",
    "\n",
    "   // LIKELIHOOD\n",
    "   y ~ normal(alpha + x*beta + xw_inter*beta_inter + tau * w, sigma_t*w + sigma_c*(1-w));\n",
    "}\n",
    "generated quantities{\n",
    "  real tau_fs;                      // finite-sample average treatment effect  \n",
    "  real y0[N];                       // potential outcome if W = 0\n",
    "  real y1[N];                       // potential outcome if W = 1\n",
    "  real tau_unit[N];                 // unit-level treatment effect\n",
    "  for(n in 1:N){\n",
    "    real mu_c = alpha + x[n,]*beta;        \n",
    "    real mu_t = alpha + x[n,]*beta + x[n, ]*beta_inter + tau;\n",
    "    if(w[n] == 1){                \n",
    "      y0[n] = normal_rng(mu_c + rho*(sigma_c/sigma_t)*(y[n] - mu_t), sigma_c*sqrt(1 - rho^2)); \n",
    "      y1[n] = y[n];\n",
    "    }else{                        \n",
    "      y0[n] = y[n];       \n",
    "      y1[n] = normal_rng(mu_t + rho*(sigma_t/sigma_c)*(y[n] - mu_c), sigma_t*sqrt(1 - rho^2)); \n",
    "    }\n",
    "    tau_unit[n] = y1[n] - y0[n];\n",
    "  }\n",
    "  tau_fs = mean(tau_unit);        \n",
    "}\n",
    "\n",
    "\"\"\""
   ]
  },
  {
   "cell_type": "code",
   "execution_count": 23,
   "metadata": {
    "colab": {
     "base_uri": "https://localhost:8080/"
    },
    "id": "o6gMi36ryVHO",
    "outputId": "e66f3aad-3255-4022-ecdc-200d04dd5ac6"
   },
   "outputs": [
    {
     "name": "stderr",
     "output_type": "stream",
     "text": [
      "INFO:pystan:COMPILING THE C++ CODE FOR MODEL anon_model_f4f2f6fe70cd756ee463371850bc520c NOW.\n",
      "WARNING:pystan:Maximum (flat) parameter count (1000) exceeded: skipping diagnostic tests for n_eff and Rhat.\n",
      "To run all diagnostics call pystan.check_hmc_diagnostics(fit)\n"
     ]
    }
   ],
   "source": [
    "stan_data2 = {'N': df2.shape[0], \n",
    "              'y': df2.y_obs,\n",
    "              'w': df2.w,\n",
    "              'x': df2[[\"X1\", \"X2\", \"X3\", \"X4\", \"X5\"]].values,\n",
    "              'xw_inter': df2[[\"wX1\", \"wX2\", \"wX3\", \"wX4\", \"wX5\"]].values,\n",
    "              'N_cov':5,\n",
    "              'rho':0.0}\n",
    "sm2 = pystan.StanModel(model_code=simulated_example2)\n",
    "fit2 = sm2.sampling(data=stan_data2, iter=1000, chains=4)"
   ]
  },
  {
   "cell_type": "markdown",
   "metadata": {
    "id": "eYJOnTdC8Pl9"
   },
   "source": [
    "## 2.3. Results"
   ]
  },
  {
   "cell_type": "code",
   "execution_count": 24,
   "metadata": {
    "colab": {
     "base_uri": "https://localhost:8080/",
     "height": 508
    },
    "id": "9vxDyK4o7mFC",
    "outputId": "bc057478-aa19-4026-c6aa-a56ca6632387"
   },
   "outputs": [
    {
     "name": "stdout",
     "output_type": "stream",
     "text": [
      "['alpha', 'beta', 'beta_inter', 'tau', 'sigma_c', 'sigma_t', 'tau_fs', 'y0', 'y1', 'tau_unit']\n"
     ]
    },
    {
     "data": {
      "text/html": [
       "<div>\n",
       "<style scoped>\n",
       "    .dataframe tbody tr th:only-of-type {\n",
       "        vertical-align: middle;\n",
       "    }\n",
       "\n",
       "    .dataframe tbody tr th {\n",
       "        vertical-align: top;\n",
       "    }\n",
       "\n",
       "    .dataframe thead th {\n",
       "        text-align: right;\n",
       "    }\n",
       "</style>\n",
       "<table border=\"1\" class=\"dataframe\">\n",
       "  <thead>\n",
       "    <tr style=\"text-align: right;\">\n",
       "      <th></th>\n",
       "      <th>mean</th>\n",
       "      <th>se_mean</th>\n",
       "      <th>sd</th>\n",
       "      <th>2.5%</th>\n",
       "      <th>25%</th>\n",
       "      <th>50%</th>\n",
       "      <th>75%</th>\n",
       "      <th>97.5%</th>\n",
       "      <th>n_eff</th>\n",
       "      <th>Rhat</th>\n",
       "    </tr>\n",
       "  </thead>\n",
       "  <tbody>\n",
       "    <tr>\n",
       "      <th>alpha</th>\n",
       "      <td>1.083410</td>\n",
       "      <td>0.001513</td>\n",
       "      <td>0.071146</td>\n",
       "      <td>0.948068</td>\n",
       "      <td>1.036419</td>\n",
       "      <td>1.083413</td>\n",
       "      <td>1.131155</td>\n",
       "      <td>1.218551</td>\n",
       "      <td>2209.886520</td>\n",
       "      <td>0.999022</td>\n",
       "    </tr>\n",
       "    <tr>\n",
       "      <th>tau</th>\n",
       "      <td>0.185054</td>\n",
       "      <td>0.002172</td>\n",
       "      <td>0.099609</td>\n",
       "      <td>-0.007643</td>\n",
       "      <td>0.117283</td>\n",
       "      <td>0.185529</td>\n",
       "      <td>0.253807</td>\n",
       "      <td>0.380269</td>\n",
       "      <td>2103.331244</td>\n",
       "      <td>0.998699</td>\n",
       "    </tr>\n",
       "    <tr>\n",
       "      <th>tau_fs</th>\n",
       "      <td>0.261120</td>\n",
       "      <td>0.001574</td>\n",
       "      <td>0.071217</td>\n",
       "      <td>0.123089</td>\n",
       "      <td>0.211682</td>\n",
       "      <td>0.259399</td>\n",
       "      <td>0.310604</td>\n",
       "      <td>0.399371</td>\n",
       "      <td>2047.643092</td>\n",
       "      <td>0.999533</td>\n",
       "    </tr>\n",
       "    <tr>\n",
       "      <th>beta[1]</th>\n",
       "      <td>1.435509</td>\n",
       "      <td>0.001364</td>\n",
       "      <td>0.068074</td>\n",
       "      <td>1.296841</td>\n",
       "      <td>1.390648</td>\n",
       "      <td>1.435521</td>\n",
       "      <td>1.479818</td>\n",
       "      <td>1.572084</td>\n",
       "      <td>2492.521941</td>\n",
       "      <td>0.999371</td>\n",
       "    </tr>\n",
       "    <tr>\n",
       "      <th>beta[2]</th>\n",
       "      <td>0.572044</td>\n",
       "      <td>0.001372</td>\n",
       "      <td>0.066468</td>\n",
       "      <td>0.443021</td>\n",
       "      <td>0.525755</td>\n",
       "      <td>0.572053</td>\n",
       "      <td>0.620098</td>\n",
       "      <td>0.693356</td>\n",
       "      <td>2346.394839</td>\n",
       "      <td>0.998228</td>\n",
       "    </tr>\n",
       "    <tr>\n",
       "      <th>beta[3]</th>\n",
       "      <td>-0.989262</td>\n",
       "      <td>0.001511</td>\n",
       "      <td>0.071611</td>\n",
       "      <td>-1.131195</td>\n",
       "      <td>-1.036600</td>\n",
       "      <td>-0.990521</td>\n",
       "      <td>-0.941334</td>\n",
       "      <td>-0.850565</td>\n",
       "      <td>2244.931776</td>\n",
       "      <td>0.998908</td>\n",
       "    </tr>\n",
       "    <tr>\n",
       "      <th>beta[4]</th>\n",
       "      <td>0.054562</td>\n",
       "      <td>0.001394</td>\n",
       "      <td>0.069445</td>\n",
       "      <td>-0.077243</td>\n",
       "      <td>0.006549</td>\n",
       "      <td>0.053787</td>\n",
       "      <td>0.100076</td>\n",
       "      <td>0.194178</td>\n",
       "      <td>2480.365501</td>\n",
       "      <td>0.998557</td>\n",
       "    </tr>\n",
       "    <tr>\n",
       "      <th>beta[5]</th>\n",
       "      <td>0.012837</td>\n",
       "      <td>0.001566</td>\n",
       "      <td>0.075013</td>\n",
       "      <td>-0.136927</td>\n",
       "      <td>-0.036974</td>\n",
       "      <td>0.012527</td>\n",
       "      <td>0.063474</td>\n",
       "      <td>0.159840</td>\n",
       "      <td>2294.778028</td>\n",
       "      <td>0.999127</td>\n",
       "    </tr>\n",
       "    <tr>\n",
       "      <th>beta_inter[1]</th>\n",
       "      <td>-1.309609</td>\n",
       "      <td>0.001811</td>\n",
       "      <td>0.093586</td>\n",
       "      <td>-1.492078</td>\n",
       "      <td>-1.373694</td>\n",
       "      <td>-1.312910</td>\n",
       "      <td>-1.247394</td>\n",
       "      <td>-1.123351</td>\n",
       "      <td>2671.630637</td>\n",
       "      <td>1.000207</td>\n",
       "    </tr>\n",
       "    <tr>\n",
       "      <th>beta_inter[2]</th>\n",
       "      <td>-0.605007</td>\n",
       "      <td>0.001908</td>\n",
       "      <td>0.093016</td>\n",
       "      <td>-0.784869</td>\n",
       "      <td>-0.668166</td>\n",
       "      <td>-0.605629</td>\n",
       "      <td>-0.541934</td>\n",
       "      <td>-0.426648</td>\n",
       "      <td>2376.018010</td>\n",
       "      <td>0.998765</td>\n",
       "    </tr>\n",
       "    <tr>\n",
       "      <th>beta_inter[3]</th>\n",
       "      <td>-0.032880</td>\n",
       "      <td>0.002069</td>\n",
       "      <td>0.094324</td>\n",
       "      <td>-0.222600</td>\n",
       "      <td>-0.090701</td>\n",
       "      <td>-0.032801</td>\n",
       "      <td>0.028650</td>\n",
       "      <td>0.149921</td>\n",
       "      <td>2077.444725</td>\n",
       "      <td>0.999203</td>\n",
       "    </tr>\n",
       "    <tr>\n",
       "      <th>beta_inter[4]</th>\n",
       "      <td>0.430572</td>\n",
       "      <td>0.001945</td>\n",
       "      <td>0.095312</td>\n",
       "      <td>0.239995</td>\n",
       "      <td>0.368024</td>\n",
       "      <td>0.432304</td>\n",
       "      <td>0.495893</td>\n",
       "      <td>0.615675</td>\n",
       "      <td>2401.998631</td>\n",
       "      <td>0.999471</td>\n",
       "    </tr>\n",
       "    <tr>\n",
       "      <th>beta_inter[5]</th>\n",
       "      <td>1.573795</td>\n",
       "      <td>0.002346</td>\n",
       "      <td>0.100999</td>\n",
       "      <td>1.374648</td>\n",
       "      <td>1.506289</td>\n",
       "      <td>1.575129</td>\n",
       "      <td>1.642159</td>\n",
       "      <td>1.778653</td>\n",
       "      <td>1853.563494</td>\n",
       "      <td>1.001456</td>\n",
       "    </tr>\n",
       "    <tr>\n",
       "      <th>sigma_c</th>\n",
       "      <td>1.059026</td>\n",
       "      <td>0.000923</td>\n",
       "      <td>0.048793</td>\n",
       "      <td>0.972227</td>\n",
       "      <td>1.024446</td>\n",
       "      <td>1.057262</td>\n",
       "      <td>1.089863</td>\n",
       "      <td>1.159143</td>\n",
       "      <td>2792.305405</td>\n",
       "      <td>1.000115</td>\n",
       "    </tr>\n",
       "    <tr>\n",
       "      <th>sigma_t</th>\n",
       "      <td>1.069563</td>\n",
       "      <td>0.000928</td>\n",
       "      <td>0.048512</td>\n",
       "      <td>0.979921</td>\n",
       "      <td>1.036196</td>\n",
       "      <td>1.069869</td>\n",
       "      <td>1.101171</td>\n",
       "      <td>1.167702</td>\n",
       "      <td>2735.130381</td>\n",
       "      <td>0.999982</td>\n",
       "    </tr>\n",
       "  </tbody>\n",
       "</table>\n",
       "</div>"
      ],
      "text/plain": [
       "                   mean   se_mean        sd  ...     97.5%        n_eff      Rhat\n",
       "alpha          1.083410  0.001513  0.071146  ...  1.218551  2209.886520  0.999022\n",
       "tau            0.185054  0.002172  0.099609  ...  0.380269  2103.331244  0.998699\n",
       "tau_fs         0.261120  0.001574  0.071217  ...  0.399371  2047.643092  0.999533\n",
       "beta[1]        1.435509  0.001364  0.068074  ...  1.572084  2492.521941  0.999371\n",
       "beta[2]        0.572044  0.001372  0.066468  ...  0.693356  2346.394839  0.998228\n",
       "beta[3]       -0.989262  0.001511  0.071611  ... -0.850565  2244.931776  0.998908\n",
       "beta[4]        0.054562  0.001394  0.069445  ...  0.194178  2480.365501  0.998557\n",
       "beta[5]        0.012837  0.001566  0.075013  ...  0.159840  2294.778028  0.999127\n",
       "beta_inter[1] -1.309609  0.001811  0.093586  ... -1.123351  2671.630637  1.000207\n",
       "beta_inter[2] -0.605007  0.001908  0.093016  ... -0.426648  2376.018010  0.998765\n",
       "beta_inter[3] -0.032880  0.002069  0.094324  ...  0.149921  2077.444725  0.999203\n",
       "beta_inter[4]  0.430572  0.001945  0.095312  ...  0.615675  2401.998631  0.999471\n",
       "beta_inter[5]  1.573795  0.002346  0.100999  ...  1.778653  1853.563494  1.001456\n",
       "sigma_c        1.059026  0.000923  0.048793  ...  1.159143  2792.305405  1.000115\n",
       "sigma_t        1.069563  0.000928  0.048512  ...  1.167702  2735.130381  0.999982\n",
       "\n",
       "[15 rows x 10 columns]"
      ]
     },
     "execution_count": 24,
     "metadata": {
      "tags": []
     },
     "output_type": "execute_result"
    }
   ],
   "source": [
    "#print(fit)\n",
    "pars = fit2.model_pars\n",
    "print(pars)\n",
    "summary_dict = fit2.summary()\n",
    "df = pd.DataFrame(summary_dict['summary'], \n",
    "                  columns=summary_dict['summary_colnames'], \n",
    "                  index=summary_dict['summary_rownames'])\n",
    "df.loc[[\"alpha\", \"tau\", \"tau_fs\", \"beta[1]\", \"beta[2]\", \"beta[3]\", \"beta[4]\", \"beta[5]\",\n",
    "        \"beta_inter[1]\", \"beta_inter[2]\", \"beta_inter[3]\", \"beta_inter[4]\", \"beta_inter[5]\", \n",
    "        \"sigma_c\", \"sigma_t\"]]"
   ]
  },
  {
   "cell_type": "code",
   "execution_count": 25,
   "metadata": {
    "colab": {
     "base_uri": "https://localhost:8080/",
     "height": 330
    },
    "id": "qEAyWYjU8Y50",
    "outputId": "75891121-7d37-457c-88ad-95d825a65e44"
   },
   "outputs": [
    {
     "data": {
      "text/plain": [
       "<matplotlib.axes._subplots.AxesSubplot at 0x7f135db54a90>"
      ]
     },
     "execution_count": 25,
     "metadata": {
      "tags": []
     },
     "output_type": "execute_result"
    },
    {
     "data": {
      "image/png": "[encoded data removed]",
      "text/plain": [
       "<Figure size 432x288 with 1 Axes>"
      ]
     },
     "metadata": {
      "tags": []
     },
     "output_type": "display_data"
    }
   ],
   "source": [
    "inf_data = az.convert_to_inference_data(fit2)\n",
    "az.plot_energy(inf_data)"
   ]
  },
  {
   "cell_type": "code",
   "execution_count": 26,
   "metadata": {
    "colab": {
     "base_uri": "https://localhost:8080/",
     "height": 1000
    },
    "id": "AwpBxsM68cd3",
    "outputId": "c66d31d2-b1ee-4913-b3f9-f45ed26769fc"
   },
   "outputs": [
    {
     "data": {
      "text/plain": [
       "array([[<matplotlib.axes._subplots.AxesSubplot object at 0x7f135db5f908>,\n",
       "        <matplotlib.axes._subplots.AxesSubplot object at 0x7f134f7867b8>,\n",
       "        <matplotlib.axes._subplots.AxesSubplot object at 0x7f134f874940>],\n",
       "       [<matplotlib.axes._subplots.AxesSubplot object at 0x7f134f6c5ac8>,\n",
       "        <matplotlib.axes._subplots.AxesSubplot object at 0x7f134f674c50>,\n",
       "        <matplotlib.axes._subplots.AxesSubplot object at 0x7f134f628dd8>],\n",
       "       [<matplotlib.axes._subplots.AxesSubplot object at 0x7f134f65a978>,\n",
       "        <matplotlib.axes._subplots.AxesSubplot object at 0x7f134f60f7f0>,\n",
       "        <matplotlib.axes._subplots.AxesSubplot object at 0x7f134f5c6978>],\n",
       "       [<matplotlib.axes._subplots.AxesSubplot object at 0x7f134f578b00>,\n",
       "        <matplotlib.axes._subplots.AxesSubplot object at 0x7f134f5335c0>,\n",
       "        <matplotlib.axes._subplots.AxesSubplot object at 0x7f134f4e9748>],\n",
       "       [<matplotlib.axes._subplots.AxesSubplot object at 0x7f134f49f8d0>,\n",
       "        <matplotlib.axes._subplots.AxesSubplot object at 0x7f134f4d6a58>,\n",
       "        <matplotlib.axes._subplots.AxesSubplot object at 0x7f134f48bbe0>]],\n",
       "      dtype=object)"
      ]
     },
     "execution_count": 26,
     "metadata": {
      "tags": []
     },
     "output_type": "execute_result"
    },
    {
     "data": {
      "image/png": "[encoded data removed]",
      "text/plain": [
       "<Figure size 1490.4x1656 with 15 Axes>"
      ]
     },
     "metadata": {
      "needs_background": "light",
      "tags": []
     },
     "output_type": "display_data"
    }
   ],
   "source": [
    "az.plot_density(inf_data, var_names = [\"alpha\", \"tau\", \"beta\", \"beta_inter\", \"tau_fs\", \"sigma_c\", \"sigma_t\"], \n",
    "                hdi_prob =.80, hdi_markers='v', shade =.5)"
   ]
  },
  {
   "cell_type": "code",
   "execution_count": 27,
   "metadata": {
    "colab": {
     "base_uri": "https://localhost:8080/",
     "height": 966
    },
    "id": "F-IpcWQp-ixh",
    "outputId": "4d757c71-de2d-44e1-8bce-28c7f1c105d4"
   },
   "outputs": [
    {
     "name": "stderr",
     "output_type": "stream",
     "text": [
      "/usr/local/lib/python3.6/dist-packages/seaborn/distributions.py:2557: FutureWarning: `distplot` is a deprecated function and will be removed in a future version. Please adapt your code to use either `displot` (a figure-level function with similar flexibility) or `histplot` (an axes-level function for histograms).\n",
      "  warnings.warn(msg, FutureWarning)\n",
      "/usr/local/lib/python3.6/dist-packages/seaborn/distributions.py:2557: FutureWarning: `distplot` is a deprecated function and will be removed in a future version. Please adapt your code to use either `displot` (a figure-level function with similar flexibility) or `histplot` (an axes-level function for histograms).\n",
      "  warnings.warn(msg, FutureWarning)\n",
      "/usr/local/lib/python3.6/dist-packages/seaborn/distributions.py:2557: FutureWarning: `distplot` is a deprecated function and will be removed in a future version. Please adapt your code to use either `displot` (a figure-level function with similar flexibility) or `histplot` (an axes-level function for histograms).\n",
      "  warnings.warn(msg, FutureWarning)\n",
      "/usr/local/lib/python3.6/dist-packages/seaborn/distributions.py:2557: FutureWarning: `distplot` is a deprecated function and will be removed in a future version. Please adapt your code to use either `displot` (a figure-level function with similar flexibility) or `histplot` (an axes-level function for histograms).\n",
      "  warnings.warn(msg, FutureWarning)\n",
      "/usr/local/lib/python3.6/dist-packages/seaborn/distributions.py:2557: FutureWarning: `distplot` is a deprecated function and will be removed in a future version. Please adapt your code to use either `displot` (a figure-level function with similar flexibility) or `histplot` (an axes-level function for histograms).\n",
      "  warnings.warn(msg, FutureWarning)\n",
      "/usr/local/lib/python3.6/dist-packages/seaborn/distributions.py:2557: FutureWarning: `distplot` is a deprecated function and will be removed in a future version. Please adapt your code to use either `displot` (a figure-level function with similar flexibility) or `histplot` (an axes-level function for histograms).\n",
      "  warnings.warn(msg, FutureWarning)\n",
      "/usr/local/lib/python3.6/dist-packages/seaborn/distributions.py:2557: FutureWarning: `distplot` is a deprecated function and will be removed in a future version. Please adapt your code to use either `displot` (a figure-level function with similar flexibility) or `histplot` (an axes-level function for histograms).\n",
      "  warnings.warn(msg, FutureWarning)\n",
      "/usr/local/lib/python3.6/dist-packages/seaborn/distributions.py:2557: FutureWarning: `distplot` is a deprecated function and will be removed in a future version. Please adapt your code to use either `displot` (a figure-level function with similar flexibility) or `histplot` (an axes-level function for histograms).\n",
      "  warnings.warn(msg, FutureWarning)\n",
      "/usr/local/lib/python3.6/dist-packages/seaborn/distributions.py:2557: FutureWarning: `distplot` is a deprecated function and will be removed in a future version. Please adapt your code to use either `displot` (a figure-level function with similar flexibility) or `histplot` (an axes-level function for histograms).\n",
      "  warnings.warn(msg, FutureWarning)\n",
      "/usr/local/lib/python3.6/dist-packages/seaborn/distributions.py:2557: FutureWarning: `distplot` is a deprecated function and will be removed in a future version. Please adapt your code to use either `displot` (a figure-level function with similar flexibility) or `histplot` (an axes-level function for histograms).\n",
      "  warnings.warn(msg, FutureWarning)\n"
     ]
    },
    {
     "data": {
      "image/png": "[encoded data removed]",
      "text/plain": [
       "<Figure size 2160x720 with 10 Axes>"
      ]
     },
     "metadata": {
      "needs_background": "light",
      "tags": []
     },
     "output_type": "display_data"
    }
   ],
   "source": [
    "samples = fit2.extract(permuted=True)\n",
    "\n",
    "# Since the beta_inter represents the difference bewteen beta_t - beta_c, and beta = beta_c, we can derive beta_t = beta_inter + beta_c\n",
    "post_beta_c = pd.DataFrame(samples['beta'], columns=['b_c_1','b_c_2','b_c_3','b_c_4','b_c_5']) # 2000 samples (4 chains x 500 each -> half of inter=1000)\n",
    "post_beta_t = pd.DataFrame(samples['beta_inter'] + samples['beta'], columns=['b_t_1','b_t_2','b_t_3','b_t_4','b_t_5'])\n",
    "\n",
    "# Plot true vs posterior distribution for each beta\n",
    "f, axes = plt.subplots(2, 5, figsize=(30, 10), sharex=True)\n",
    "\n",
    "plc1 = sns.distplot(post_beta_c[\"b_c_1\"] , color=\"skyblue\", ax=axes[0, 0])\n",
    "plc1.axvline(r.beta_c[0], color='r')\n",
    "plc2 = sns.distplot(post_beta_c[\"b_c_2\"] , color=\"skyblue\", ax=axes[0, 1])\n",
    "plc2.axvline(r.beta_c[1], color='r')\n",
    "plc3 = sns.distplot(post_beta_c[\"b_c_3\"] , color=\"skyblue\", ax=axes[0, 2])\n",
    "plc3.axvline(r.beta_c[2], color='r')\n",
    "plc4 = sns.distplot(post_beta_c[\"b_c_4\"] , color=\"skyblue\", ax=axes[0, 3])\n",
    "plc4.axvline(r.beta_c[3], color='r')\n",
    "plc5 = sns.distplot(post_beta_c[\"b_c_5\"] , color=\"skyblue\", ax=axes[0, 4])\n",
    "plc5.axvline(r.beta_c[4], color='r')\n",
    "\n",
    "plt1 = sns.distplot(post_beta_t[\"b_t_1\"] , color=\"teal\", ax=axes[1, 0])\n",
    "plt1.axvline(r.beta_t[0], color='r')\n",
    "plt2 = sns.distplot(post_beta_t[\"b_t_2\"] , color=\"teal\", ax=axes[1, 1])\n",
    "plt2.axvline(r.beta_t[1], color='r')\n",
    "plt3 = sns.distplot(post_beta_t[\"b_t_3\"] , color=\"teal\", ax=axes[1, 2])\n",
    "plt3.axvline(r.beta_t[2], color='r')\n",
    "plt4 = sns.distplot(post_beta_t[\"b_t_4\"] , color=\"teal\", ax=axes[1, 3])\n",
    "plt4.axvline(r.beta_t[3], color='r')\n",
    "plt5 = sns.distplot(post_beta_t[\"b_t_5\"] , color=\"teal\", ax=axes[1, 4])\n",
    "plt5.axvline(r.beta_t[4], color='r')\n",
    "\n",
    "plt.show()\n",
    "\n"
   ]
  },
  {
   "cell_type": "code",
   "execution_count": 28,
   "metadata": {
    "colab": {
     "base_uri": "https://localhost:8080/",
     "height": 966
    },
    "id": "pbIxflStEHLJ",
    "outputId": "410fc0ac-b115-4d92-84ca-98af09fea0ee"
   },
   "outputs": [
    {
     "name": "stderr",
     "output_type": "stream",
     "text": [
      "/usr/local/lib/python3.6/dist-packages/seaborn/distributions.py:2557: FutureWarning: `distplot` is a deprecated function and will be removed in a future version. Please adapt your code to use either `displot` (a figure-level function with similar flexibility) or `histplot` (an axes-level function for histograms).\n",
      "  warnings.warn(msg, FutureWarning)\n",
      "/usr/local/lib/python3.6/dist-packages/seaborn/distributions.py:2557: FutureWarning: `distplot` is a deprecated function and will be removed in a future version. Please adapt your code to use either `displot` (a figure-level function with similar flexibility) or `histplot` (an axes-level function for histograms).\n",
      "  warnings.warn(msg, FutureWarning)\n",
      "/usr/local/lib/python3.6/dist-packages/seaborn/distributions.py:2557: FutureWarning: `distplot` is a deprecated function and will be removed in a future version. Please adapt your code to use either `displot` (a figure-level function with similar flexibility) or `histplot` (an axes-level function for histograms).\n",
      "  warnings.warn(msg, FutureWarning)\n",
      "/usr/local/lib/python3.6/dist-packages/seaborn/distributions.py:2557: FutureWarning: `distplot` is a deprecated function and will be removed in a future version. Please adapt your code to use either `displot` (a figure-level function with similar flexibility) or `histplot` (an axes-level function for histograms).\n",
      "  warnings.warn(msg, FutureWarning)\n",
      "/usr/local/lib/python3.6/dist-packages/seaborn/distributions.py:2557: FutureWarning: `distplot` is a deprecated function and will be removed in a future version. Please adapt your code to use either `displot` (a figure-level function with similar flexibility) or `histplot` (an axes-level function for histograms).\n",
      "  warnings.warn(msg, FutureWarning)\n",
      "/usr/local/lib/python3.6/dist-packages/seaborn/distributions.py:2557: FutureWarning: `distplot` is a deprecated function and will be removed in a future version. Please adapt your code to use either `displot` (a figure-level function with similar flexibility) or `histplot` (an axes-level function for histograms).\n",
      "  warnings.warn(msg, FutureWarning)\n",
      "/usr/local/lib/python3.6/dist-packages/seaborn/distributions.py:2557: FutureWarning: `distplot` is a deprecated function and will be removed in a future version. Please adapt your code to use either `displot` (a figure-level function with similar flexibility) or `histplot` (an axes-level function for histograms).\n",
      "  warnings.warn(msg, FutureWarning)\n",
      "/usr/local/lib/python3.6/dist-packages/seaborn/distributions.py:2557: FutureWarning: `distplot` is a deprecated function and will be removed in a future version. Please adapt your code to use either `displot` (a figure-level function with similar flexibility) or `histplot` (an axes-level function for histograms).\n",
      "  warnings.warn(msg, FutureWarning)\n",
      "/usr/local/lib/python3.6/dist-packages/seaborn/distributions.py:2557: FutureWarning: `distplot` is a deprecated function and will be removed in a future version. Please adapt your code to use either `displot` (a figure-level function with similar flexibility) or `histplot` (an axes-level function for histograms).\n",
      "  warnings.warn(msg, FutureWarning)\n",
      "/usr/local/lib/python3.6/dist-packages/seaborn/distributions.py:2557: FutureWarning: `distplot` is a deprecated function and will be removed in a future version. Please adapt your code to use either `displot` (a figure-level function with similar flexibility) or `histplot` (an axes-level function for histograms).\n",
      "  warnings.warn(msg, FutureWarning)\n"
     ]
    },
    {
     "data": {
      "image/png": "[encoded data removed]",
      "text/plain": [
       "<Figure size 2160x720 with 10 Axes>"
      ]
     },
     "metadata": {
      "needs_background": "light",
      "tags": []
     },
     "output_type": "display_data"
    }
   ],
   "source": [
    "samples = fit2.extract(permuted=True)\n",
    "\n",
    "# Since the beta_inter represents the difference bewteen beta_t - beta_c, and beta = beta_c, we can derive beta_t = beta_inter + beta_c\n",
    "post_beta_c = pd.DataFrame(samples['beta'], columns=['b_c_1','b_c_2','b_c_3','b_c_4','b_c_5']) # 2000 samples (4 chains x 500 each -> half of inter=1000)\n",
    "post_beta_t = pd.DataFrame(samples['beta_inter'] + samples['beta'], columns=['b_t_1','b_t_2','b_t_3','b_t_4','b_t_5'])\n",
    "\n",
    "# Plot posterior distribution for each beta vs zero\n",
    "f, axes = plt.subplots(2, 5, figsize=(30, 10), sharex=True)\n",
    "\n",
    "plc1 = sns.distplot(post_beta_c[\"b_c_1\"] , color=\"skyblue\", ax=axes[0, 0])\n",
    "plc1.axvline(0, color='r')\n",
    "plc2 = sns.distplot(post_beta_c[\"b_c_2\"] , color=\"skyblue\", ax=axes[0, 1])\n",
    "plc2.axvline(0, color='r')\n",
    "plc3 = sns.distplot(post_beta_c[\"b_c_3\"] , color=\"skyblue\", ax=axes[0, 2])\n",
    "plc3.axvline(0, color='r')\n",
    "plc4 = sns.distplot(post_beta_c[\"b_c_4\"] , color=\"skyblue\", ax=axes[0, 3])\n",
    "plc4.axvline(0, color='r')\n",
    "plc5 = sns.distplot(post_beta_c[\"b_c_5\"] , color=\"skyblue\", ax=axes[0, 4])\n",
    "plc5.axvline(0, color='r')\n",
    "\n",
    "plt1 = sns.distplot(post_beta_t[\"b_t_1\"] , color=\"teal\", ax=axes[1, 0])\n",
    "plt1.axvline(0, color='r')\n",
    "plt2 = sns.distplot(post_beta_t[\"b_t_2\"] , color=\"teal\", ax=axes[1, 1])\n",
    "plt2.axvline(0, color='r')\n",
    "plt3 = sns.distplot(post_beta_t[\"b_t_3\"] , color=\"teal\", ax=axes[1, 2])\n",
    "plt3.axvline(0, color='r')\n",
    "plt4 = sns.distplot(post_beta_t[\"b_t_4\"] , color=\"teal\", ax=axes[1, 3])\n",
    "plt4.axvline(0, color='r')\n",
    "plt5 = sns.distplot(post_beta_t[\"b_t_5\"] , color=\"teal\", ax=axes[1, 4])\n",
    "plt5.axvline(0, color='r')\n",
    "\n",
    "plt.show()\n"
   ]
  },
  {
   "cell_type": "markdown",
   "metadata": {
    "id": "zgF2VbdbIidt"
   },
   "source": [
    "## 2.4. Alternative model specification\n",
    "\n",
    "Set control and treatment specific covariates."
   ]
  },
  {
   "cell_type": "code",
   "execution_count": 29,
   "metadata": {
    "colab": {
     "base_uri": "https://localhost:8080/"
    },
    "id": "pRQSwm_jFL3X",
    "outputId": "5e6cef71-4d6f-484a-9193-04a49308b40c"
   },
   "outputs": [
    {
     "name": "stdout",
     "output_type": "stream",
     "text": [
      "[ 1.5  0.5 -1.   0.   0. ]\n",
      "[ 0.   0.  -1.   0.5  1.5]\n"
     ]
    }
   ],
   "source": [
    "print(r.beta_c)\n",
    "print(r.beta_t)"
   ]
  },
  {
   "cell_type": "code",
   "execution_count": 30,
   "metadata": {
    "id": "bCD4tX0VI3aZ"
   },
   "outputs": [],
   "source": [
    "simulated_example22 = \"\"\"\n",
    "\n",
    "data {\n",
    "  int<lower=0> N;                   // sample size\n",
    "  int<lower=0> N_cov_c;             // number of covariates control\n",
    "  int<lower=0> N_cov_t;             // number of covariates treatment\n",
    "  vector[N] y;                      // observed outcome\n",
    "  vector[N] w;                      // treatment assigned\n",
    "  matrix[N, N_cov_c] x_c;           // covariates for control\n",
    "  matrix[N, N_cov_t] x_t;           // covariates for treatment\n",
    "  real<lower=-1,upper=1> rho;       // assumed correlation between the potential outcomes\n",
    "}\n",
    "parameters {\n",
    "  real alpha;                       // intercept\n",
    "  vector[N_cov_c] beta_c;           // coefficients for x_c[N]\n",
    "  vector[N_cov_t] beta_t;           // coefficients for x_t[N] \n",
    "  real tau;                         // super-population average treatment effect\n",
    "  real<lower=0> sigma_c;            // residual SD for the control\n",
    "  real<lower=0> sigma_t;            // residual SD for the treated\n",
    "}\n",
    "model {\n",
    "   // PRIORS\n",
    "   alpha ~ normal(0, 5); \n",
    "   beta_c ~ normal(0, 10);\n",
    "   beta_t ~ normal(0, 10);           \n",
    "   tau ~ normal(0, 5);\n",
    "   sigma_c ~ normal(0, 5);          \n",
    "   sigma_t ~ normal(0, 5);\n",
    "\n",
    "   // LIKELIHOOD\n",
    "   //y ~ normal(alpha + x_c*beta_c * (1-w) + x_t*beta_t * w + tau * w, sigma_t * w + sigma_c * (1-w));\n",
    "   \n",
    "   for (n in 1:N) {\n",
    "     if(w[n] == 0){                \n",
    "      y[n] ~ normal(alpha + x_c[n]*beta_c, sigma_c);\n",
    "    } else {                         \n",
    "      y[n] ~ normal(alpha + x_t[n]*beta_t  + tau, sigma_t);\n",
    "    }\n",
    "  }\n",
    "}\n",
    "  \n",
    "generated quantities{\n",
    "  real tau_fs;                      // finite-sample average treatment effect  \n",
    "  real y0[N];                       // potential outcome if W = 0\n",
    "  real y1[N];                       // potential outcome if W = 1\n",
    "  real tau_unit[N];                 // unit-level treatment effect\n",
    "  for(n in 1:N){\n",
    "    real mu_c = alpha + x_c[n,]*beta_c;        \n",
    "    real mu_t = alpha + x_t[n,]*beta_t + tau;\n",
    "    if(w[n] == 1){                \n",
    "      y0[n] = normal_rng(mu_c + rho*(sigma_c/sigma_t)*(y[n] - mu_t), sigma_c*sqrt(1 - rho^2)); \n",
    "      y1[n] = y[n];\n",
    "    }else{                        \n",
    "      y0[n] = y[n];       \n",
    "      y1[n] = normal_rng(mu_t + rho*(sigma_t/sigma_c)*(y[n] - mu_c), sigma_t*sqrt(1 - rho^2)); \n",
    "    }\n",
    "    tau_unit[n] = y1[n] - y0[n];\n",
    "  }\n",
    "  tau_fs = mean(tau_unit);        \n",
    "}\n",
    "\n",
    "\"\"\""
   ]
  },
  {
   "cell_type": "code",
   "execution_count": 31,
   "metadata": {
    "colab": {
     "base_uri": "https://localhost:8080/"
    },
    "id": "hQVoNTf9GK3Z",
    "outputId": "b88d2b1b-91b2-45b0-b338-40d051229f8e"
   },
   "outputs": [
    {
     "name": "stderr",
     "output_type": "stream",
     "text": [
      "INFO:pystan:COMPILING THE C++ CODE FOR MODEL anon_model_021260cddac31541bbbf2e0807b90b09 NOW.\n",
      "WARNING:pystan:Maximum (flat) parameter count (1000) exceeded: skipping diagnostic tests for n_eff and Rhat.\n",
      "To run all diagnostics call pystan.check_hmc_diagnostics(fit)\n"
     ]
    }
   ],
   "source": [
    "stan_data2 = {'N': df2.shape[0], \n",
    "              'N_cov_c': 3,\n",
    "              'N_cov_t': 3,\n",
    "              'y': df2.y_obs,\n",
    "              'w': df2.w,\n",
    "              'x_c': df2[[\"X1\", \"X2\", \"X3\"]].values,\n",
    "              'x_t': df2[[\"X3\", \"X4\", \"X5\"]].values,\n",
    "              'rho':0.0}\n",
    "sm2 = pystan.StanModel(model_code=simulated_example22)\n",
    "fit2 = sm2.sampling(data=stan_data2, iter=1000, chains=4)"
   ]
  },
  {
   "cell_type": "markdown",
   "metadata": {
    "id": "m7ZpRfqBLajS"
   },
   "source": [
    "## 2.5. Results"
   ]
  },
  {
   "cell_type": "code",
   "execution_count": 32,
   "metadata": {
    "colab": {
     "base_uri": "https://localhost:8080/",
     "height": 390
    },
    "id": "PYhorkyRK-RF",
    "outputId": "5a7e1d1e-24bd-45f7-a650-851e6b3f956e"
   },
   "outputs": [
    {
     "name": "stdout",
     "output_type": "stream",
     "text": [
      "['alpha', 'beta_c', 'beta_t', 'tau', 'sigma_c', 'sigma_t', 'tau_fs', 'y0', 'y1', 'tau_unit']\n"
     ]
    },
    {
     "data": {
      "text/html": [
       "<div>\n",
       "<style scoped>\n",
       "    .dataframe tbody tr th:only-of-type {\n",
       "        vertical-align: middle;\n",
       "    }\n",
       "\n",
       "    .dataframe tbody tr th {\n",
       "        vertical-align: top;\n",
       "    }\n",
       "\n",
       "    .dataframe thead th {\n",
       "        text-align: right;\n",
       "    }\n",
       "</style>\n",
       "<table border=\"1\" class=\"dataframe\">\n",
       "  <thead>\n",
       "    <tr style=\"text-align: right;\">\n",
       "      <th></th>\n",
       "      <th>mean</th>\n",
       "      <th>se_mean</th>\n",
       "      <th>sd</th>\n",
       "      <th>2.5%</th>\n",
       "      <th>25%</th>\n",
       "      <th>50%</th>\n",
       "      <th>75%</th>\n",
       "      <th>97.5%</th>\n",
       "      <th>n_eff</th>\n",
       "      <th>Rhat</th>\n",
       "    </tr>\n",
       "  </thead>\n",
       "  <tbody>\n",
       "    <tr>\n",
       "      <th>alpha</th>\n",
       "      <td>1.079988</td>\n",
       "      <td>0.001712</td>\n",
       "      <td>0.068298</td>\n",
       "      <td>0.942326</td>\n",
       "      <td>1.033439</td>\n",
       "      <td>1.080574</td>\n",
       "      <td>1.127086</td>\n",
       "      <td>1.211502</td>\n",
       "      <td>1591.634793</td>\n",
       "      <td>1.000535</td>\n",
       "    </tr>\n",
       "    <tr>\n",
       "      <th>tau</th>\n",
       "      <td>0.176986</td>\n",
       "      <td>0.002397</td>\n",
       "      <td>0.095365</td>\n",
       "      <td>-0.002705</td>\n",
       "      <td>0.108277</td>\n",
       "      <td>0.174871</td>\n",
       "      <td>0.242670</td>\n",
       "      <td>0.372835</td>\n",
       "      <td>1582.358618</td>\n",
       "      <td>0.999899</td>\n",
       "    </tr>\n",
       "    <tr>\n",
       "      <th>tau_fs</th>\n",
       "      <td>0.255316</td>\n",
       "      <td>0.001578</td>\n",
       "      <td>0.067425</td>\n",
       "      <td>0.124321</td>\n",
       "      <td>0.208404</td>\n",
       "      <td>0.256117</td>\n",
       "      <td>0.302385</td>\n",
       "      <td>0.385608</td>\n",
       "      <td>1825.872002</td>\n",
       "      <td>1.001217</td>\n",
       "    </tr>\n",
       "    <tr>\n",
       "      <th>beta_c[1]</th>\n",
       "      <td>1.431838</td>\n",
       "      <td>0.001234</td>\n",
       "      <td>0.075401</td>\n",
       "      <td>1.285738</td>\n",
       "      <td>1.381743</td>\n",
       "      <td>1.432366</td>\n",
       "      <td>1.482514</td>\n",
       "      <td>1.576293</td>\n",
       "      <td>3730.684327</td>\n",
       "      <td>0.998764</td>\n",
       "    </tr>\n",
       "    <tr>\n",
       "      <th>beta_c[2]</th>\n",
       "      <td>0.573693</td>\n",
       "      <td>0.001221</td>\n",
       "      <td>0.064913</td>\n",
       "      <td>0.453560</td>\n",
       "      <td>0.529725</td>\n",
       "      <td>0.572763</td>\n",
       "      <td>0.617269</td>\n",
       "      <td>0.702971</td>\n",
       "      <td>2824.515890</td>\n",
       "      <td>1.000072</td>\n",
       "    </tr>\n",
       "    <tr>\n",
       "      <th>beta_c[3]</th>\n",
       "      <td>-0.991359</td>\n",
       "      <td>0.001250</td>\n",
       "      <td>0.073872</td>\n",
       "      <td>-1.132443</td>\n",
       "      <td>-1.041763</td>\n",
       "      <td>-0.989478</td>\n",
       "      <td>-0.941532</td>\n",
       "      <td>-0.853438</td>\n",
       "      <td>3494.978387</td>\n",
       "      <td>0.998703</td>\n",
       "    </tr>\n",
       "    <tr>\n",
       "      <th>beta_t[1]</th>\n",
       "      <td>-1.023773</td>\n",
       "      <td>0.001156</td>\n",
       "      <td>0.062220</td>\n",
       "      <td>-1.149951</td>\n",
       "      <td>-1.064112</td>\n",
       "      <td>-1.021037</td>\n",
       "      <td>-0.982635</td>\n",
       "      <td>-0.901319</td>\n",
       "      <td>2895.747440</td>\n",
       "      <td>1.000257</td>\n",
       "    </tr>\n",
       "    <tr>\n",
       "      <th>beta_t[2]</th>\n",
       "      <td>0.487447</td>\n",
       "      <td>0.001076</td>\n",
       "      <td>0.063286</td>\n",
       "      <td>0.361062</td>\n",
       "      <td>0.446113</td>\n",
       "      <td>0.486858</td>\n",
       "      <td>0.531385</td>\n",
       "      <td>0.611042</td>\n",
       "      <td>3460.665692</td>\n",
       "      <td>1.000661</td>\n",
       "    </tr>\n",
       "    <tr>\n",
       "      <th>beta_t[3]</th>\n",
       "      <td>1.586387</td>\n",
       "      <td>0.001061</td>\n",
       "      <td>0.064339</td>\n",
       "      <td>1.464408</td>\n",
       "      <td>1.542823</td>\n",
       "      <td>1.586728</td>\n",
       "      <td>1.630223</td>\n",
       "      <td>1.709862</td>\n",
       "      <td>3675.437135</td>\n",
       "      <td>0.998963</td>\n",
       "    </tr>\n",
       "    <tr>\n",
       "      <th>sigma_c</th>\n",
       "      <td>1.055856</td>\n",
       "      <td>0.001029</td>\n",
       "      <td>0.048550</td>\n",
       "      <td>0.967972</td>\n",
       "      <td>1.023020</td>\n",
       "      <td>1.054159</td>\n",
       "      <td>1.086481</td>\n",
       "      <td>1.153095</td>\n",
       "      <td>2224.347107</td>\n",
       "      <td>1.000921</td>\n",
       "    </tr>\n",
       "    <tr>\n",
       "      <th>sigma_t</th>\n",
       "      <td>1.074276</td>\n",
       "      <td>0.000878</td>\n",
       "      <td>0.047642</td>\n",
       "      <td>0.989522</td>\n",
       "      <td>1.040762</td>\n",
       "      <td>1.071275</td>\n",
       "      <td>1.104789</td>\n",
       "      <td>1.175088</td>\n",
       "      <td>2944.740942</td>\n",
       "      <td>1.000544</td>\n",
       "    </tr>\n",
       "  </tbody>\n",
       "</table>\n",
       "</div>"
      ],
      "text/plain": [
       "               mean   se_mean        sd  ...     97.5%        n_eff      Rhat\n",
       "alpha      1.079988  0.001712  0.068298  ...  1.211502  1591.634793  1.000535\n",
       "tau        0.176986  0.002397  0.095365  ...  0.372835  1582.358618  0.999899\n",
       "tau_fs     0.255316  0.001578  0.067425  ...  0.385608  1825.872002  1.001217\n",
       "beta_c[1]  1.431838  0.001234  0.075401  ...  1.576293  3730.684327  0.998764\n",
       "beta_c[2]  0.573693  0.001221  0.064913  ...  0.702971  2824.515890  1.000072\n",
       "beta_c[3] -0.991359  0.001250  0.073872  ... -0.853438  3494.978387  0.998703\n",
       "beta_t[1] -1.023773  0.001156  0.062220  ... -0.901319  2895.747440  1.000257\n",
       "beta_t[2]  0.487447  0.001076  0.063286  ...  0.611042  3460.665692  1.000661\n",
       "beta_t[3]  1.586387  0.001061  0.064339  ...  1.709862  3675.437135  0.998963\n",
       "sigma_c    1.055856  0.001029  0.048550  ...  1.153095  2224.347107  1.000921\n",
       "sigma_t    1.074276  0.000878  0.047642  ...  1.175088  2944.740942  1.000544\n",
       "\n",
       "[11 rows x 10 columns]"
      ]
     },
     "execution_count": 32,
     "metadata": {
      "tags": []
     },
     "output_type": "execute_result"
    }
   ],
   "source": [
    "#print(fit)\n",
    "pars = fit2.model_pars\n",
    "print(pars)\n",
    "summary_dict = fit2.summary()\n",
    "df = pd.DataFrame(summary_dict['summary'], \n",
    "                  columns=summary_dict['summary_colnames'], \n",
    "                  index=summary_dict['summary_rownames'])\n",
    "df.loc[[\"alpha\", \"tau\", \"tau_fs\", \"beta_c[1]\", \"beta_c[2]\", \"beta_c[3]\", \"beta_t[1]\", \"beta_t[2]\",\n",
    "        \"beta_t[3]\", \"sigma_c\", \"sigma_t\"]]"
   ]
  },
  {
   "cell_type": "code",
   "execution_count": 33,
   "metadata": {
    "colab": {
     "base_uri": "https://localhost:8080/",
     "height": 829
    },
    "id": "e57qOoulMTZ6",
    "outputId": "8e4af710-13de-47d5-b127-7572c8196846"
   },
   "outputs": [
    {
     "name": "stderr",
     "output_type": "stream",
     "text": [
      "/usr/local/lib/python3.6/dist-packages/seaborn/distributions.py:2557: FutureWarning: `distplot` is a deprecated function and will be removed in a future version. Please adapt your code to use either `displot` (a figure-level function with similar flexibility) or `histplot` (an axes-level function for histograms).\n",
      "  warnings.warn(msg, FutureWarning)\n",
      "/usr/local/lib/python3.6/dist-packages/seaborn/distributions.py:2557: FutureWarning: `distplot` is a deprecated function and will be removed in a future version. Please adapt your code to use either `displot` (a figure-level function with similar flexibility) or `histplot` (an axes-level function for histograms).\n",
      "  warnings.warn(msg, FutureWarning)\n",
      "/usr/local/lib/python3.6/dist-packages/seaborn/distributions.py:2557: FutureWarning: `distplot` is a deprecated function and will be removed in a future version. Please adapt your code to use either `displot` (a figure-level function with similar flexibility) or `histplot` (an axes-level function for histograms).\n",
      "  warnings.warn(msg, FutureWarning)\n",
      "/usr/local/lib/python3.6/dist-packages/seaborn/distributions.py:2557: FutureWarning: `distplot` is a deprecated function and will be removed in a future version. Please adapt your code to use either `displot` (a figure-level function with similar flexibility) or `histplot` (an axes-level function for histograms).\n",
      "  warnings.warn(msg, FutureWarning)\n",
      "/usr/local/lib/python3.6/dist-packages/seaborn/distributions.py:2557: FutureWarning: `distplot` is a deprecated function and will be removed in a future version. Please adapt your code to use either `displot` (a figure-level function with similar flexibility) or `histplot` (an axes-level function for histograms).\n",
      "  warnings.warn(msg, FutureWarning)\n",
      "/usr/local/lib/python3.6/dist-packages/seaborn/distributions.py:2557: FutureWarning: `distplot` is a deprecated function and will be removed in a future version. Please adapt your code to use either `displot` (a figure-level function with similar flexibility) or `histplot` (an axes-level function for histograms).\n",
      "  warnings.warn(msg, FutureWarning)\n"
     ]
    },
    {
     "data": {
      "image/png": "[encoded data removed]",
      "text/plain": [
       "<Figure size 2160x720 with 6 Axes>"
      ]
     },
     "metadata": {
      "needs_background": "light",
      "tags": []
     },
     "output_type": "display_data"
    }
   ],
   "source": [
    "# Plot true vs posterior distribution for each beta\n",
    "samples = fit2.extract(permuted=True)\n",
    "\n",
    "post_beta_c = pd.DataFrame(samples['beta_c'], columns=['b_c_1','b_c_2','b_c_3']) # 2000 samples (4 chains x 500 each -> half of inter=1000)\n",
    "post_beta_t = pd.DataFrame(samples['beta_t'], columns=['b_t_1','b_t_2','b_t_3'])\n",
    "\n",
    "f, axes = plt.subplots(2, 3, figsize=(30, 10), sharex=True)\n",
    "\n",
    "plc1 = sns.distplot(post_beta_c[\"b_c_1\"] , color=\"skyblue\", ax=axes[0, 0])\n",
    "plc1.axvline(r.beta_c[0], color='r')\n",
    "plc2 = sns.distplot(post_beta_c[\"b_c_2\"] , color=\"skyblue\", ax=axes[0, 1])\n",
    "plc2.axvline(r.beta_c[1], color='r')\n",
    "plc3 = sns.distplot(post_beta_c[\"b_c_3\"] , color=\"skyblue\", ax=axes[0, 2])\n",
    "plc3.axvline(r.beta_c[2], color='r')\n",
    "\n",
    "plt1 = sns.distplot(post_beta_t[\"b_t_1\"] , color=\"teal\", ax=axes[1, 0])\n",
    "plt1.axvline(r.beta_t[2], color='r')\n",
    "plt2 = sns.distplot(post_beta_t[\"b_t_2\"] , color=\"teal\", ax=axes[1, 1])\n",
    "plt2.axvline(r.beta_t[3], color='r')\n",
    "plt3 = sns.distplot(post_beta_t[\"b_t_3\"] , color=\"teal\", ax=axes[1, 2])\n",
    "plt3.axvline(r.beta_t[4], color='r')\n",
    "\n",
    "plt.show()"
   ]
  },
  {
   "cell_type": "markdown",
   "metadata": {
    "id": "BfV5kKLMPAlL"
   },
   "source": [
    "## 2.6. Check sample individual treatment uncerteinty"
   ]
  },
  {
   "cell_type": "code",
   "execution_count": 34,
   "metadata": {
    "colab": {
     "base_uri": "https://localhost:8080/"
    },
    "id": "xqGJmhvaNSJe",
    "outputId": "3d1cf838-bcd7-4285-e5d4-1a0a82e32f21"
   },
   "outputs": [
    {
     "name": "stdout",
     "output_type": "stream",
     "text": [
      "[3.28350628 1.59519159 3.4073404  ... 2.87222679 0.97065183 2.13159442]\n",
      "[6.26673668 6.26673668 6.26673668 ... 6.26673668 6.26673668 6.26673668]\n"
     ]
    }
   ],
   "source": [
    "print(samples['y0'][:, 0])\n",
    "print(samples['y1'][:, 0])"
   ]
  },
  {
   "cell_type": "code",
   "execution_count": 35,
   "metadata": {
    "colab": {
     "base_uri": "https://localhost:8080/",
     "height": 352
    },
    "id": "oXfRf1JtPjEg",
    "outputId": "e7253388-a82e-4990-8ea4-187020d46188"
   },
   "outputs": [
    {
     "name": "stdout",
     "output_type": "stream",
     "text": [
      "5.746965831854104\n"
     ]
    },
    {
     "name": "stderr",
     "output_type": "stream",
     "text": [
      "/usr/local/lib/python3.6/dist-packages/seaborn/distributions.py:2557: FutureWarning: `distplot` is a deprecated function and will be removed in a future version. Please adapt your code to use either `displot` (a figure-level function with similar flexibility) or `histplot` (an axes-level function for histograms).\n",
      "  warnings.warn(msg, FutureWarning)\n"
     ]
    },
    {
     "data": {
      "text/plain": [
       "<matplotlib.lines.Line2D at 0x7f1350efacc0>"
      ]
     },
     "execution_count": 35,
     "metadata": {
      "tags": []
     },
     "output_type": "execute_result"
    },
    {
     "data": {
      "image/png": "[encoded data removed]",
      "text/plain": [
       "<Figure size 432x288 with 1 Axes>"
      ]
     },
     "metadata": {
      "needs_background": "light",
      "tags": []
     },
     "output_type": "display_data"
    }
   ],
   "source": [
    "# True treatment effect for first obs relative to distribution of posterior predicted effect\n",
    "print(df2.tau_unit[0]) # true treatment effect\n",
    "post_treatment_effect_obs0 = samples['y1'][:, 0] - samples['y0'][:, 0] # posterior predicted treatment effect\n",
    "\n",
    "plc = sns.distplot(post_treatment_effect_obs0 , color=\"skyblue\")\n",
    "plc.axvline(df2.tau_unit[0], color='r')\n"
   ]
  },
  {
   "cell_type": "markdown",
   "metadata": {
    "id": "MZIn5pJTSc9-"
   },
   "source": [
    "# 3. Counfounded treatment assignment with covariates\n",
    "\n",
    "Treatment assignment mechanism is: (i) unknown, (ii) not independent of potential outcomes, (iii) probabilistic (conditional on covariates, probability of receiving treatment is strictly between zero and one for all units)."
   ]
  },
  {
   "cell_type": "code",
   "execution_count": 36,
   "metadata": {
    "colab": {
     "base_uri": "https://localhost:8080/",
     "height": 402
    },
    "id": "u7ugE5ZjSf6J",
    "outputId": "778a09b5-6984-444a-c3f8-22929536fb97"
   },
   "outputs": [
    {
     "data": {
      "text/html": [
       "<div>\n",
       "<style scoped>\n",
       "    .dataframe tbody tr th:only-of-type {\n",
       "        vertical-align: middle;\n",
       "    }\n",
       "\n",
       "    .dataframe tbody tr th {\n",
       "        vertical-align: top;\n",
       "    }\n",
       "\n",
       "    .dataframe thead th {\n",
       "        text-align: right;\n",
       "    }\n",
       "</style>\n",
       "<table border=\"1\" class=\"dataframe\">\n",
       "  <thead>\n",
       "    <tr style=\"text-align: right;\">\n",
       "      <th></th>\n",
       "      <th>y_obs</th>\n",
       "      <th>y_mis</th>\n",
       "      <th>y0</th>\n",
       "      <th>y1</th>\n",
       "      <th>tau_unit</th>\n",
       "      <th>w</th>\n",
       "      <th>X1</th>\n",
       "      <th>X2</th>\n",
       "      <th>X3</th>\n",
       "      <th>X4</th>\n",
       "      <th>X5</th>\n",
       "    </tr>\n",
       "  </thead>\n",
       "  <tbody>\n",
       "    <tr>\n",
       "      <th>0</th>\n",
       "      <td>1.323524</td>\n",
       "      <td>2.906735</td>\n",
       "      <td>2.906735</td>\n",
       "      <td>1.323524</td>\n",
       "      <td>-1.583211</td>\n",
       "      <td>1</td>\n",
       "      <td>1.662016</td>\n",
       "      <td>-1.080319</td>\n",
       "      <td>1.215245</td>\n",
       "      <td>-0.249482</td>\n",
       "      <td>0.828267</td>\n",
       "    </tr>\n",
       "    <tr>\n",
       "      <th>1</th>\n",
       "      <td>-0.292459</td>\n",
       "      <td>3.514226</td>\n",
       "      <td>3.514226</td>\n",
       "      <td>-0.292459</td>\n",
       "      <td>-3.806685</td>\n",
       "      <td>1</td>\n",
       "      <td>1.199578</td>\n",
       "      <td>1.244795</td>\n",
       "      <td>1.275763</td>\n",
       "      <td>0.672614</td>\n",
       "      <td>0.475124</td>\n",
       "    </tr>\n",
       "    <tr>\n",
       "      <th>2</th>\n",
       "      <td>3.398620</td>\n",
       "      <td>1.522005</td>\n",
       "      <td>3.398620</td>\n",
       "      <td>1.522005</td>\n",
       "      <td>-1.876615</td>\n",
       "      <td>0</td>\n",
       "      <td>0.384591</td>\n",
       "      <td>0.053518</td>\n",
       "      <td>-0.208583</td>\n",
       "      <td>0.506197</td>\n",
       "      <td>0.528054</td>\n",
       "    </tr>\n",
       "    <tr>\n",
       "      <th>3</th>\n",
       "      <td>3.419448</td>\n",
       "      <td>1.654857</td>\n",
       "      <td>3.419448</td>\n",
       "      <td>1.654857</td>\n",
       "      <td>-1.764591</td>\n",
       "      <td>0</td>\n",
       "      <td>0.728117</td>\n",
       "      <td>1.343644</td>\n",
       "      <td>-0.195296</td>\n",
       "      <td>0.785964</td>\n",
       "      <td>-0.205428</td>\n",
       "    </tr>\n",
       "    <tr>\n",
       "      <th>4</th>\n",
       "      <td>2.258443</td>\n",
       "      <td>-0.326446</td>\n",
       "      <td>2.258443</td>\n",
       "      <td>-0.326446</td>\n",
       "      <td>-2.584889</td>\n",
       "      <td>0</td>\n",
       "      <td>0.922173</td>\n",
       "      <td>1.103494</td>\n",
       "      <td>0.044129</td>\n",
       "      <td>0.947856</td>\n",
       "      <td>-0.833358</td>\n",
       "    </tr>\n",
       "    <tr>\n",
       "      <th>...</th>\n",
       "      <td>...</td>\n",
       "      <td>...</td>\n",
       "      <td>...</td>\n",
       "      <td>...</td>\n",
       "      <td>...</td>\n",
       "      <td>...</td>\n",
       "      <td>...</td>\n",
       "      <td>...</td>\n",
       "      <td>...</td>\n",
       "      <td>...</td>\n",
       "      <td>...</td>\n",
       "    </tr>\n",
       "    <tr>\n",
       "      <th>495</th>\n",
       "      <td>1.804807</td>\n",
       "      <td>0.029928</td>\n",
       "      <td>0.029928</td>\n",
       "      <td>1.804807</td>\n",
       "      <td>1.774880</td>\n",
       "      <td>1</td>\n",
       "      <td>-0.439311</td>\n",
       "      <td>-0.666334</td>\n",
       "      <td>0.013408</td>\n",
       "      <td>-0.693172</td>\n",
       "      <td>0.689773</td>\n",
       "    </tr>\n",
       "    <tr>\n",
       "      <th>496</th>\n",
       "      <td>3.591159</td>\n",
       "      <td>0.705931</td>\n",
       "      <td>0.705931</td>\n",
       "      <td>3.591159</td>\n",
       "      <td>2.885229</td>\n",
       "      <td>1</td>\n",
       "      <td>-0.027241</td>\n",
       "      <td>-0.760232</td>\n",
       "      <td>-1.540139</td>\n",
       "      <td>-1.869452</td>\n",
       "      <td>1.310987</td>\n",
       "    </tr>\n",
       "    <tr>\n",
       "      <th>497</th>\n",
       "      <td>0.241153</td>\n",
       "      <td>1.243833</td>\n",
       "      <td>1.243833</td>\n",
       "      <td>0.241153</td>\n",
       "      <td>-1.002679</td>\n",
       "      <td>1</td>\n",
       "      <td>1.074499</td>\n",
       "      <td>-0.029395</td>\n",
       "      <td>0.671925</td>\n",
       "      <td>0.504722</td>\n",
       "      <td>0.138325</td>\n",
       "    </tr>\n",
       "    <tr>\n",
       "      <th>498</th>\n",
       "      <td>2.555935</td>\n",
       "      <td>-0.062664</td>\n",
       "      <td>-0.062664</td>\n",
       "      <td>2.555935</td>\n",
       "      <td>2.618599</td>\n",
       "      <td>1</td>\n",
       "      <td>-1.640391</td>\n",
       "      <td>0.699869</td>\n",
       "      <td>-0.702645</td>\n",
       "      <td>-1.260732</td>\n",
       "      <td>1.132255</td>\n",
       "    </tr>\n",
       "    <tr>\n",
       "      <th>499</th>\n",
       "      <td>1.686394</td>\n",
       "      <td>0.303209</td>\n",
       "      <td>1.686394</td>\n",
       "      <td>0.303209</td>\n",
       "      <td>-1.383184</td>\n",
       "      <td>0</td>\n",
       "      <td>1.444693</td>\n",
       "      <td>0.995281</td>\n",
       "      <td>-0.050356</td>\n",
       "      <td>-0.115678</td>\n",
       "      <td>-0.796441</td>\n",
       "    </tr>\n",
       "  </tbody>\n",
       "</table>\n",
       "<p>500 rows × 11 columns</p>\n",
       "</div>"
      ],
      "text/plain": [
       "        y_obs     y_mis        y0  ...        X3        X4        X5\n",
       "0    1.323524  2.906735  2.906735  ...  1.215245 -0.249482  0.828267\n",
       "1   -0.292459  3.514226  3.514226  ...  1.275763  0.672614  0.475124\n",
       "2    3.398620  1.522005  3.398620  ... -0.208583  0.506197  0.528054\n",
       "3    3.419448  1.654857  3.419448  ... -0.195296  0.785964 -0.205428\n",
       "4    2.258443 -0.326446  2.258443  ...  0.044129  0.947856 -0.833358\n",
       "..        ...       ...       ...  ...       ...       ...       ...\n",
       "495  1.804807  0.029928  0.029928  ...  0.013408 -0.693172  0.689773\n",
       "496  3.591159  0.705931  0.705931  ... -1.540139 -1.869452  1.310987\n",
       "497  0.241153  1.243833  1.243833  ...  0.671925  0.504722  0.138325\n",
       "498  2.555935 -0.062664 -0.062664  ... -0.702645 -1.260732  1.132255\n",
       "499  1.686394  0.303209  1.686394  ... -0.050356 -0.115678 -0.796441\n",
       "\n",
       "[500 rows x 11 columns]"
      ]
     },
     "execution_count": 36,
     "metadata": {
      "tags": []
     },
     "output_type": "execute_result"
    }
   ],
   "source": [
    "dgp = DataGeneratingProcess(covariates=True, treatment_assignment='c', seed=654)\n",
    "r = dgp.generate_data()\n",
    "df3 = r.df\n",
    "df3"
   ]
  },
  {
   "cell_type": "code",
   "execution_count": 37,
   "metadata": {
    "colab": {
     "base_uri": "https://localhost:8080/",
     "height": 386
    },
    "id": "uFwq--1D59Gb",
    "outputId": "83af5d62-7e7a-4123-e585-cd44a953f218"
   },
   "outputs": [
    {
     "data": {
      "text/plain": [
       "<seaborn.axisgrid.FacetGrid at 0x7f135e7d9e80>"
      ]
     },
     "execution_count": 37,
     "metadata": {
      "tags": []
     },
     "output_type": "execute_result"
    },
    {
     "data": {
      "image/png": "[encoded data removed]",
      "text/plain": [
       "<Figure size 402.375x360 with 1 Axes>"
      ]
     },
     "metadata": {
      "needs_background": "light",
      "tags": []
     },
     "output_type": "display_data"
    }
   ],
   "source": [
    "sns.displot(df3, x=\"X5\", hue=\"w\", kind=\"kde\")"
   ]
  },
  {
   "cell_type": "markdown",
   "metadata": {
    "id": "pD0mNsN58AoU"
   },
   "source": [
    "## 3.1. Fit Model - Ignoring the observational nature of data "
   ]
  },
  {
   "cell_type": "code",
   "execution_count": 38,
   "metadata": {
    "colab": {
     "base_uri": "https://localhost:8080/",
     "height": 402
    },
    "id": "WTR5lZyH7Vmi",
    "outputId": "d4358288-bc3d-4282-cf64-a39f54f8dc52"
   },
   "outputs": [
    {
     "data": {
      "text/html": [
       "<div>\n",
       "<style scoped>\n",
       "    .dataframe tbody tr th:only-of-type {\n",
       "        vertical-align: middle;\n",
       "    }\n",
       "\n",
       "    .dataframe tbody tr th {\n",
       "        vertical-align: top;\n",
       "    }\n",
       "\n",
       "    .dataframe thead th {\n",
       "        text-align: right;\n",
       "    }\n",
       "</style>\n",
       "<table border=\"1\" class=\"dataframe\">\n",
       "  <thead>\n",
       "    <tr style=\"text-align: right;\">\n",
       "      <th></th>\n",
       "      <th>y_obs</th>\n",
       "      <th>y_mis</th>\n",
       "      <th>y0</th>\n",
       "      <th>y1</th>\n",
       "      <th>tau_unit</th>\n",
       "      <th>w</th>\n",
       "      <th>X1</th>\n",
       "      <th>X2</th>\n",
       "      <th>X3</th>\n",
       "      <th>X4</th>\n",
       "      <th>X5</th>\n",
       "      <th>wX1</th>\n",
       "      <th>wX2</th>\n",
       "      <th>wX3</th>\n",
       "      <th>wX4</th>\n",
       "      <th>wX5</th>\n",
       "    </tr>\n",
       "  </thead>\n",
       "  <tbody>\n",
       "    <tr>\n",
       "      <th>0</th>\n",
       "      <td>1.323524</td>\n",
       "      <td>2.906735</td>\n",
       "      <td>2.906735</td>\n",
       "      <td>1.323524</td>\n",
       "      <td>-1.583211</td>\n",
       "      <td>1</td>\n",
       "      <td>1.662016</td>\n",
       "      <td>-1.080319</td>\n",
       "      <td>1.215245</td>\n",
       "      <td>-0.249482</td>\n",
       "      <td>0.828267</td>\n",
       "      <td>1.662016</td>\n",
       "      <td>-1.080319</td>\n",
       "      <td>1.215245</td>\n",
       "      <td>-0.249482</td>\n",
       "      <td>0.828267</td>\n",
       "    </tr>\n",
       "    <tr>\n",
       "      <th>1</th>\n",
       "      <td>-0.292459</td>\n",
       "      <td>3.514226</td>\n",
       "      <td>3.514226</td>\n",
       "      <td>-0.292459</td>\n",
       "      <td>-3.806685</td>\n",
       "      <td>1</td>\n",
       "      <td>1.199578</td>\n",
       "      <td>1.244795</td>\n",
       "      <td>1.275763</td>\n",
       "      <td>0.672614</td>\n",
       "      <td>0.475124</td>\n",
       "      <td>1.199578</td>\n",
       "      <td>1.244795</td>\n",
       "      <td>1.275763</td>\n",
       "      <td>0.672614</td>\n",
       "      <td>0.475124</td>\n",
       "    </tr>\n",
       "    <tr>\n",
       "      <th>2</th>\n",
       "      <td>3.398620</td>\n",
       "      <td>1.522005</td>\n",
       "      <td>3.398620</td>\n",
       "      <td>1.522005</td>\n",
       "      <td>-1.876615</td>\n",
       "      <td>0</td>\n",
       "      <td>0.384591</td>\n",
       "      <td>0.053518</td>\n",
       "      <td>-0.208583</td>\n",
       "      <td>0.506197</td>\n",
       "      <td>0.528054</td>\n",
       "      <td>0.000000</td>\n",
       "      <td>0.000000</td>\n",
       "      <td>-0.000000</td>\n",
       "      <td>0.000000</td>\n",
       "      <td>0.000000</td>\n",
       "    </tr>\n",
       "    <tr>\n",
       "      <th>3</th>\n",
       "      <td>3.419448</td>\n",
       "      <td>1.654857</td>\n",
       "      <td>3.419448</td>\n",
       "      <td>1.654857</td>\n",
       "      <td>-1.764591</td>\n",
       "      <td>0</td>\n",
       "      <td>0.728117</td>\n",
       "      <td>1.343644</td>\n",
       "      <td>-0.195296</td>\n",
       "      <td>0.785964</td>\n",
       "      <td>-0.205428</td>\n",
       "      <td>0.000000</td>\n",
       "      <td>0.000000</td>\n",
       "      <td>-0.000000</td>\n",
       "      <td>0.000000</td>\n",
       "      <td>-0.000000</td>\n",
       "    </tr>\n",
       "    <tr>\n",
       "      <th>4</th>\n",
       "      <td>2.258443</td>\n",
       "      <td>-0.326446</td>\n",
       "      <td>2.258443</td>\n",
       "      <td>-0.326446</td>\n",
       "      <td>-2.584889</td>\n",
       "      <td>0</td>\n",
       "      <td>0.922173</td>\n",
       "      <td>1.103494</td>\n",
       "      <td>0.044129</td>\n",
       "      <td>0.947856</td>\n",
       "      <td>-0.833358</td>\n",
       "      <td>0.000000</td>\n",
       "      <td>0.000000</td>\n",
       "      <td>0.000000</td>\n",
       "      <td>0.000000</td>\n",
       "      <td>-0.000000</td>\n",
       "    </tr>\n",
       "    <tr>\n",
       "      <th>...</th>\n",
       "      <td>...</td>\n",
       "      <td>...</td>\n",
       "      <td>...</td>\n",
       "      <td>...</td>\n",
       "      <td>...</td>\n",
       "      <td>...</td>\n",
       "      <td>...</td>\n",
       "      <td>...</td>\n",
       "      <td>...</td>\n",
       "      <td>...</td>\n",
       "      <td>...</td>\n",
       "      <td>...</td>\n",
       "      <td>...</td>\n",
       "      <td>...</td>\n",
       "      <td>...</td>\n",
       "      <td>...</td>\n",
       "    </tr>\n",
       "    <tr>\n",
       "      <th>495</th>\n",
       "      <td>1.804807</td>\n",
       "      <td>0.029928</td>\n",
       "      <td>0.029928</td>\n",
       "      <td>1.804807</td>\n",
       "      <td>1.774880</td>\n",
       "      <td>1</td>\n",
       "      <td>-0.439311</td>\n",
       "      <td>-0.666334</td>\n",
       "      <td>0.013408</td>\n",
       "      <td>-0.693172</td>\n",
       "      <td>0.689773</td>\n",
       "      <td>-0.439311</td>\n",
       "      <td>-0.666334</td>\n",
       "      <td>0.013408</td>\n",
       "      <td>-0.693172</td>\n",
       "      <td>0.689773</td>\n",
       "    </tr>\n",
       "    <tr>\n",
       "      <th>496</th>\n",
       "      <td>3.591159</td>\n",
       "      <td>0.705931</td>\n",
       "      <td>0.705931</td>\n",
       "      <td>3.591159</td>\n",
       "      <td>2.885229</td>\n",
       "      <td>1</td>\n",
       "      <td>-0.027241</td>\n",
       "      <td>-0.760232</td>\n",
       "      <td>-1.540139</td>\n",
       "      <td>-1.869452</td>\n",
       "      <td>1.310987</td>\n",
       "      <td>-0.027241</td>\n",
       "      <td>-0.760232</td>\n",
       "      <td>-1.540139</td>\n",
       "      <td>-1.869452</td>\n",
       "      <td>1.310987</td>\n",
       "    </tr>\n",
       "    <tr>\n",
       "      <th>497</th>\n",
       "      <td>0.241153</td>\n",
       "      <td>1.243833</td>\n",
       "      <td>1.243833</td>\n",
       "      <td>0.241153</td>\n",
       "      <td>-1.002679</td>\n",
       "      <td>1</td>\n",
       "      <td>1.074499</td>\n",
       "      <td>-0.029395</td>\n",
       "      <td>0.671925</td>\n",
       "      <td>0.504722</td>\n",
       "      <td>0.138325</td>\n",
       "      <td>1.074499</td>\n",
       "      <td>-0.029395</td>\n",
       "      <td>0.671925</td>\n",
       "      <td>0.504722</td>\n",
       "      <td>0.138325</td>\n",
       "    </tr>\n",
       "    <tr>\n",
       "      <th>498</th>\n",
       "      <td>2.555935</td>\n",
       "      <td>-0.062664</td>\n",
       "      <td>-0.062664</td>\n",
       "      <td>2.555935</td>\n",
       "      <td>2.618599</td>\n",
       "      <td>1</td>\n",
       "      <td>-1.640391</td>\n",
       "      <td>0.699869</td>\n",
       "      <td>-0.702645</td>\n",
       "      <td>-1.260732</td>\n",
       "      <td>1.132255</td>\n",
       "      <td>-1.640391</td>\n",
       "      <td>0.699869</td>\n",
       "      <td>-0.702645</td>\n",
       "      <td>-1.260732</td>\n",
       "      <td>1.132255</td>\n",
       "    </tr>\n",
       "    <tr>\n",
       "      <th>499</th>\n",
       "      <td>1.686394</td>\n",
       "      <td>0.303209</td>\n",
       "      <td>1.686394</td>\n",
       "      <td>0.303209</td>\n",
       "      <td>-1.383184</td>\n",
       "      <td>0</td>\n",
       "      <td>1.444693</td>\n",
       "      <td>0.995281</td>\n",
       "      <td>-0.050356</td>\n",
       "      <td>-0.115678</td>\n",
       "      <td>-0.796441</td>\n",
       "      <td>0.000000</td>\n",
       "      <td>0.000000</td>\n",
       "      <td>-0.000000</td>\n",
       "      <td>-0.000000</td>\n",
       "      <td>-0.000000</td>\n",
       "    </tr>\n",
       "  </tbody>\n",
       "</table>\n",
       "<p>500 rows × 16 columns</p>\n",
       "</div>"
      ],
      "text/plain": [
       "        y_obs     y_mis        y0  ...       wX3       wX4       wX5\n",
       "0    1.323524  2.906735  2.906735  ...  1.215245 -0.249482  0.828267\n",
       "1   -0.292459  3.514226  3.514226  ...  1.275763  0.672614  0.475124\n",
       "2    3.398620  1.522005  3.398620  ... -0.000000  0.000000  0.000000\n",
       "3    3.419448  1.654857  3.419448  ... -0.000000  0.000000 -0.000000\n",
       "4    2.258443 -0.326446  2.258443  ...  0.000000  0.000000 -0.000000\n",
       "..        ...       ...       ...  ...       ...       ...       ...\n",
       "495  1.804807  0.029928  0.029928  ...  0.013408 -0.693172  0.689773\n",
       "496  3.591159  0.705931  0.705931  ... -1.540139 -1.869452  1.310987\n",
       "497  0.241153  1.243833  1.243833  ...  0.671925  0.504722  0.138325\n",
       "498  2.555935 -0.062664 -0.062664  ... -0.702645 -1.260732  1.132255\n",
       "499  1.686394  0.303209  1.686394  ... -0.000000 -0.000000 -0.000000\n",
       "\n",
       "[500 rows x 16 columns]"
      ]
     },
     "execution_count": 38,
     "metadata": {
      "tags": []
     },
     "output_type": "execute_result"
    }
   ],
   "source": [
    "# Add interaction effects between covariates and treatment\n",
    "df3[[\"wX1\", \"wX2\", \"wX3\", \"wX4\", \"wX5\"]] = df3[[\"X1\", \"X2\", \"X3\", \"X4\", \"X5\"]].multiply(df3[\"w\"], axis=\"index\")\n",
    "df3"
   ]
  },
  {
   "cell_type": "code",
   "execution_count": 39,
   "metadata": {
    "colab": {
     "base_uri": "https://localhost:8080/"
    },
    "id": "8C0qcd2379FM",
    "outputId": "d328f503-475a-4508-9a06-55060c927947"
   },
   "outputs": [
    {
     "name": "stderr",
     "output_type": "stream",
     "text": [
      "INFO:pystan:COMPILING THE C++ CODE FOR MODEL anon_model_f4f2f6fe70cd756ee463371850bc520c NOW.\n",
      "WARNING:pystan:Maximum (flat) parameter count (1000) exceeded: skipping diagnostic tests for n_eff and Rhat.\n",
      "To run all diagnostics call pystan.check_hmc_diagnostics(fit)\n"
     ]
    }
   ],
   "source": [
    "stan_data3 = {'N': df3.shape[0], \n",
    "              'y': df3.y_obs,\n",
    "              'w': df3.w,\n",
    "              'x': df3[[\"X1\", \"X2\", \"X3\", \"X4\", \"X5\"]].values,\n",
    "              'xw_inter': df3[[\"wX1\", \"wX2\", \"wX3\", \"wX4\", \"wX5\"]].values,\n",
    "              'N_cov':5,\n",
    "              'rho':0.0}\n",
    "sm3 = pystan.StanModel(model_code=simulated_example2)\n",
    "fit3 = sm3.sampling(data=stan_data3, iter=1000, chains=4)"
   ]
  },
  {
   "cell_type": "code",
   "execution_count": 40,
   "metadata": {
    "colab": {
     "base_uri": "https://localhost:8080/",
     "height": 508
    },
    "id": "gniSTAJ78zZo",
    "outputId": "635eee82-01ee-4408-c6cf-ae737809ab0e"
   },
   "outputs": [
    {
     "name": "stdout",
     "output_type": "stream",
     "text": [
      "['alpha', 'beta', 'beta_inter', 'tau', 'sigma_c', 'sigma_t', 'tau_fs', 'y0', 'y1', 'tau_unit']\n"
     ]
    },
    {
     "data": {
      "text/html": [
       "<div>\n",
       "<style scoped>\n",
       "    .dataframe tbody tr th:only-of-type {\n",
       "        vertical-align: middle;\n",
       "    }\n",
       "\n",
       "    .dataframe tbody tr th {\n",
       "        vertical-align: top;\n",
       "    }\n",
       "\n",
       "    .dataframe thead th {\n",
       "        text-align: right;\n",
       "    }\n",
       "</style>\n",
       "<table border=\"1\" class=\"dataframe\">\n",
       "  <thead>\n",
       "    <tr style=\"text-align: right;\">\n",
       "      <th></th>\n",
       "      <th>mean</th>\n",
       "      <th>se_mean</th>\n",
       "      <th>sd</th>\n",
       "      <th>2.5%</th>\n",
       "      <th>25%</th>\n",
       "      <th>50%</th>\n",
       "      <th>75%</th>\n",
       "      <th>97.5%</th>\n",
       "      <th>n_eff</th>\n",
       "      <th>Rhat</th>\n",
       "    </tr>\n",
       "  </thead>\n",
       "  <tbody>\n",
       "    <tr>\n",
       "      <th>alpha</th>\n",
       "      <td>1.079151</td>\n",
       "      <td>0.001291</td>\n",
       "      <td>0.060197</td>\n",
       "      <td>0.962924</td>\n",
       "      <td>1.037605</td>\n",
       "      <td>1.076447</td>\n",
       "      <td>1.119494</td>\n",
       "      <td>1.200490</td>\n",
       "      <td>2174.969988</td>\n",
       "      <td>1.001223</td>\n",
       "    </tr>\n",
       "    <tr>\n",
       "      <th>tau</th>\n",
       "      <td>0.166390</td>\n",
       "      <td>0.001834</td>\n",
       "      <td>0.089801</td>\n",
       "      <td>-0.005455</td>\n",
       "      <td>0.104743</td>\n",
       "      <td>0.169940</td>\n",
       "      <td>0.226103</td>\n",
       "      <td>0.339515</td>\n",
       "      <td>2396.950038</td>\n",
       "      <td>1.000635</td>\n",
       "    </tr>\n",
       "    <tr>\n",
       "      <th>tau_fs</th>\n",
       "      <td>0.139531</td>\n",
       "      <td>0.001453</td>\n",
       "      <td>0.069694</td>\n",
       "      <td>0.008164</td>\n",
       "      <td>0.092125</td>\n",
       "      <td>0.139883</td>\n",
       "      <td>0.185685</td>\n",
       "      <td>0.278366</td>\n",
       "      <td>2301.268573</td>\n",
       "      <td>1.001146</td>\n",
       "    </tr>\n",
       "    <tr>\n",
       "      <th>beta[1]</th>\n",
       "      <td>1.492769</td>\n",
       "      <td>0.001258</td>\n",
       "      <td>0.057994</td>\n",
       "      <td>1.378785</td>\n",
       "      <td>1.453972</td>\n",
       "      <td>1.492605</td>\n",
       "      <td>1.533305</td>\n",
       "      <td>1.604386</td>\n",
       "      <td>2125.924898</td>\n",
       "      <td>0.998997</td>\n",
       "    </tr>\n",
       "    <tr>\n",
       "      <th>beta[2]</th>\n",
       "      <td>0.479722</td>\n",
       "      <td>0.001253</td>\n",
       "      <td>0.061771</td>\n",
       "      <td>0.358549</td>\n",
       "      <td>0.436334</td>\n",
       "      <td>0.480024</td>\n",
       "      <td>0.521349</td>\n",
       "      <td>0.600825</td>\n",
       "      <td>2431.752771</td>\n",
       "      <td>0.999784</td>\n",
       "    </tr>\n",
       "    <tr>\n",
       "      <th>beta[3]</th>\n",
       "      <td>-1.066465</td>\n",
       "      <td>0.001308</td>\n",
       "      <td>0.058049</td>\n",
       "      <td>-1.176458</td>\n",
       "      <td>-1.105116</td>\n",
       "      <td>-1.066274</td>\n",
       "      <td>-1.028202</td>\n",
       "      <td>-0.949356</td>\n",
       "      <td>1970.020635</td>\n",
       "      <td>1.000233</td>\n",
       "    </tr>\n",
       "    <tr>\n",
       "      <th>beta[4]</th>\n",
       "      <td>-0.103272</td>\n",
       "      <td>0.001419</td>\n",
       "      <td>0.062351</td>\n",
       "      <td>-0.224238</td>\n",
       "      <td>-0.145619</td>\n",
       "      <td>-0.103017</td>\n",
       "      <td>-0.061199</td>\n",
       "      <td>0.016577</td>\n",
       "      <td>1931.051516</td>\n",
       "      <td>0.999368</td>\n",
       "    </tr>\n",
       "    <tr>\n",
       "      <th>beta[5]</th>\n",
       "      <td>0.050300</td>\n",
       "      <td>0.001322</td>\n",
       "      <td>0.063115</td>\n",
       "      <td>-0.070927</td>\n",
       "      <td>0.008123</td>\n",
       "      <td>0.049143</td>\n",
       "      <td>0.090561</td>\n",
       "      <td>0.177081</td>\n",
       "      <td>2279.245549</td>\n",
       "      <td>1.000406</td>\n",
       "    </tr>\n",
       "    <tr>\n",
       "      <th>beta_inter[1]</th>\n",
       "      <td>-1.499759</td>\n",
       "      <td>0.001743</td>\n",
       "      <td>0.088039</td>\n",
       "      <td>-1.676268</td>\n",
       "      <td>-1.559603</td>\n",
       "      <td>-1.498922</td>\n",
       "      <td>-1.439639</td>\n",
       "      <td>-1.330666</td>\n",
       "      <td>2551.651579</td>\n",
       "      <td>0.999335</td>\n",
       "    </tr>\n",
       "    <tr>\n",
       "      <th>beta_inter[2]</th>\n",
       "      <td>-0.487897</td>\n",
       "      <td>0.001867</td>\n",
       "      <td>0.088161</td>\n",
       "      <td>-0.658775</td>\n",
       "      <td>-0.547588</td>\n",
       "      <td>-0.490904</td>\n",
       "      <td>-0.428821</td>\n",
       "      <td>-0.310656</td>\n",
       "      <td>2230.230568</td>\n",
       "      <td>1.000740</td>\n",
       "    </tr>\n",
       "    <tr>\n",
       "      <th>beta_inter[3]</th>\n",
       "      <td>0.196295</td>\n",
       "      <td>0.001895</td>\n",
       "      <td>0.083480</td>\n",
       "      <td>0.032847</td>\n",
       "      <td>0.140329</td>\n",
       "      <td>0.195785</td>\n",
       "      <td>0.253146</td>\n",
       "      <td>0.358342</td>\n",
       "      <td>1941.671041</td>\n",
       "      <td>0.999128</td>\n",
       "    </tr>\n",
       "    <tr>\n",
       "      <th>beta_inter[4]</th>\n",
       "      <td>0.606663</td>\n",
       "      <td>0.001960</td>\n",
       "      <td>0.089285</td>\n",
       "      <td>0.435989</td>\n",
       "      <td>0.543815</td>\n",
       "      <td>0.604853</td>\n",
       "      <td>0.663257</td>\n",
       "      <td>0.792079</td>\n",
       "      <td>2074.646129</td>\n",
       "      <td>0.999259</td>\n",
       "    </tr>\n",
       "    <tr>\n",
       "      <th>beta_inter[5]</th>\n",
       "      <td>1.472527</td>\n",
       "      <td>0.001884</td>\n",
       "      <td>0.088929</td>\n",
       "      <td>1.296162</td>\n",
       "      <td>1.416455</td>\n",
       "      <td>1.473674</td>\n",
       "      <td>1.529044</td>\n",
       "      <td>1.643020</td>\n",
       "      <td>2228.645420</td>\n",
       "      <td>1.000075</td>\n",
       "    </tr>\n",
       "    <tr>\n",
       "      <th>sigma_c</th>\n",
       "      <td>0.925498</td>\n",
       "      <td>0.000788</td>\n",
       "      <td>0.040051</td>\n",
       "      <td>0.846929</td>\n",
       "      <td>0.898333</td>\n",
       "      <td>0.924597</td>\n",
       "      <td>0.951647</td>\n",
       "      <td>1.008800</td>\n",
       "      <td>2585.525436</td>\n",
       "      <td>0.998916</td>\n",
       "    </tr>\n",
       "    <tr>\n",
       "      <th>sigma_t</th>\n",
       "      <td>0.934039</td>\n",
       "      <td>0.000853</td>\n",
       "      <td>0.041526</td>\n",
       "      <td>0.857793</td>\n",
       "      <td>0.904186</td>\n",
       "      <td>0.933282</td>\n",
       "      <td>0.960782</td>\n",
       "      <td>1.019023</td>\n",
       "      <td>2367.377167</td>\n",
       "      <td>1.001230</td>\n",
       "    </tr>\n",
       "  </tbody>\n",
       "</table>\n",
       "</div>"
      ],
      "text/plain": [
       "                   mean   se_mean        sd  ...     97.5%        n_eff      Rhat\n",
       "alpha          1.079151  0.001291  0.060197  ...  1.200490  2174.969988  1.001223\n",
       "tau            0.166390  0.001834  0.089801  ...  0.339515  2396.950038  1.000635\n",
       "tau_fs         0.139531  0.001453  0.069694  ...  0.278366  2301.268573  1.001146\n",
       "beta[1]        1.492769  0.001258  0.057994  ...  1.604386  2125.924898  0.998997\n",
       "beta[2]        0.479722  0.001253  0.061771  ...  0.600825  2431.752771  0.999784\n",
       "beta[3]       -1.066465  0.001308  0.058049  ... -0.949356  1970.020635  1.000233\n",
       "beta[4]       -0.103272  0.001419  0.062351  ...  0.016577  1931.051516  0.999368\n",
       "beta[5]        0.050300  0.001322  0.063115  ...  0.177081  2279.245549  1.000406\n",
       "beta_inter[1] -1.499759  0.001743  0.088039  ... -1.330666  2551.651579  0.999335\n",
       "beta_inter[2] -0.487897  0.001867  0.088161  ... -0.310656  2230.230568  1.000740\n",
       "beta_inter[3]  0.196295  0.001895  0.083480  ...  0.358342  1941.671041  0.999128\n",
       "beta_inter[4]  0.606663  0.001960  0.089285  ...  0.792079  2074.646129  0.999259\n",
       "beta_inter[5]  1.472527  0.001884  0.088929  ...  1.643020  2228.645420  1.000075\n",
       "sigma_c        0.925498  0.000788  0.040051  ...  1.008800  2585.525436  0.998916\n",
       "sigma_t        0.934039  0.000853  0.041526  ...  1.019023  2367.377167  1.001230\n",
       "\n",
       "[15 rows x 10 columns]"
      ]
     },
     "execution_count": 40,
     "metadata": {
      "tags": []
     },
     "output_type": "execute_result"
    }
   ],
   "source": [
    "#print(fit)\n",
    "pars = fit3.model_pars\n",
    "print(pars)\n",
    "summary_dict = fit3.summary()\n",
    "df = pd.DataFrame(summary_dict['summary'], \n",
    "                  columns=summary_dict['summary_colnames'], \n",
    "                  index=summary_dict['summary_rownames'])\n",
    "df.loc[[\"alpha\", \"tau\", \"tau_fs\", \"beta[1]\", \"beta[2]\", \"beta[3]\", \"beta[4]\", \"beta[5]\",\n",
    "        \"beta_inter[1]\", \"beta_inter[2]\", \"beta_inter[3]\", \"beta_inter[4]\", \"beta_inter[5]\", \"sigma_c\", \"sigma_t\"]]"
   ]
  },
  {
   "cell_type": "code",
   "execution_count": 41,
   "metadata": {
    "colab": {
     "base_uri": "https://localhost:8080/",
     "height": 962
    },
    "id": "olSFSmXS9IbM",
    "outputId": "4886cd7c-110a-4bfa-ed4f-a10a1f1744f0"
   },
   "outputs": [
    {
     "name": "stderr",
     "output_type": "stream",
     "text": [
      "/usr/local/lib/python3.6/dist-packages/seaborn/distributions.py:2557: FutureWarning: `distplot` is a deprecated function and will be removed in a future version. Please adapt your code to use either `displot` (a figure-level function with similar flexibility) or `histplot` (an axes-level function for histograms).\n",
      "  warnings.warn(msg, FutureWarning)\n",
      "/usr/local/lib/python3.6/dist-packages/seaborn/distributions.py:2557: FutureWarning: `distplot` is a deprecated function and will be removed in a future version. Please adapt your code to use either `displot` (a figure-level function with similar flexibility) or `histplot` (an axes-level function for histograms).\n",
      "  warnings.warn(msg, FutureWarning)\n",
      "/usr/local/lib/python3.6/dist-packages/seaborn/distributions.py:2557: FutureWarning: `distplot` is a deprecated function and will be removed in a future version. Please adapt your code to use either `displot` (a figure-level function with similar flexibility) or `histplot` (an axes-level function for histograms).\n",
      "  warnings.warn(msg, FutureWarning)\n",
      "/usr/local/lib/python3.6/dist-packages/seaborn/distributions.py:2557: FutureWarning: `distplot` is a deprecated function and will be removed in a future version. Please adapt your code to use either `displot` (a figure-level function with similar flexibility) or `histplot` (an axes-level function for histograms).\n",
      "  warnings.warn(msg, FutureWarning)\n",
      "/usr/local/lib/python3.6/dist-packages/seaborn/distributions.py:2557: FutureWarning: `distplot` is a deprecated function and will be removed in a future version. Please adapt your code to use either `displot` (a figure-level function with similar flexibility) or `histplot` (an axes-level function for histograms).\n",
      "  warnings.warn(msg, FutureWarning)\n",
      "/usr/local/lib/python3.6/dist-packages/seaborn/distributions.py:2557: FutureWarning: `distplot` is a deprecated function and will be removed in a future version. Please adapt your code to use either `displot` (a figure-level function with similar flexibility) or `histplot` (an axes-level function for histograms).\n",
      "  warnings.warn(msg, FutureWarning)\n",
      "/usr/local/lib/python3.6/dist-packages/seaborn/distributions.py:2557: FutureWarning: `distplot` is a deprecated function and will be removed in a future version. Please adapt your code to use either `displot` (a figure-level function with similar flexibility) or `histplot` (an axes-level function for histograms).\n",
      "  warnings.warn(msg, FutureWarning)\n",
      "/usr/local/lib/python3.6/dist-packages/seaborn/distributions.py:2557: FutureWarning: `distplot` is a deprecated function and will be removed in a future version. Please adapt your code to use either `displot` (a figure-level function with similar flexibility) or `histplot` (an axes-level function for histograms).\n",
      "  warnings.warn(msg, FutureWarning)\n",
      "/usr/local/lib/python3.6/dist-packages/seaborn/distributions.py:2557: FutureWarning: `distplot` is a deprecated function and will be removed in a future version. Please adapt your code to use either `displot` (a figure-level function with similar flexibility) or `histplot` (an axes-level function for histograms).\n",
      "  warnings.warn(msg, FutureWarning)\n",
      "/usr/local/lib/python3.6/dist-packages/seaborn/distributions.py:2557: FutureWarning: `distplot` is a deprecated function and will be removed in a future version. Please adapt your code to use either `displot` (a figure-level function with similar flexibility) or `histplot` (an axes-level function for histograms).\n",
      "  warnings.warn(msg, FutureWarning)\n"
     ]
    },
    {
     "data": {
      "image/png": "[encoded data removed]",
      "text/plain": [
       "<Figure size 2160x720 with 10 Axes>"
      ]
     },
     "metadata": {
      "needs_background": "light",
      "tags": []
     },
     "output_type": "display_data"
    }
   ],
   "source": [
    "samples = fit3.extract(permuted=True)\n",
    "\n",
    "# Since the beta_inter represents the difference bewteen beta_t - beta_c, and beta = beta_c, we can derive beta_t = beta_inter + beta_c\n",
    "post_beta_c = pd.DataFrame(samples['beta'], columns=['b_c_1','b_c_2','b_c_3','b_c_4','b_c_5']) # 2000 samples (4 chains x 500 each -> half of inter=1000)\n",
    "post_beta_t = pd.DataFrame(samples['beta_inter'] + samples['beta'], columns=['b_t_1','b_t_2','b_t_3','b_t_4','b_t_5'])\n",
    "\n",
    "# Plot true vs posterior distribution for each beta\n",
    "f, axes = plt.subplots(2, 5, figsize=(30, 10), sharex=True)\n",
    "\n",
    "plc1 = sns.distplot(post_beta_c[\"b_c_1\"] , color=\"skyblue\", ax=axes[0, 0])\n",
    "plc1.axvline(r.beta_c[0], color='r')\n",
    "plc2 = sns.distplot(post_beta_c[\"b_c_2\"] , color=\"skyblue\", ax=axes[0, 1])\n",
    "plc2.axvline(r.beta_c[1], color='r')\n",
    "plc3 = sns.distplot(post_beta_c[\"b_c_3\"] , color=\"skyblue\", ax=axes[0, 2])\n",
    "plc3.axvline(r.beta_c[2], color='r')\n",
    "plc4 = sns.distplot(post_beta_c[\"b_c_4\"] , color=\"skyblue\", ax=axes[0, 3])\n",
    "plc4.axvline(r.beta_c[3], color='r')\n",
    "plc5 = sns.distplot(post_beta_c[\"b_c_5\"] , color=\"skyblue\", ax=axes[0, 4])\n",
    "plc5.axvline(r.beta_c[4], color='r')\n",
    "\n",
    "plt1 = sns.distplot(post_beta_t[\"b_t_1\"] , color=\"teal\", ax=axes[1, 0])\n",
    "plt1.axvline(r.beta_t[0], color='r')\n",
    "plt2 = sns.distplot(post_beta_t[\"b_t_2\"] , color=\"teal\", ax=axes[1, 1])\n",
    "plt2.axvline(r.beta_t[1], color='r')\n",
    "plt3 = sns.distplot(post_beta_t[\"b_t_3\"] , color=\"teal\", ax=axes[1, 2])\n",
    "plt3.axvline(r.beta_t[2], color='r')\n",
    "plt4 = sns.distplot(post_beta_t[\"b_t_4\"] , color=\"teal\", ax=axes[1, 3])\n",
    "plt4.axvline(r.beta_t[3], color='r')\n",
    "plt5 = sns.distplot(post_beta_t[\"b_t_5\"] , color=\"teal\", ax=axes[1, 4])\n",
    "plt5.axvline(r.beta_t[4], color='r')\n",
    "\n",
    "plt.show()"
   ]
  },
  {
   "cell_type": "code",
   "execution_count": null,
   "metadata": {
    "id": "vrBBioxh-_nO"
   },
   "outputs": [],
   "source": [
    "# Estimate ps model using bayesian logistic regression\n",
    "# Add as fix covariate into model"
   ]
  },
  {
   "cell_type": "markdown",
   "metadata": {
    "id": "6Hy5UETBkfUA"
   },
   "source": [
    "# 4. Counfounded treatment assignment without covariates"
   ]
  },
  {
   "cell_type": "code",
   "execution_count": 42,
   "metadata": {
    "colab": {
     "base_uri": "https://localhost:8080/",
     "height": 402
    },
    "id": "_gnl28Ouku8L",
    "outputId": "f1d6549c-10a6-417b-e7f4-2afe34a9bd78"
   },
   "outputs": [
    {
     "data": {
      "text/html": [
       "<div>\n",
       "<style scoped>\n",
       "    .dataframe tbody tr th:only-of-type {\n",
       "        vertical-align: middle;\n",
       "    }\n",
       "\n",
       "    .dataframe tbody tr th {\n",
       "        vertical-align: top;\n",
       "    }\n",
       "\n",
       "    .dataframe thead th {\n",
       "        text-align: right;\n",
       "    }\n",
       "</style>\n",
       "<table border=\"1\" class=\"dataframe\">\n",
       "  <thead>\n",
       "    <tr style=\"text-align: right;\">\n",
       "      <th></th>\n",
       "      <th>y_obs</th>\n",
       "      <th>y_mis</th>\n",
       "      <th>y0</th>\n",
       "      <th>y1</th>\n",
       "      <th>tau_unit</th>\n",
       "      <th>w</th>\n",
       "      <th>X1</th>\n",
       "      <th>X2</th>\n",
       "      <th>X3</th>\n",
       "      <th>X4</th>\n",
       "      <th>X5</th>\n",
       "    </tr>\n",
       "  </thead>\n",
       "  <tbody>\n",
       "    <tr>\n",
       "      <th>0</th>\n",
       "      <td>6.266737</td>\n",
       "      <td>0.519771</td>\n",
       "      <td>0.519771</td>\n",
       "      <td>6.266737</td>\n",
       "      <td>5.746966</td>\n",
       "      <td>1</td>\n",
       "      <td>-0.204708</td>\n",
       "      <td>0.478943</td>\n",
       "      <td>-0.519439</td>\n",
       "      <td>-0.555730</td>\n",
       "      <td>1.965781</td>\n",
       "    </tr>\n",
       "    <tr>\n",
       "      <th>1</th>\n",
       "      <td>2.624701</td>\n",
       "      <td>2.383818</td>\n",
       "      <td>2.624701</td>\n",
       "      <td>2.383818</td>\n",
       "      <td>-0.240883</td>\n",
       "      <td>0</td>\n",
       "      <td>1.393406</td>\n",
       "      <td>0.092908</td>\n",
       "      <td>0.281746</td>\n",
       "      <td>0.769023</td>\n",
       "      <td>1.246435</td>\n",
       "    </tr>\n",
       "    <tr>\n",
       "      <th>2</th>\n",
       "      <td>3.833803</td>\n",
       "      <td>0.617474</td>\n",
       "      <td>0.617474</td>\n",
       "      <td>3.833803</td>\n",
       "      <td>3.216329</td>\n",
       "      <td>1</td>\n",
       "      <td>1.007189</td>\n",
       "      <td>-1.296221</td>\n",
       "      <td>0.274992</td>\n",
       "      <td>0.228913</td>\n",
       "      <td>1.352917</td>\n",
       "    </tr>\n",
       "    <tr>\n",
       "      <th>3</th>\n",
       "      <td>0.922897</td>\n",
       "      <td>2.223415</td>\n",
       "      <td>0.922897</td>\n",
       "      <td>2.223415</td>\n",
       "      <td>1.300517</td>\n",
       "      <td>0</td>\n",
       "      <td>0.886429</td>\n",
       "      <td>-2.001637</td>\n",
       "      <td>-0.371843</td>\n",
       "      <td>1.669025</td>\n",
       "      <td>-0.438570</td>\n",
       "    </tr>\n",
       "    <tr>\n",
       "      <th>4</th>\n",
       "      <td>-2.598899</td>\n",
       "      <td>-1.265838</td>\n",
       "      <td>-2.598899</td>\n",
       "      <td>-1.265838</td>\n",
       "      <td>1.333061</td>\n",
       "      <td>0</td>\n",
       "      <td>-0.539741</td>\n",
       "      <td>0.476985</td>\n",
       "      <td>3.248944</td>\n",
       "      <td>-1.021228</td>\n",
       "      <td>-0.577087</td>\n",
       "    </tr>\n",
       "    <tr>\n",
       "      <th>...</th>\n",
       "      <td>...</td>\n",
       "      <td>...</td>\n",
       "      <td>...</td>\n",
       "      <td>...</td>\n",
       "      <td>...</td>\n",
       "      <td>...</td>\n",
       "      <td>...</td>\n",
       "      <td>...</td>\n",
       "      <td>...</td>\n",
       "      <td>...</td>\n",
       "      <td>...</td>\n",
       "    </tr>\n",
       "    <tr>\n",
       "      <th>495</th>\n",
       "      <td>1.219681</td>\n",
       "      <td>-2.616722</td>\n",
       "      <td>-2.616722</td>\n",
       "      <td>1.219681</td>\n",
       "      <td>3.836402</td>\n",
       "      <td>1</td>\n",
       "      <td>-2.490860</td>\n",
       "      <td>0.468027</td>\n",
       "      <td>-0.343683</td>\n",
       "      <td>-1.428207</td>\n",
       "      <td>0.969402</td>\n",
       "    </tr>\n",
       "    <tr>\n",
       "      <th>496</th>\n",
       "      <td>3.055717</td>\n",
       "      <td>3.932656</td>\n",
       "      <td>3.055717</td>\n",
       "      <td>3.932656</td>\n",
       "      <td>0.876938</td>\n",
       "      <td>0</td>\n",
       "      <td>-1.026410</td>\n",
       "      <td>1.097896</td>\n",
       "      <td>-2.216861</td>\n",
       "      <td>-1.681929</td>\n",
       "      <td>-0.375497</td>\n",
       "    </tr>\n",
       "    <tr>\n",
       "      <th>497</th>\n",
       "      <td>2.212151</td>\n",
       "      <td>0.241502</td>\n",
       "      <td>0.241502</td>\n",
       "      <td>2.212151</td>\n",
       "      <td>1.970649</td>\n",
       "      <td>1</td>\n",
       "      <td>-0.764114</td>\n",
       "      <td>1.500305</td>\n",
       "      <td>1.256951</td>\n",
       "      <td>1.685727</td>\n",
       "      <td>0.722659</td>\n",
       "    </tr>\n",
       "    <tr>\n",
       "      <th>498</th>\n",
       "      <td>1.025913</td>\n",
       "      <td>2.117330</td>\n",
       "      <td>2.117330</td>\n",
       "      <td>1.025913</td>\n",
       "      <td>-1.091416</td>\n",
       "      <td>1</td>\n",
       "      <td>0.940711</td>\n",
       "      <td>0.594283</td>\n",
       "      <td>0.186224</td>\n",
       "      <td>-0.656066</td>\n",
       "      <td>0.379592</td>\n",
       "    </tr>\n",
       "    <tr>\n",
       "      <th>499</th>\n",
       "      <td>3.124928</td>\n",
       "      <td>0.957085</td>\n",
       "      <td>0.957085</td>\n",
       "      <td>3.124928</td>\n",
       "      <td>2.167843</td>\n",
       "      <td>1</td>\n",
       "      <td>-0.319952</td>\n",
       "      <td>-0.816299</td>\n",
       "      <td>-0.599823</td>\n",
       "      <td>1.472026</td>\n",
       "      <td>0.946842</td>\n",
       "    </tr>\n",
       "  </tbody>\n",
       "</table>\n",
       "<p>500 rows × 11 columns</p>\n",
       "</div>"
      ],
      "text/plain": [
       "        y_obs     y_mis        y0  ...        X3        X4        X5\n",
       "0    6.266737  0.519771  0.519771  ... -0.519439 -0.555730  1.965781\n",
       "1    2.624701  2.383818  2.624701  ...  0.281746  0.769023  1.246435\n",
       "2    3.833803  0.617474  0.617474  ...  0.274992  0.228913  1.352917\n",
       "3    0.922897  2.223415  0.922897  ... -0.371843  1.669025 -0.438570\n",
       "4   -2.598899 -1.265838 -2.598899  ...  3.248944 -1.021228 -0.577087\n",
       "..        ...       ...       ...  ...       ...       ...       ...\n",
       "495  1.219681 -2.616722 -2.616722  ... -0.343683 -1.428207  0.969402\n",
       "496  3.055717  3.932656  3.055717  ... -2.216861 -1.681929 -0.375497\n",
       "497  2.212151  0.241502  0.241502  ...  1.256951  1.685727  0.722659\n",
       "498  1.025913  2.117330  2.117330  ...  0.186224 -0.656066  0.379592\n",
       "499  3.124928  0.957085  0.957085  ... -0.599823  1.472026  0.946842\n",
       "\n",
       "[500 rows x 11 columns]"
      ]
     },
     "execution_count": 42,
     "metadata": {
      "tags": []
     },
     "output_type": "execute_result"
    }
   ],
   "source": [
    "dgp = DataGeneratingProcess(seed=12345, covariates = True, treatment_assignment='c')\n",
    "df4 = dgp.generate_data().df\n",
    "df4"
   ]
  },
  {
   "cell_type": "code",
   "execution_count": 43,
   "metadata": {
    "colab": {
     "base_uri": "https://localhost:8080/"
    },
    "id": "AV4sMbDQlNLH",
    "outputId": "4145bfb3-6e66-495a-d9ff-17f651500301"
   },
   "outputs": [
    {
     "name": "stderr",
     "output_type": "stream",
     "text": [
      "INFO:pystan:COMPILING THE C++ CODE FOR MODEL anon_model_384bd7d86f218945cd76179a6faaa753 NOW.\n",
      "WARNING:pystan:Maximum (flat) parameter count (1000) exceeded: skipping diagnostic tests for n_eff and Rhat.\n",
      "To run all diagnostics call pystan.check_hmc_diagnostics(fit)\n"
     ]
    }
   ],
   "source": [
    "stan_data4 = {'N':df4.shape[0], 'y':df4.y_obs, 'w':df4.w, 'rho':0.0}\n",
    "sm4 = pystan.StanModel(model_code=simulated_example)\n",
    "fit4 = sm4.sampling(data=stan_data4, iter=1000, chains=4)"
   ]
  },
  {
   "cell_type": "code",
   "execution_count": 44,
   "metadata": {
    "colab": {
     "base_uri": "https://localhost:8080/",
     "height": 195
    },
    "id": "Up5cF4lknG59",
    "outputId": "99ed561b-e47a-4890-c81e-708ba66ec088"
   },
   "outputs": [
    {
     "data": {
      "text/html": [
       "<div>\n",
       "<style scoped>\n",
       "    .dataframe tbody tr th:only-of-type {\n",
       "        vertical-align: middle;\n",
       "    }\n",
       "\n",
       "    .dataframe tbody tr th {\n",
       "        vertical-align: top;\n",
       "    }\n",
       "\n",
       "    .dataframe thead th {\n",
       "        text-align: right;\n",
       "    }\n",
       "</style>\n",
       "<table border=\"1\" class=\"dataframe\">\n",
       "  <thead>\n",
       "    <tr style=\"text-align: right;\">\n",
       "      <th></th>\n",
       "      <th>mean</th>\n",
       "      <th>se_mean</th>\n",
       "      <th>sd</th>\n",
       "      <th>2.5%</th>\n",
       "      <th>25%</th>\n",
       "      <th>50%</th>\n",
       "      <th>75%</th>\n",
       "      <th>97.5%</th>\n",
       "      <th>n_eff</th>\n",
       "      <th>Rhat</th>\n",
       "    </tr>\n",
       "  </thead>\n",
       "  <tbody>\n",
       "    <tr>\n",
       "      <th>alpha</th>\n",
       "      <td>1.090018</td>\n",
       "      <td>0.003532</td>\n",
       "      <td>0.129829</td>\n",
       "      <td>0.832372</td>\n",
       "      <td>1.004132</td>\n",
       "      <td>1.092271</td>\n",
       "      <td>1.176534</td>\n",
       "      <td>1.352834</td>\n",
       "      <td>1350.858581</td>\n",
       "      <td>0.999575</td>\n",
       "    </tr>\n",
       "    <tr>\n",
       "      <th>tau</th>\n",
       "      <td>0.743832</td>\n",
       "      <td>0.005334</td>\n",
       "      <td>0.188644</td>\n",
       "      <td>0.375226</td>\n",
       "      <td>0.616320</td>\n",
       "      <td>0.741077</td>\n",
       "      <td>0.872545</td>\n",
       "      <td>1.117229</td>\n",
       "      <td>1250.862354</td>\n",
       "      <td>1.001238</td>\n",
       "    </tr>\n",
       "    <tr>\n",
       "      <th>tau_fs</th>\n",
       "      <td>0.745730</td>\n",
       "      <td>0.003252</td>\n",
       "      <td>0.133306</td>\n",
       "      <td>0.494544</td>\n",
       "      <td>0.655896</td>\n",
       "      <td>0.743171</td>\n",
       "      <td>0.834652</td>\n",
       "      <td>1.010162</td>\n",
       "      <td>1680.005029</td>\n",
       "      <td>0.999455</td>\n",
       "    </tr>\n",
       "    <tr>\n",
       "      <th>sigma_c</th>\n",
       "      <td>2.182289</td>\n",
       "      <td>0.001976</td>\n",
       "      <td>0.093106</td>\n",
       "      <td>2.007091</td>\n",
       "      <td>2.119639</td>\n",
       "      <td>2.180530</td>\n",
       "      <td>2.244632</td>\n",
       "      <td>2.366233</td>\n",
       "      <td>2219.016992</td>\n",
       "      <td>0.999373</td>\n",
       "    </tr>\n",
       "    <tr>\n",
       "      <th>sigma_t</th>\n",
       "      <td>2.039757</td>\n",
       "      <td>0.002113</td>\n",
       "      <td>0.094757</td>\n",
       "      <td>1.866968</td>\n",
       "      <td>1.974563</td>\n",
       "      <td>2.035822</td>\n",
       "      <td>2.101836</td>\n",
       "      <td>2.245355</td>\n",
       "      <td>2011.593814</td>\n",
       "      <td>0.999888</td>\n",
       "    </tr>\n",
       "  </tbody>\n",
       "</table>\n",
       "</div>"
      ],
      "text/plain": [
       "             mean   se_mean        sd  ...     97.5%        n_eff      Rhat\n",
       "alpha    1.090018  0.003532  0.129829  ...  1.352834  1350.858581  0.999575\n",
       "tau      0.743832  0.005334  0.188644  ...  1.117229  1250.862354  1.001238\n",
       "tau_fs   0.745730  0.003252  0.133306  ...  1.010162  1680.005029  0.999455\n",
       "sigma_c  2.182289  0.001976  0.093106  ...  2.366233  2219.016992  0.999373\n",
       "sigma_t  2.039757  0.002113  0.094757  ...  2.245355  2011.593814  0.999888\n",
       "\n",
       "[5 rows x 10 columns]"
      ]
     },
     "execution_count": 44,
     "metadata": {
      "tags": []
     },
     "output_type": "execute_result"
    }
   ],
   "source": [
    "#print(fit)\n",
    "summary_dict = fit4.summary()\n",
    "#pars = fit.model_pars\n",
    "df4 = pd.DataFrame(summary_dict['summary'], \n",
    "                  columns=summary_dict['summary_colnames'], \n",
    "                  index=summary_dict['summary_rownames'])\n",
    "\n",
    "df4.loc[[\"alpha\", \"tau\", \"tau_fs\", \"sigma_c\", \"sigma_t\"]]"
   ]
  }
 ],
 "metadata": {
  "colab": {
   "collapsed_sections": [],
   "name": "stan_example_python.ipynb",
   "provenance": []
  },
  "kernelspec": {
   "display_name": "Python 3",
   "language": "python",
   "name": "python3"
  },
  "language_info": {
   "codemirror_mode": {
    "name": "ipython",
    "version": 3
   },
   "file_extension": ".py",
   "mimetype": "text/x-python",
   "name": "python",
   "nbconvert_exporter": "python",
   "pygments_lexer": "ipython3",
   "version": "3.8.3"
  }
 },
 "nbformat": 4,
 "nbformat_minor": 1
}
