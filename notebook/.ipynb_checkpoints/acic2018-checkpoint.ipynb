{
 "cells": [
  {
   "cell_type": "markdown",
   "metadata": {},
   "source": [
    "# Bayesian Causal Inference in Non-Randomized Experiments\n",
    "\n",
    "**Author**: Leo Guelman\n",
    "\n",
    "* [1. Problem Statment](#problem1)\n",
    " * [1.1 The National Study of Learning Mindsets](#mindsets11)\n",
    " * [1.2 Data Description](#data12)\n",
    " * [1.2 The Questions](#questions13)\n",
    "* [2. Analysis](#analysis2) \n",
    " * [2.1 Imports](#imports21)\n",
    " * [2.2 Data](#data22)\n",
    " * [2.3 Assessing Balance of Covariates](#balance23)\n",
    " * [2.4 Propensity score](#propscore24)\n",
    " * [2.5 Model-based Inference](#mbinference25)\n",
    " \n",
    " \n",
    "\n",
    "* [References](#ref)\n",
    " \n",
    " \n"
   ]
  },
  {
   "cell_type": "markdown",
   "metadata": {},
   "source": [
    "# 1. Problem Statment <a class=\"anchor\" id=\"problem1\"></a>"
   ]
  },
  {
   "cell_type": "markdown",
   "metadata": {},
   "source": [
    "## 1.1 The National Study of Learning Mindsets <a class=\"anchor\" id=\"mindsets11\"></a>\n",
    "\n",
    "We look at the causal inference challenge presented by the *National Study of Learning Mindsets* (Yeager et al., 2019) from a Bayesian perspective. \n",
    "\n",
    "The NSLM is a randomized experiment designed to assess the effectiveness of an intervention to improve academic outcomes of students with a *growth mindset*. The *growth mindset* is a belief that people can develop intelligence, as opposed to the *fixed mindset* view which sees intelligence as an innate trait that is fixed at birth.\n",
    "\n",
    "The original study consisted in a randomized experiment composed of students from 76 schools drawn from the national probability sample of U.S. public schools. In addition, to assessing the average treatment effect (ATE), the study was designed to estimate the degree of heterogeneity in treatment effect across both students and schools. \n",
    "\n",
    "A synthetic dataset was generated to mimic the original data, but with the goal of creating an observational study that includes confounding effects not present in the original randomized experiment. Besides this difference, the synthetic data resembles the real NSLM data in terms of covariate distribution, data structures, and effect sizes. \n",
    "\n",
    "During the 2018 Atlantic Causal Inference Conference, eight groups of participans were invited to analyze the synthetic data to assess the questions of average treatment effect and treatment effect variation in non-randomized experimental settings. Participants employed a diverse set of methods, ranging from matching and flexible outcome modeling to semiparametric estimation and ensemble approaches. In this study, we employ an alternative approach founded in Bayesian inference principles."
   ]
  },
  {
   "cell_type": "markdown",
   "metadata": {},
   "source": [
    "## 1.2 Data Description <a class=\"anchor\" id=\"data12\"></a>"
   ]
  },
  {
   "cell_type": "markdown",
   "metadata": {},
   "source": [
    "The analysis is based on the sythetic dataset of $n=10,391$ children from a sample of $J=76$ schools. For each children $i=\\{1, \\ldots, n\\}$, we observe a binary treatment indicator $Z_i$, a real-valued outcome $Y_i$, as well as 10 categorical or real-valued covariates as outlined in the table below. For a full description of the data generating process refer to Carvalho et al., 2019.\n",
    "\n",
    "\n",
    "| Covariate | Description |\n",
    "| :---        |    :----   | \n",
    "| S3 | Student’s self-reported expectations for success in the future, a proxy for prior achievement, measured prior to random assignment|\n",
    "| C1 | Categorical variable for student race/ethnicity |\n",
    "|C2 | Categorical variable for student identified gender\n",
    "|C3 | Categorical variable for student first-generation status, i.e. first in family to go to college\n",
    "|XC | School-level categorical variable for urbanicity of the school, i.e. rural, suburban, etc.\n",
    "| X1 | School-level mean of students’ fixed mindsets, reported prior to random assignment\n",
    "| X2|  School achievement level, as measured by test scores and college preparation for the previous 4 cohorts of students\n",
    "|X3  | School racial/ethnic minority composition, i.e., percentage of student body that is Black, Latino, or Native American\n",
    "| X4 | School poverty concentration, i.e., percentage of students who are from families whose incomes fall below the federal poverty line\n",
    "| X5 | School size, i.e., total number of students in all four grade levels in the school\n",
    "| Y | Post-treatment outcome, a continuous measure of achievement\n",
    "|Z | Treatment, i.e., receipt of the intervention\n",
    "\n",
    "\n",
    "\n"
   ]
  },
  {
   "cell_type": "markdown",
   "metadata": {},
   "source": [
    "## 1.3 The Questions <a class=\"anchor\" id=\"questions13\"></a>\n",
    "\n",
    "The two questions we are aiming to address as part of this study are the following:\n",
    "\n",
    "1. Was the mindset intervention effective in improving student achievement?\n",
    "2. Was the effect of the intervention moderated by school level achievement (X2) or pre-existing mindset norms (X1)? In particular there are two competing hypotheses about how X2 moderates the effect of the intervention: Either it is largest in middle-achieving schools (a \"Goldilocks effect\") or is decreasing in school-level achievement.\n"
   ]
  },
  {
   "cell_type": "markdown",
   "metadata": {},
   "source": [
    "# 2. Analysis <a class=\"anchor\" id=\"analysis2\"></a>"
   ]
  },
  {
   "cell_type": "markdown",
   "metadata": {},
   "source": [
    "## 2.1 Imports <a class=\"anchor\" id=\"imports21\"></a>"
   ]
  },
  {
   "cell_type": "code",
   "execution_count": 6,
   "metadata": {},
   "outputs": [],
   "source": [
    "import os\n",
    "os.chdir('/Users/lguelman/Library/Mobile Documents/com~apple~CloudDocs/LG_Files/Development/BCI/python')\n",
    "\n",
    "import pandas as pd\n",
    "import numpy as np\n",
    "import matplotlib.pyplot as plt\n",
    "parameters = {'figure.figsize': (8, 4),\n",
    "              'font.size': 8, \n",
    "              'axes.labelsize': 12}\n",
    "plt.rcParams.update(parameters)\n",
    "plt.style.use('fivethirtyeight')\n",
    "\n",
    "import pystan\n",
    "import multiprocessing\n",
    "import stan_utility\n",
    "import arviz as az\n",
    "\n",
    "from sklearn.model_selection import RandomizedSearchCV, GridSearchCV\n",
    "from sklearn.metrics import roc_auc_score\n",
    "from sklearn.model_selection import StratifiedKFold\n",
    "from xgboost import XGBClassifier\n",
    "\n",
    "\n",
    "import seaborn as sns\n",
    "\n",
    "from acic_utils import pre_process_data, stan_model_summary"
   ]
  },
  {
   "cell_type": "markdown",
   "metadata": {},
   "source": [
    "## 2.2 Data  <a class=\"anchor\" id=\"data22\"></a>"
   ]
  },
  {
   "cell_type": "code",
   "execution_count": 7,
   "metadata": {},
   "outputs": [
    {
     "name": "stdout",
     "output_type": "stream",
     "text": [
      "<class 'pandas.core.frame.DataFrame'>\n",
      "RangeIndex: 10391 entries, 0 to 10390\n",
      "Data columns (total 13 columns):\n",
      " #   Column    Non-Null Count  Dtype  \n",
      "---  ------    --------------  -----  \n",
      " 0   schoolid  10391 non-null  int64  \n",
      " 1   Z         10391 non-null  int64  \n",
      " 2   Y         10391 non-null  float64\n",
      " 3   S3        10391 non-null  int64  \n",
      " 4   C1        10391 non-null  int64  \n",
      " 5   C2        10391 non-null  int64  \n",
      " 6   C3        10391 non-null  int64  \n",
      " 7   XC        10391 non-null  int64  \n",
      " 8   X1        10391 non-null  float64\n",
      " 9   X2        10391 non-null  float64\n",
      " 10  X3        10391 non-null  float64\n",
      " 11  X4        10391 non-null  float64\n",
      " 12  X5        10391 non-null  float64\n",
      "dtypes: float64(6), int64(7)\n",
      "memory usage: 1.0 MB\n"
     ]
    },
    {
     "data": {
      "text/html": [
       "<div>\n",
       "<style scoped>\n",
       "    .dataframe tbody tr th:only-of-type {\n",
       "        vertical-align: middle;\n",
       "    }\n",
       "\n",
       "    .dataframe tbody tr th {\n",
       "        vertical-align: top;\n",
       "    }\n",
       "\n",
       "    .dataframe thead th {\n",
       "        text-align: right;\n",
       "    }\n",
       "</style>\n",
       "<table border=\"1\" class=\"dataframe\">\n",
       "  <thead>\n",
       "    <tr style=\"text-align: right;\">\n",
       "      <th></th>\n",
       "      <th>schoolid</th>\n",
       "      <th>Z</th>\n",
       "      <th>Y</th>\n",
       "      <th>S3</th>\n",
       "      <th>C1</th>\n",
       "      <th>C2</th>\n",
       "      <th>C3</th>\n",
       "      <th>XC</th>\n",
       "      <th>X1</th>\n",
       "      <th>X2</th>\n",
       "      <th>X3</th>\n",
       "      <th>X4</th>\n",
       "      <th>X5</th>\n",
       "    </tr>\n",
       "  </thead>\n",
       "  <tbody>\n",
       "    <tr>\n",
       "      <th>count</th>\n",
       "      <td>10391.000000</td>\n",
       "      <td>10391.000000</td>\n",
       "      <td>10391.000000</td>\n",
       "      <td>10391.000000</td>\n",
       "      <td>10391.000000</td>\n",
       "      <td>10391.000000</td>\n",
       "      <td>10391.000000</td>\n",
       "      <td>10391.000000</td>\n",
       "      <td>10391.000000</td>\n",
       "      <td>10391.000000</td>\n",
       "      <td>10391.000000</td>\n",
       "      <td>10391.000000</td>\n",
       "      <td>10391.000000</td>\n",
       "    </tr>\n",
       "    <tr>\n",
       "      <th>mean</th>\n",
       "      <td>39.888846</td>\n",
       "      <td>0.325666</td>\n",
       "      <td>-0.096742</td>\n",
       "      <td>5.268117</td>\n",
       "      <td>5.223078</td>\n",
       "      <td>1.489943</td>\n",
       "      <td>0.630931</td>\n",
       "      <td>2.447791</td>\n",
       "      <td>-0.040457</td>\n",
       "      <td>0.054841</td>\n",
       "      <td>-0.089349</td>\n",
       "      <td>-0.045911</td>\n",
       "      <td>-0.026168</td>\n",
       "    </tr>\n",
       "    <tr>\n",
       "      <th>std</th>\n",
       "      <td>24.008975</td>\n",
       "      <td>0.468646</td>\n",
       "      <td>0.643009</td>\n",
       "      <td>1.120765</td>\n",
       "      <td>3.982963</td>\n",
       "      <td>0.499923</td>\n",
       "      <td>0.482576</td>\n",
       "      <td>1.378420</td>\n",
       "      <td>0.969743</td>\n",
       "      <td>0.935560</td>\n",
       "      <td>0.962804</td>\n",
       "      <td>0.967262</td>\n",
       "      <td>1.010387</td>\n",
       "    </tr>\n",
       "    <tr>\n",
       "      <th>min</th>\n",
       "      <td>1.000000</td>\n",
       "      <td>0.000000</td>\n",
       "      <td>-2.097420</td>\n",
       "      <td>1.000000</td>\n",
       "      <td>1.000000</td>\n",
       "      <td>1.000000</td>\n",
       "      <td>0.000000</td>\n",
       "      <td>0.000000</td>\n",
       "      <td>-3.088790</td>\n",
       "      <td>-3.347819</td>\n",
       "      <td>-1.575463</td>\n",
       "      <td>-1.924778</td>\n",
       "      <td>-1.805073</td>\n",
       "    </tr>\n",
       "    <tr>\n",
       "      <th>25%</th>\n",
       "      <td>19.000000</td>\n",
       "      <td>0.000000</td>\n",
       "      <td>-0.548980</td>\n",
       "      <td>5.000000</td>\n",
       "      <td>3.000000</td>\n",
       "      <td>1.000000</td>\n",
       "      <td>0.000000</td>\n",
       "      <td>1.000000</td>\n",
       "      <td>-0.617888</td>\n",
       "      <td>-0.544506</td>\n",
       "      <td>-0.963095</td>\n",
       "      <td>-0.813799</td>\n",
       "      <td>-0.857026</td>\n",
       "    </tr>\n",
       "    <tr>\n",
       "      <th>50%</th>\n",
       "      <td>41.000000</td>\n",
       "      <td>0.000000</td>\n",
       "      <td>-0.118923</td>\n",
       "      <td>5.000000</td>\n",
       "      <td>4.000000</td>\n",
       "      <td>1.000000</td>\n",
       "      <td>1.000000</td>\n",
       "      <td>2.000000</td>\n",
       "      <td>-0.009954</td>\n",
       "      <td>-0.022514</td>\n",
       "      <td>-0.057036</td>\n",
       "      <td>-0.159602</td>\n",
       "      <td>-0.211553</td>\n",
       "    </tr>\n",
       "    <tr>\n",
       "      <th>75%</th>\n",
       "      <td>62.000000</td>\n",
       "      <td>1.000000</td>\n",
       "      <td>0.335663</td>\n",
       "      <td>6.000000</td>\n",
       "      <td>5.000000</td>\n",
       "      <td>2.000000</td>\n",
       "      <td>1.000000</td>\n",
       "      <td>4.000000</td>\n",
       "      <td>0.420441</td>\n",
       "      <td>0.726836</td>\n",
       "      <td>0.515392</td>\n",
       "      <td>0.596474</td>\n",
       "      <td>0.847844</td>\n",
       "    </tr>\n",
       "    <tr>\n",
       "      <th>max</th>\n",
       "      <td>76.000000</td>\n",
       "      <td>1.000000</td>\n",
       "      <td>2.194709</td>\n",
       "      <td>7.000000</td>\n",
       "      <td>15.000000</td>\n",
       "      <td>2.000000</td>\n",
       "      <td>1.000000</td>\n",
       "      <td>4.000000</td>\n",
       "      <td>2.834589</td>\n",
       "      <td>2.171815</td>\n",
       "      <td>2.358274</td>\n",
       "      <td>2.821660</td>\n",
       "      <td>1.892348</td>\n",
       "    </tr>\n",
       "  </tbody>\n",
       "</table>\n",
       "</div>"
      ],
      "text/plain": [
       "           schoolid             Z             Y            S3            C1  \\\n",
       "count  10391.000000  10391.000000  10391.000000  10391.000000  10391.000000   \n",
       "mean      39.888846      0.325666     -0.096742      5.268117      5.223078   \n",
       "std       24.008975      0.468646      0.643009      1.120765      3.982963   \n",
       "min        1.000000      0.000000     -2.097420      1.000000      1.000000   \n",
       "25%       19.000000      0.000000     -0.548980      5.000000      3.000000   \n",
       "50%       41.000000      0.000000     -0.118923      5.000000      4.000000   \n",
       "75%       62.000000      1.000000      0.335663      6.000000      5.000000   \n",
       "max       76.000000      1.000000      2.194709      7.000000     15.000000   \n",
       "\n",
       "                 C2            C3            XC            X1            X2  \\\n",
       "count  10391.000000  10391.000000  10391.000000  10391.000000  10391.000000   \n",
       "mean       1.489943      0.630931      2.447791     -0.040457      0.054841   \n",
       "std        0.499923      0.482576      1.378420      0.969743      0.935560   \n",
       "min        1.000000      0.000000      0.000000     -3.088790     -3.347819   \n",
       "25%        1.000000      0.000000      1.000000     -0.617888     -0.544506   \n",
       "50%        1.000000      1.000000      2.000000     -0.009954     -0.022514   \n",
       "75%        2.000000      1.000000      4.000000      0.420441      0.726836   \n",
       "max        2.000000      1.000000      4.000000      2.834589      2.171815   \n",
       "\n",
       "                 X3            X4            X5  \n",
       "count  10391.000000  10391.000000  10391.000000  \n",
       "mean      -0.089349     -0.045911     -0.026168  \n",
       "std        0.962804      0.967262      1.010387  \n",
       "min       -1.575463     -1.924778     -1.805073  \n",
       "25%       -0.963095     -0.813799     -0.857026  \n",
       "50%       -0.057036     -0.159602     -0.211553  \n",
       "75%        0.515392      0.596474      0.847844  \n",
       "max        2.358274      2.821660      1.892348  "
      ]
     },
     "execution_count": 7,
     "metadata": {},
     "output_type": "execute_result"
    }
   ],
   "source": [
    "df = pd.read_csv(\"../data/synthetic_data.csv\")\n",
    "df\n",
    "df.info()\n",
    "df.describe()"
   ]
  },
  {
   "cell_type": "markdown",
   "metadata": {},
   "source": [
    "## 2.3 Assessing Balance of Covariates <a class=\"anchor\" id=\"balance23\"></a>\n",
    "\n",
    "Covariate balance is the degree to which the distribution of covariates is similar across levels of the treatment. Here we assess the extent to which the treatment assignment was uniformly randomized across observational units, or there are some selection effects. To that end, we use *Prognostic scores* (Hansen 2008). The prognostic score is defined as the predicted outcome under the control condition, reflecting the baseline \"risk\", i.e., $E(Y|X, Z=0)$. It is estimated by fitting a model of the outcome in the control group, and then using that model to obtain predictions of the outcome under the control condition for all individuals. The standardize difference in the mean prognostic scores between treatment and control groups is used as a measure of covariate balance. \n",
    "\n",
    "Here we fit a Bayesian linear regression model to get a posterior distribution of the standardize difference in the mean prognostic scores between treatment and control groups.\n",
    "\n",
    "We first pre-process the data (encode categorical features and scaling)."
   ]
  },
  {
   "cell_type": "code",
   "execution_count": 8,
   "metadata": {},
   "outputs": [
    {
     "name": "stdout",
     "output_type": "stream",
     "text": [
      "Features dimension: (10391, 28)\n",
      "Treatment dimension: (10391,)\n",
      "Response dimension: (10391,)\n",
      "Number of treated / control units: 3384 / 7007\n"
     ]
    }
   ],
   "source": [
    "X, z, y, *_ = pre_process_data(df, standardize_x=True, interactions=False, \n",
    "                               p_score=None, drop_first=False)\n",
    "\n",
    "print(\"Features dimension:\", X.shape)\n",
    "print(\"Treatment dimension:\", z.shape)\n",
    "print(\"Response dimension:\", y.shape)\n",
    "print(\"Number of treated / control units:\", sum(z), \"/\", X.shape[0]-sum(z))"
   ]
  },
  {
   "cell_type": "markdown",
   "metadata": {},
   "source": [
    "We now fit the model in [stan](https://mc-stan.org/). We place the stan code separately in `stan_linear_reg.stan`, stored in the repo."
   ]
  },
  {
   "cell_type": "code",
   "execution_count": 4,
   "metadata": {},
   "outputs": [
    {
     "name": "stderr",
     "output_type": "stream",
     "text": [
      "INFO:pystan:COMPILING THE C++ CODE FOR MODEL anon_model_8096660a52168d4061eab351075ddfd3 NOW.\n",
      "WARNING:pystan:Maximum (flat) parameter count (1000) exceeded: skipping diagnostic tests for n_eff and Rhat.\n",
      "To run all diagnostics call pystan.check_hmc_diagnostics(fit)\n",
      "WARNING:pystan:1989 of 2000 iterations saturated the maximum tree depth of 10 (99.5 %)\n",
      "WARNING:pystan:Run again with max_treedepth larger than 10 to avoid saturation\n"
     ]
    }
   ],
   "source": [
    "n, p = X[z==0,:].shape # Fit model using control units only\n",
    "\n",
    "stan_data_dict = {'N': n,\n",
    "                  'K': p,\n",
    "                  'x': X[z==0,:],\n",
    "                  'y': y[z==0],\n",
    "                  'N_new': X.shape[0],\n",
    "                  'x_new': X\n",
    "                  }\n",
    "\n",
    "sm = pystan.StanModel('../stan/stan_linear_reg.stan') \n",
    "multiprocessing.set_start_method(\"fork\", force=True)\n",
    "fit = sm.sampling(data=stan_data_dict, iter=1000, chains=4)"
   ]
  },
  {
   "cell_type": "code",
   "execution_count": 5,
   "metadata": {},
   "outputs": [
    {
     "data": {
      "text/html": [
       "<div>\n",
       "<style scoped>\n",
       "    .dataframe tbody tr th:only-of-type {\n",
       "        vertical-align: middle;\n",
       "    }\n",
       "\n",
       "    .dataframe tbody tr th {\n",
       "        vertical-align: top;\n",
       "    }\n",
       "\n",
       "    .dataframe thead th {\n",
       "        text-align: right;\n",
       "    }\n",
       "</style>\n",
       "<table border=\"1\" class=\"dataframe\">\n",
       "  <thead>\n",
       "    <tr style=\"text-align: right;\">\n",
       "      <th></th>\n",
       "      <th>mean</th>\n",
       "      <th>se_mean</th>\n",
       "      <th>sd</th>\n",
       "      <th>2.5%</th>\n",
       "      <th>25%</th>\n",
       "      <th>50%</th>\n",
       "      <th>75%</th>\n",
       "      <th>97.5%</th>\n",
       "      <th>n_eff</th>\n",
       "      <th>Rhat</th>\n",
       "    </tr>\n",
       "  </thead>\n",
       "  <tbody>\n",
       "    <tr>\n",
       "      <th>alpha</th>\n",
       "      <td>-0.180473</td>\n",
       "      <td>0.000682</td>\n",
       "      <td>0.006062</td>\n",
       "      <td>-0.192060</td>\n",
       "      <td>-0.184595</td>\n",
       "      <td>-0.180412</td>\n",
       "      <td>-0.176631</td>\n",
       "      <td>-0.167804</td>\n",
       "      <td>79.103921</td>\n",
       "      <td>1.039264</td>\n",
       "    </tr>\n",
       "    <tr>\n",
       "      <th>beta[1]</th>\n",
       "      <td>0.259842</td>\n",
       "      <td>0.000490</td>\n",
       "      <td>0.006253</td>\n",
       "      <td>0.247302</td>\n",
       "      <td>0.255710</td>\n",
       "      <td>0.259856</td>\n",
       "      <td>0.263919</td>\n",
       "      <td>0.272303</td>\n",
       "      <td>162.993579</td>\n",
       "      <td>1.010028</td>\n",
       "    </tr>\n",
       "    <tr>\n",
       "      <th>beta[2]</th>\n",
       "      <td>-0.084270</td>\n",
       "      <td>0.001064</td>\n",
       "      <td>0.007508</td>\n",
       "      <td>-0.098261</td>\n",
       "      <td>-0.089673</td>\n",
       "      <td>-0.084440</td>\n",
       "      <td>-0.078964</td>\n",
       "      <td>-0.068900</td>\n",
       "      <td>49.770222</td>\n",
       "      <td>1.055612</td>\n",
       "    </tr>\n",
       "    <tr>\n",
       "      <th>beta[3]</th>\n",
       "      <td>-0.047049</td>\n",
       "      <td>0.000753</td>\n",
       "      <td>0.007042</td>\n",
       "      <td>-0.060325</td>\n",
       "      <td>-0.051766</td>\n",
       "      <td>-0.047256</td>\n",
       "      <td>-0.042788</td>\n",
       "      <td>-0.032225</td>\n",
       "      <td>87.341787</td>\n",
       "      <td>1.014489</td>\n",
       "    </tr>\n",
       "    <tr>\n",
       "      <th>beta[4]</th>\n",
       "      <td>-0.066494</td>\n",
       "      <td>0.001092</td>\n",
       "      <td>0.008240</td>\n",
       "      <td>-0.084952</td>\n",
       "      <td>-0.071893</td>\n",
       "      <td>-0.066524</td>\n",
       "      <td>-0.060922</td>\n",
       "      <td>-0.050558</td>\n",
       "      <td>56.935242</td>\n",
       "      <td>1.072426</td>\n",
       "    </tr>\n",
       "    <tr>\n",
       "      <th>...</th>\n",
       "      <td>...</td>\n",
       "      <td>...</td>\n",
       "      <td>...</td>\n",
       "      <td>...</td>\n",
       "      <td>...</td>\n",
       "      <td>...</td>\n",
       "      <td>...</td>\n",
       "      <td>...</td>\n",
       "      <td>...</td>\n",
       "      <td>...</td>\n",
       "    </tr>\n",
       "    <tr>\n",
       "      <th>prog_scores[10388]</th>\n",
       "      <td>0.189451</td>\n",
       "      <td>0.012322</td>\n",
       "      <td>0.532693</td>\n",
       "      <td>-0.895746</td>\n",
       "      <td>-0.153782</td>\n",
       "      <td>0.200995</td>\n",
       "      <td>0.550915</td>\n",
       "      <td>1.211920</td>\n",
       "      <td>1868.777768</td>\n",
       "      <td>0.999361</td>\n",
       "    </tr>\n",
       "    <tr>\n",
       "      <th>prog_scores[10389]</th>\n",
       "      <td>-0.640649</td>\n",
       "      <td>0.011924</td>\n",
       "      <td>0.532342</td>\n",
       "      <td>-1.728935</td>\n",
       "      <td>-0.994622</td>\n",
       "      <td>-0.649735</td>\n",
       "      <td>-0.293748</td>\n",
       "      <td>0.364732</td>\n",
       "      <td>1993.072312</td>\n",
       "      <td>0.999764</td>\n",
       "    </tr>\n",
       "    <tr>\n",
       "      <th>prog_scores[10390]</th>\n",
       "      <td>-0.117497</td>\n",
       "      <td>0.012929</td>\n",
       "      <td>0.547020</td>\n",
       "      <td>-1.196745</td>\n",
       "      <td>-0.474394</td>\n",
       "      <td>-0.116535</td>\n",
       "      <td>0.248671</td>\n",
       "      <td>0.917609</td>\n",
       "      <td>1790.100989</td>\n",
       "      <td>0.999152</td>\n",
       "    </tr>\n",
       "    <tr>\n",
       "      <th>prog_scores[10391]</th>\n",
       "      <td>-0.140658</td>\n",
       "      <td>0.012516</td>\n",
       "      <td>0.535702</td>\n",
       "      <td>-1.203412</td>\n",
       "      <td>-0.484381</td>\n",
       "      <td>-0.143738</td>\n",
       "      <td>0.208788</td>\n",
       "      <td>0.884966</td>\n",
       "      <td>1831.857298</td>\n",
       "      <td>0.999031</td>\n",
       "    </tr>\n",
       "    <tr>\n",
       "      <th>lp__</th>\n",
       "      <td>845.494439</td>\n",
       "      <td>0.194482</td>\n",
       "      <td>3.768608</td>\n",
       "      <td>837.206649</td>\n",
       "      <td>843.124913</td>\n",
       "      <td>845.963014</td>\n",
       "      <td>848.300275</td>\n",
       "      <td>851.775962</td>\n",
       "      <td>375.495474</td>\n",
       "      <td>1.022281</td>\n",
       "    </tr>\n",
       "  </tbody>\n",
       "</table>\n",
       "<p>10422 rows × 10 columns</p>\n",
       "</div>"
      ],
      "text/plain": [
       "                          mean   se_mean        sd        2.5%         25%  \\\n",
       "alpha                -0.180473  0.000682  0.006062   -0.192060   -0.184595   \n",
       "beta[1]               0.259842  0.000490  0.006253    0.247302    0.255710   \n",
       "beta[2]              -0.084270  0.001064  0.007508   -0.098261   -0.089673   \n",
       "beta[3]              -0.047049  0.000753  0.007042   -0.060325   -0.051766   \n",
       "beta[4]              -0.066494  0.001092  0.008240   -0.084952   -0.071893   \n",
       "...                        ...       ...       ...         ...         ...   \n",
       "prog_scores[10388]    0.189451  0.012322  0.532693   -0.895746   -0.153782   \n",
       "prog_scores[10389]   -0.640649  0.011924  0.532342   -1.728935   -0.994622   \n",
       "prog_scores[10390]   -0.117497  0.012929  0.547020   -1.196745   -0.474394   \n",
       "prog_scores[10391]   -0.140658  0.012516  0.535702   -1.203412   -0.484381   \n",
       "lp__                845.494439  0.194482  3.768608  837.206649  843.124913   \n",
       "\n",
       "                           50%         75%       97.5%        n_eff      Rhat  \n",
       "alpha                -0.180412   -0.176631   -0.167804    79.103921  1.039264  \n",
       "beta[1]               0.259856    0.263919    0.272303   162.993579  1.010028  \n",
       "beta[2]              -0.084440   -0.078964   -0.068900    49.770222  1.055612  \n",
       "beta[3]              -0.047256   -0.042788   -0.032225    87.341787  1.014489  \n",
       "beta[4]              -0.066524   -0.060922   -0.050558    56.935242  1.072426  \n",
       "...                        ...         ...         ...          ...       ...  \n",
       "prog_scores[10388]    0.200995    0.550915    1.211920  1868.777768  0.999361  \n",
       "prog_scores[10389]   -0.649735   -0.293748    0.364732  1993.072312  0.999764  \n",
       "prog_scores[10390]   -0.116535    0.248671    0.917609  1790.100989  0.999152  \n",
       "prog_scores[10391]   -0.143738    0.208788    0.884966  1831.857298  0.999031  \n",
       "lp__                845.963014  848.300275  851.775962   375.495474  1.022281  \n",
       "\n",
       "[10422 rows x 10 columns]"
      ]
     },
     "execution_count": 5,
     "metadata": {},
     "output_type": "execute_result"
    }
   ],
   "source": [
    "fit_summary = stan_model_summary(fit)\n",
    "fit_summary"
   ]
  },
  {
   "cell_type": "markdown",
   "metadata": {},
   "source": [
    "The standardize mean difference in Prognostic scores is positive meaning that students with highest potential outcomes under control are more likely to receive treatment. This can also be appreciated by plotting the proportion of individuals assigned to treatment for by quantile of the prognostic score (each quantile comprises about 1/5 of the observations). In this case, we say that the treatment assignment mechanisms is *counfounded* with the potential outcomes (i.e., the value of the outcome for each subject under each treatment, only one of which is observed).\n",
    "\n",
    "In this context, a simple comparison of treated versus control individuals would produce bias estimates of treatment effects (both average and conditional effects). We thus proceed the analysis as an observational study instead on a randomized one. Specifically, to address this problem we directly incorporate an estimate of the *propensity score* in the specification of the outcome model, implicitly inducing a covariate dependent prior on the regression function (see Hahn 2020).\n",
    "\n",
    "\n"
   ]
  },
  {
   "cell_type": "code",
   "execution_count": 6,
   "metadata": {},
   "outputs": [
    {
     "data": {
      "image/png": "[encoded data removed]",
      "text/plain": [
       "<Figure size 576x288 with 1 Axes>"
      ]
     },
     "metadata": {},
     "output_type": "display_data"
    }
   ],
   "source": [
    "# Extract prognostic scores\n",
    "samples = fit.extract(permuted=True)\n",
    "prog_scores = samples['prog_scores'].T\n",
    "\n",
    "# Compute mean and standardize mean differences in scores\n",
    "mcmc_samples = prog_scores.shape[1]\n",
    "prog_scores_diff = np.zeros(mcmc_samples)\n",
    "prog_scores_std_diff = np.zeros(mcmc_samples)\n",
    "\n",
    "for s in range(mcmc_samples):\n",
    "    prog_scores_diff[s] = np.mean(prog_scores[z==1,s]) - np.mean(prog_scores[z==0,s])\n",
    "    prog_scores_std_diff[s] = prog_scores_diff[s] / np.std(prog_scores[:,s])\n",
    "  \n",
    "                               \n",
    "plt.hist(prog_scores_std_diff, bins = 30)\n",
    "plt.title(\"Standardized mean difference in Prognostic scores\", fontsize=12)\n",
    "plt.show()  \n"
   ]
  },
  {
   "cell_type": "code",
   "execution_count": 7,
   "metadata": {
    "scrolled": true
   },
   "outputs": [
    {
     "name": "stderr",
     "output_type": "stream",
     "text": [
      "INFO:numexpr.utils:NumExpr defaulting to 8 threads.\n"
     ]
    },
    {
     "data": {
      "text/plain": [
       "<matplotlib.axes._subplots.AxesSubplot at 0x7fb0a7c38d00>"
      ]
     },
     "execution_count": 7,
     "metadata": {},
     "output_type": "execute_result"
    },
    {
     "data": {
      "image/png": "[encoded data removed]",
      "text/plain": [
       "<Figure size 576x288 with 1 Axes>"
      ]
     },
     "metadata": {},
     "output_type": "display_data"
    }
   ],
   "source": [
    "# Compute proportion treated by mean prognostic score quantile\n",
    "prog_scores_df = pd.DataFrame({'prog_score_mean': np.mean(prog_scores, axis =1),'z':z})\n",
    "prog_scores_df['prog_score_mean_quantile']= pd.qcut(prog_scores_df['prog_score_mean'], \n",
    "                                                    q = 5, labels = False)+1\n",
    "prog_scores_df.groupby(['prog_score_mean_quantile'])['z'].mean().plot(xticks=list(range(1,6)), \n",
    "                                                                     xlabel='Mean Prognostic Score (Quantile)',\n",
    "                                                                     ylabel='Proportion Treated')"
   ]
  },
  {
   "cell_type": "markdown",
   "metadata": {},
   "source": [
    "## 2.4 Propensity Score <a class=\"anchor\" id=\"propscore24\"></a>\n",
    "\n",
    "The propensity score is the probability of treatment assignment conditional on observed baseline covariates, i.e., $E(Z|X)$. Here we fit the propensity score using a flexible non-linear specification based on a Gradient Boosting method. Parameter tuning is done via cross-validated random search."
   ]
  },
  {
   "cell_type": "code",
   "execution_count": 9,
   "metadata": {},
   "outputs": [
    {
     "name": "stdout",
     "output_type": "stream",
     "text": [
      "Fitting 3 folds for each of 30 candidates, totalling 90 fits\n"
     ]
    },
    {
     "name": "stderr",
     "output_type": "stream",
     "text": [
      "[Parallel(n_jobs=-1)]: Using backend LokyBackend with 8 concurrent workers.\n",
      "[Parallel(n_jobs=-1)]: Done  16 tasks      | elapsed:   12.2s\n",
      "[Parallel(n_jobs=-1)]: Done  90 out of  90 | elapsed:  1.2min finished\n",
      "/Users/lguelman/opt/anaconda3/lib/python3.8/site-packages/xgboost/sklearn.py:888: UserWarning: The use of label encoder in XGBClassifier is deprecated and will be removed in a future release. To remove this warning, do the following: 1) Pass option use_label_encoder=False when constructing XGBClassifier object; and 2) Encode your labels (y) as integers starting with 0, i.e. 0, 1, 2, ..., [num_class - 1].\n",
      "  warnings.warn(label_encoder_deprecation_msg, UserWarning)\n"
     ]
    },
    {
     "name": "stdout",
     "output_type": "stream",
     "text": [
      "[08:41:47] WARNING: /Users/travis/build/dmlc/xgboost/src/learner.cc:541: \n",
      "Parameters: { silent } might not be used.\n",
      "\n",
      "  This may not be accurate due to some parameters are only used in language bindings but\n",
      "  passed down to XGBoost core.  Or some parameters are not used but slip through this\n",
      "  verification. Please open an issue if you find above cases.\n",
      "\n",
      "\n",
      "[08:41:47] WARNING: /Users/travis/build/dmlc/xgboost/src/learner.cc:1061: Starting in XGBoost 1.3.0, the default evaluation metric used with the objective 'binary:logistic' was changed from 'error' to 'logloss'. Explicitly set eval_metric if you'd like to restore the old behavior.\n",
      "\n",
      " Best estimator:\n",
      "XGBClassifier(base_score=0.5, booster='gbtree', colsample_bylevel=1,\n",
      "              colsample_bynode=1, colsample_bytree=1.0, gamma=5, gpu_id=-1,\n",
      "              importance_type='gain', interaction_constraints='',\n",
      "              learning_rate=0.01, max_delta_step=0, max_depth=3,\n",
      "              min_child_weight=10, missing=nan, monotone_constraints='()',\n",
      "              n_estimators=500, n_jobs=1, nthread=1, num_parallel_tree=1,\n",
      "              random_state=0, reg_alpha=0, reg_lambda=1, scale_pos_weight=1,\n",
      "              silent=True, subsample=0.8, tree_method='exact',\n",
      "              validate_parameters=1, verbosity=None)\n",
      "\n",
      " Best AUC score:\n",
      "0.5330966595431671\n",
      "\n",
      " Best hyperparameters:\n",
      "{'subsample': 0.8, 'min_child_weight': 10, 'max_depth': 3, 'gamma': 5, 'colsample_bytree': 1.0}\n",
      "[08:41:51] WARNING: /Users/travis/build/dmlc/xgboost/src/learner.cc:541: \n",
      "Parameters: { silent } might not be used.\n",
      "\n",
      "  This may not be accurate due to some parameters are only used in language bindings but\n",
      "  passed down to XGBoost core.  Or some parameters are not used but slip through this\n",
      "  verification. Please open an issue if you find above cases.\n",
      "\n",
      "\n",
      "[08:41:51] WARNING: /Users/travis/build/dmlc/xgboost/src/learner.cc:1061: Starting in XGBoost 1.3.0, the default evaluation metric used with the objective 'binary:logistic' was changed from 'error' to 'logloss'. Explicitly set eval_metric if you'd like to restore the old behavior.\n"
     ]
    }
   ],
   "source": [
    "param_grid = {\n",
    "        'min_child_weight': [1, 5, 10],\n",
    "        'gamma': [0.5, 1, 1.5, 2, 5],\n",
    "        'subsample': [0.6, 0.8, 1.0],\n",
    "        'colsample_bytree': [0.6, 0.8, 1.0],\n",
    "        'max_depth': [3, 4, 5]\n",
    "        }\n",
    "\n",
    "n_folds = 3\n",
    "param_n_picks = 30\n",
    "\n",
    "xgb = XGBClassifier(learning_rate=0.01, n_estimators=500, objective='binary:logistic',\n",
    "                    silent=True, nthread=1)\n",
    "\n",
    "skf = StratifiedKFold(n_splits=n_folds, shuffle = True, random_state = 42)\n",
    "\n",
    "xgb_fits = RandomizedSearchCV(xgb, param_distributions=param_grid,\n",
    "                              n_iter=param_n_picks, scoring='roc_auc', n_jobs=-1, \n",
    "                              cv=skf.split(X,z), verbose=3, random_state=42)\n",
    "\n",
    "xgb_fits.fit(X, z)\n",
    "\n",
    "print('\\n Best estimator:')\n",
    "print(xgb_fits.best_estimator_)\n",
    "print('\\n Best AUC score:')\n",
    "print(xgb_fits.best_score_)\n",
    "print('\\n Best hyperparameters:')\n",
    "print(xgb_fits.best_params_)\n",
    "\n",
    "# We now fit the best estimator to all train data \n",
    "best_fit = xgb_fits.best_estimator_.fit(X, z)\n",
    "pscore = best_fit.predict_proba(X)[:,1]\n",
    "log_odds_pscore = np.log(pscore /(1-pscore))"
   ]
  },
  {
   "cell_type": "code",
   "execution_count": 10,
   "metadata": {},
   "outputs": [
    {
     "name": "stderr",
     "output_type": "stream",
     "text": [
      "INFO:numexpr.utils:NumExpr defaulting to 8 threads.\n"
     ]
    },
    {
     "data": {
      "text/plain": [
       "<seaborn.axisgrid.FacetGrid at 0x7fc4ad6de760>"
      ]
     },
     "execution_count": 10,
     "metadata": {},
     "output_type": "execute_result"
    },
    {
     "data": {
      "image/png": "[encoded data removed]",
      "text/plain": [
       "<Figure size 419.275x360 with 1 Axes>"
      ]
     },
     "metadata": {},
     "output_type": "display_data"
    }
   ],
   "source": [
    "prop_score_df = pd.DataFrame({'log_odds_pscore': log_odds_pscore, 'Z':z})\n",
    "sns.displot(prop_score_df, x=\"log_odds_pscore\", \n",
    "            hue=\"Z\",  stat=\"density\", common_norm=False)"
   ]
  },
  {
   "cell_type": "markdown",
   "metadata": {},
   "source": [
    "## 2.5 Model-based Inference <a class=\"anchor\" id=\"mbinference25\"></a>\n",
    "\n",
    "\n"
   ]
  },
  {
   "cell_type": "code",
   "execution_count": 25,
   "metadata": {},
   "outputs": [],
   "source": [
    "X, z, y, a_effects, m_effects, i_effects = pre_process_data(df, standardize_x=True, interactions=True, \n",
    "                                                            p_score=log_odds_pscore, drop_first=False)\n",
    "\n",
    "# Get indexes of main and interaction effects\n",
    "idx_m_effects = [a_effects.index(i) for i in m_effects]\n",
    "idx_i_effects = [a_effects.index(i) for i in i_effects]"
   ]
  },
  {
   "cell_type": "code",
   "execution_count": null,
   "metadata": {},
   "outputs": [
    {
     "name": "stderr",
     "output_type": "stream",
     "text": [
      "INFO:pystan:COMPILING THE C++ CODE FOR MODEL anon_model_60991e207af6827951ca148d0742491d NOW.\n"
     ]
    }
   ],
   "source": [
    "stan_data_mbi = {'N': X.shape[0], \n",
    "                 'y': y,\n",
    "                 'z': z,\n",
    "                 'x': X[:,idx_m_effects],\n",
    "                 'xz_inter': X[:,idx_i_effects],\n",
    "                 'N_main_cov':len(idx_m_effects),\n",
    "                 'N_inter_cov':len(idx_i_effects),\n",
    "                 'rho':0.0}\n",
    "\n",
    "sm = pystan.StanModel('../stan/stan_mbi.stan') \n",
    "multiprocessing.set_start_method(\"fork\", force=True)\n",
    "fit_mbi = sm.sampling(data=stan_data_mbi, iter=1000, chains=4)"
   ]
  },
  {
   "cell_type": "markdown",
   "metadata": {},
   "source": [
    "### 2.5.1 MCMC Diagnostics "
   ]
  },
  {
   "cell_type": "code",
   "execution_count": null,
   "metadata": {},
   "outputs": [],
   "source": [
    "summary_stan_fit = stan_model_summary(fit_mbi)\n",
    "summary_stan_fit"
   ]
  },
  {
   "cell_type": "code",
   "execution_count": null,
   "metadata": {},
   "outputs": [],
   "source": [
    "r_hat = summary_stan_fit['Rhat']\n",
    "r_hat.plot.hist(title=\"Rhat\")\n",
    "plt.axvline(1.1, color='r', linestyle='--')"
   ]
  },
  {
   "cell_type": "code",
   "execution_count": null,
   "metadata": {},
   "outputs": [],
   "source": [
    "summary_stan_fit['n_eff'].plot.hist(title=\"n_eff\")"
   ]
  },
  {
   "cell_type": "code",
   "execution_count": null,
   "metadata": {},
   "outputs": [],
   "source": [
    "stan_utility.utils.check_treedepth(fit_mbi)"
   ]
  },
  {
   "cell_type": "code",
   "execution_count": null,
   "metadata": {},
   "outputs": [],
   "source": [
    "stan_utility.utils.check_energy(fit_mbi)"
   ]
  },
  {
   "cell_type": "code",
   "execution_count": null,
   "metadata": {},
   "outputs": [],
   "source": [
    "stan_utility.utils.check_div(fit_mbi)"
   ]
  },
  {
   "cell_type": "markdown",
   "metadata": {},
   "source": [
    "### 2.5.2  Effectiveness of mindset intervention\n",
    "\n",
    "Here we address the first study question, which we recall is \"*Was the mindset intervention effective in improving student achievement?*\" This relates to the *Average Treatment Effect (ATE)*. We plot the estimated finite sample ATE below. "
   ]
  },
  {
   "cell_type": "code",
   "execution_count": null,
   "metadata": {},
   "outputs": [],
   "source": [
    "taus = summary_stan_fit.loc[['tau_fs', 'tau']]\n",
    "\n",
    "#az.plot_density(inf_data, var_names = [\"tau\", \"tau_fs\"], \n",
    "#                hdi_prob =.95, hdi_markers='v', shade =.5)\n",
    "\n",
    "#summary_df_cov = summary_df.iloc[1:X[main_cols + inter_cols].shape[1]+1,:] \n",
    "#summary_df_cov = summary_df_cov.rename(index=dict(zip(summary_df_cov.index,\n",
    "#                                                      main_cols + inter_cols)))\n",
    "#summary_df_cov\n",
    "\n",
    "\n",
    "#az.plot_density(inf_data, var_names = [\"beta_inter\"], figsize=(20, 20),\n",
    "#                hdi_prob =.95, hdi_markers='v', shade =.5)\n",
    "\n",
    "\n",
    "#az.plot_density(inf_data, var_names = [ \"beta\"], figsize=(20, 20),\n",
    "#                hdi_prob =.95, hdi_markers='v', shade =.5)\n"
   ]
  },
  {
   "cell_type": "code",
   "execution_count": null,
   "metadata": {},
   "outputs": [],
   "source": []
  },
  {
   "cell_type": "code",
   "execution_count": null,
   "metadata": {},
   "outputs": [],
   "source": []
  },
  {
   "cell_type": "markdown",
   "metadata": {},
   "source": [
    "# References <a class=\"anchor\" id=\"ref\"></a>"
   ]
  },
  {
   "cell_type": "markdown",
   "metadata": {},
   "source": [
    "Yeager, D.S., Hanselman, P., Walton, G.M. et al. A national experiment reveals where a growth mindset improves achievement. Nature 573, 364–369 (2019). https://doi.org/10.1038/s41586-019-1466-y\n",
    "\n",
    "Carvalho, C., Feller, A., Murray, J., Woody, S., and Yeager, D. Assessing Treatment Effect Variation in Observational Studies: Results from a Data Challenge, (2019). https://arxiv.org/abs/1907.07592\n",
    "\n",
    "Hansen, Ben B. The Prognostic Analogue of the Propensity Score. Biometrika 95 (2), 481–88, (2008). https://doi.org/10.1093/biomet/asn004.\n",
    "\n",
    "Yeager, D.S., Hanselman, P., Walton, G.M. et al. A national experiment reveals where a growth mindset improves achievement. Nature 573, 364–369 (2019). https://doi.org/10.1038/s41586-019-1466-y\n",
    "\n",
    "\n",
    "Hahn, P.R., Murray, J.S., Carvalho, C.M. Bayesian Regression Tree Models for Causal Inference: Regularization, Confounding, and Heterogeneous Effects (with Discussion). Bayesian Analysis. 15 (3) 965 - 1056 (2020). https://doi.org/10.1214/19-BA1195\n",
    "\n"
   ]
  },
  {
   "cell_type": "code",
   "execution_count": null,
   "metadata": {},
   "outputs": [],
   "source": []
  }
 ],
 "metadata": {
  "kernelspec": {
   "display_name": "Python 3",
   "language": "python",
   "name": "python3"
  },
  "language_info": {
   "codemirror_mode": {
    "name": "ipython",
    "version": 3
   },
   "file_extension": ".py",
   "mimetype": "text/x-python",
   "name": "python",
   "nbconvert_exporter": "python",
   "pygments_lexer": "ipython3",
   "version": "3.8.3"
  }
 },
 "nbformat": 4,
 "nbformat_minor": 4
}
