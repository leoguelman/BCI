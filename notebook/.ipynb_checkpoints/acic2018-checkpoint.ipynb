{
 "cells": [
  {
   "cell_type": "markdown",
   "metadata": {},
   "source": [
    "# Bayesian Causal Inference in Non-Randomized Experiments\n",
    "\n",
    "**Author**: Leo Guelman\n",
    "\n",
    "* [1. Problem Statment](#problem1)\n",
    " * [1.1 The National Study of Learning Mindsets](#mindsets11)\n",
    " * [1.2 Data Description](#data12)\n",
    " * [1.2 The Questions](#questions13)\n",
    "* [2. Analysis](#analysis2) \n",
    " * [2.1 Imports](#imports21)\n",
    " * [2.2 Data](#data22)\n",
    " * [2.3 Assessing Balance of Covariates](#balance23)\n",
    " * [2.4 Propensity score](#propscore24)\n",
    " * [2.5 Model-based Inference](#mbinference25)\n",
    " \n",
    " \n",
    "\n",
    "* [References](#ref)\n",
    " \n",
    " \n"
   ]
  },
  {
   "cell_type": "markdown",
   "metadata": {},
   "source": [
    "# 1. Problem Statment <a class=\"anchor\" id=\"problem1\"></a>"
   ]
  },
  {
   "cell_type": "markdown",
   "metadata": {},
   "source": [
    "## 1.1 The National Study of Learning Mindsets <a class=\"anchor\" id=\"mindsets11\"></a>\n",
    "\n",
    "We look at the causal inference challenge presented by the *National Study of Learning Mindsets* (Yeager et al., 2019) from a Bayesian perspective. \n",
    "\n",
    "The NSLM is a randomized experiment designed to assess the effectiveness of an intervention to improve academic outcomes of students with a *growth mindset*. The *growth mindset* is a belief that people can develop intelligence, as opposed to the *fixed mindset* view which sees intelligence as an innate trait that is fixed at birth.\n",
    "\n",
    "The original study consisted in a randomized experiment composed of students from 76 schools drawn from the national probability sample of U.S. public schools. In addition, to assessing the average treatment effect (ATE), the study was designed to estimate the degree of heterogeneity in treatment effect across both students and schools. \n",
    "\n",
    "A synthetic dataset was generated to mimic the original data, but with the goal of creating an observational study that includes confounding effects not present in the original randomized experiment. Besides this difference, the synthetic data resembles the real NSLM data in terms of covariate distribution, data structures, and effect sizes. \n",
    "\n",
    "During the 2018 Atlantic Causal Inference Conference, eight groups of participans were invited to analyze the synthetic data to assess the questions of average treatment effect and treatment effect variation in non-randomized experimental settings. Participants employed a diverse set of methods, ranging from matching and flexible outcome modeling to semiparametric estimation and ensemble approaches. In this study, we employ an alternative approach founded in Bayesian inference principles."
   ]
  },
  {
   "cell_type": "markdown",
   "metadata": {},
   "source": [
    "## 1.2 Data Description <a class=\"anchor\" id=\"data12\"></a>"
   ]
  },
  {
   "cell_type": "markdown",
   "metadata": {},
   "source": [
    "The analysis is based on the sythetic dataset of $n=10,391$ children from a sample of $J=76$ schools. For each children $i=\\{1, \\ldots, n\\}$, we observe a binary treatment indicator $Z_i$, a real-valued outcome $Y_i$, as well as 10 categorical or real-valued covariates as outlined in the table below. For a full description of the data generating process refer to Carvalho et al., 2019.\n",
    "\n",
    "\n",
    "| Covariate | Description |\n",
    "| :---        |    :----   | \n",
    "| S3 | Student’s self-reported expectations for success in the future, a proxy for prior achievement, measured prior to random assignment|\n",
    "| C1 | Categorical variable for student race/ethnicity |\n",
    "|C2 | Categorical variable for student identified gender\n",
    "|C3 | Categorical variable for student first-generation status, i.e. first in family to go to college\n",
    "|XC | School-level categorical variable for urbanicity of the school, i.e. rural, suburban, etc.\n",
    "| X1 | School-level mean of students’ fixed mindsets, reported prior to random assignment\n",
    "| X2|  School achievement level, as measured by test scores and college preparation for the previous 4 cohorts of students\n",
    "|X3  | School racial/ethnic minority composition, i.e., percentage of student body that is Black, Latino, or Native American\n",
    "| X4 | School poverty concentration, i.e., percentage of students who are from families whose incomes fall below the federal poverty line\n",
    "| X5 | School size, i.e., total number of students in all four grade levels in the school\n",
    "| Y | Post-treatment outcome, a continuous measure of achievement\n",
    "|Z | Treatment, i.e., receipt of the intervention\n",
    "\n",
    "\n",
    "\n"
   ]
  },
  {
   "cell_type": "markdown",
   "metadata": {},
   "source": [
    "## 1.3 The Questions <a class=\"anchor\" id=\"questions13\"></a>\n",
    "\n",
    "The two questions we are aiming to address as part of this study are the following:\n",
    "\n",
    "1. Was the mindset intervention effective in improving student achievement?\n",
    "2. Was the effect of the intervention moderated by school level achievement (X2) or pre-existing mindset norms (X1)? In particular there are two competing hypotheses about how X2 moderates the effect of the intervention: Either it is largest in middle-achieving schools (a \"Goldilocks effect\") or is decreasing in school-level achievement.\n"
   ]
  },
  {
   "cell_type": "markdown",
   "metadata": {},
   "source": [
    "# 2. Analysis <a class=\"anchor\" id=\"analysis2\"></a>"
   ]
  },
  {
   "cell_type": "markdown",
   "metadata": {},
   "source": [
    "## 2.1 Imports <a class=\"anchor\" id=\"imports21\"></a>"
   ]
  },
  {
   "cell_type": "code",
   "execution_count": 1,
   "metadata": {},
   "outputs": [],
   "source": [
    "import os\n",
    "os.chdir('/Users/lguelman/Library/Mobile Documents/com~apple~CloudDocs/LG_Files/Development/BCI/python')\n",
    "\n",
    "import pandas as pd\n",
    "import numpy as np\n",
    "import matplotlib.pyplot as plt\n",
    "parameters = {'figure.figsize': (8, 4),\n",
    "              'font.size': 8, \n",
    "              'axes.labelsize': 12}\n",
    "plt.rcParams.update(parameters)\n",
    "plt.style.use('fivethirtyeight')\n",
    "\n",
    "import pystan\n",
    "import multiprocessing\n",
    "import stan_utility\n",
    "import arviz as az\n",
    "\n",
    "from sklearn.model_selection import RandomizedSearchCV, GridSearchCV\n",
    "from sklearn.metrics import roc_auc_score\n",
    "from sklearn.model_selection import StratifiedKFold\n",
    "from xgboost import XGBClassifier\n",
    "\n",
    "\n",
    "import seaborn as sns\n",
    "\n",
    "from acic_utils import pre_process_data, stan_model_summary"
   ]
  },
  {
   "cell_type": "markdown",
   "metadata": {},
   "source": [
    "## 2.2 Data  <a class=\"anchor\" id=\"data22\"></a>"
   ]
  },
  {
   "cell_type": "code",
   "execution_count": 2,
   "metadata": {},
   "outputs": [
    {
     "name": "stdout",
     "output_type": "stream",
     "text": [
      "<class 'pandas.core.frame.DataFrame'>\n",
      "RangeIndex: 10391 entries, 0 to 10390\n",
      "Data columns (total 13 columns):\n",
      " #   Column    Non-Null Count  Dtype  \n",
      "---  ------    --------------  -----  \n",
      " 0   schoolid  10391 non-null  int64  \n",
      " 1   Z         10391 non-null  int64  \n",
      " 2   Y         10391 non-null  float64\n",
      " 3   S3        10391 non-null  int64  \n",
      " 4   C1        10391 non-null  int64  \n",
      " 5   C2        10391 non-null  int64  \n",
      " 6   C3        10391 non-null  int64  \n",
      " 7   XC        10391 non-null  int64  \n",
      " 8   X1        10391 non-null  float64\n",
      " 9   X2        10391 non-null  float64\n",
      " 10  X3        10391 non-null  float64\n",
      " 11  X4        10391 non-null  float64\n",
      " 12  X5        10391 non-null  float64\n",
      "dtypes: float64(6), int64(7)\n",
      "memory usage: 1.0 MB\n"
     ]
    },
    {
     "data": {
      "text/html": [
       "<div>\n",
       "<style scoped>\n",
       "    .dataframe tbody tr th:only-of-type {\n",
       "        vertical-align: middle;\n",
       "    }\n",
       "\n",
       "    .dataframe tbody tr th {\n",
       "        vertical-align: top;\n",
       "    }\n",
       "\n",
       "    .dataframe thead th {\n",
       "        text-align: right;\n",
       "    }\n",
       "</style>\n",
       "<table border=\"1\" class=\"dataframe\">\n",
       "  <thead>\n",
       "    <tr style=\"text-align: right;\">\n",
       "      <th></th>\n",
       "      <th>schoolid</th>\n",
       "      <th>Z</th>\n",
       "      <th>Y</th>\n",
       "      <th>S3</th>\n",
       "      <th>C1</th>\n",
       "      <th>C2</th>\n",
       "      <th>C3</th>\n",
       "      <th>XC</th>\n",
       "      <th>X1</th>\n",
       "      <th>X2</th>\n",
       "      <th>X3</th>\n",
       "      <th>X4</th>\n",
       "      <th>X5</th>\n",
       "    </tr>\n",
       "  </thead>\n",
       "  <tbody>\n",
       "    <tr>\n",
       "      <th>count</th>\n",
       "      <td>10391.000000</td>\n",
       "      <td>10391.000000</td>\n",
       "      <td>10391.000000</td>\n",
       "      <td>10391.000000</td>\n",
       "      <td>10391.000000</td>\n",
       "      <td>10391.000000</td>\n",
       "      <td>10391.000000</td>\n",
       "      <td>10391.000000</td>\n",
       "      <td>10391.000000</td>\n",
       "      <td>10391.000000</td>\n",
       "      <td>10391.000000</td>\n",
       "      <td>10391.000000</td>\n",
       "      <td>10391.000000</td>\n",
       "    </tr>\n",
       "    <tr>\n",
       "      <th>mean</th>\n",
       "      <td>39.888846</td>\n",
       "      <td>0.325666</td>\n",
       "      <td>-0.096742</td>\n",
       "      <td>5.268117</td>\n",
       "      <td>5.223078</td>\n",
       "      <td>1.489943</td>\n",
       "      <td>0.630931</td>\n",
       "      <td>2.447791</td>\n",
       "      <td>-0.040457</td>\n",
       "      <td>0.054841</td>\n",
       "      <td>-0.089349</td>\n",
       "      <td>-0.045911</td>\n",
       "      <td>-0.026168</td>\n",
       "    </tr>\n",
       "    <tr>\n",
       "      <th>std</th>\n",
       "      <td>24.008975</td>\n",
       "      <td>0.468646</td>\n",
       "      <td>0.643009</td>\n",
       "      <td>1.120765</td>\n",
       "      <td>3.982963</td>\n",
       "      <td>0.499923</td>\n",
       "      <td>0.482576</td>\n",
       "      <td>1.378420</td>\n",
       "      <td>0.969743</td>\n",
       "      <td>0.935560</td>\n",
       "      <td>0.962804</td>\n",
       "      <td>0.967262</td>\n",
       "      <td>1.010387</td>\n",
       "    </tr>\n",
       "    <tr>\n",
       "      <th>min</th>\n",
       "      <td>1.000000</td>\n",
       "      <td>0.000000</td>\n",
       "      <td>-2.097420</td>\n",
       "      <td>1.000000</td>\n",
       "      <td>1.000000</td>\n",
       "      <td>1.000000</td>\n",
       "      <td>0.000000</td>\n",
       "      <td>0.000000</td>\n",
       "      <td>-3.088790</td>\n",
       "      <td>-3.347819</td>\n",
       "      <td>-1.575463</td>\n",
       "      <td>-1.924778</td>\n",
       "      <td>-1.805073</td>\n",
       "    </tr>\n",
       "    <tr>\n",
       "      <th>25%</th>\n",
       "      <td>19.000000</td>\n",
       "      <td>0.000000</td>\n",
       "      <td>-0.548980</td>\n",
       "      <td>5.000000</td>\n",
       "      <td>3.000000</td>\n",
       "      <td>1.000000</td>\n",
       "      <td>0.000000</td>\n",
       "      <td>1.000000</td>\n",
       "      <td>-0.617888</td>\n",
       "      <td>-0.544506</td>\n",
       "      <td>-0.963095</td>\n",
       "      <td>-0.813799</td>\n",
       "      <td>-0.857026</td>\n",
       "    </tr>\n",
       "    <tr>\n",
       "      <th>50%</th>\n",
       "      <td>41.000000</td>\n",
       "      <td>0.000000</td>\n",
       "      <td>-0.118923</td>\n",
       "      <td>5.000000</td>\n",
       "      <td>4.000000</td>\n",
       "      <td>1.000000</td>\n",
       "      <td>1.000000</td>\n",
       "      <td>2.000000</td>\n",
       "      <td>-0.009954</td>\n",
       "      <td>-0.022514</td>\n",
       "      <td>-0.057036</td>\n",
       "      <td>-0.159602</td>\n",
       "      <td>-0.211553</td>\n",
       "    </tr>\n",
       "    <tr>\n",
       "      <th>75%</th>\n",
       "      <td>62.000000</td>\n",
       "      <td>1.000000</td>\n",
       "      <td>0.335663</td>\n",
       "      <td>6.000000</td>\n",
       "      <td>5.000000</td>\n",
       "      <td>2.000000</td>\n",
       "      <td>1.000000</td>\n",
       "      <td>4.000000</td>\n",
       "      <td>0.420441</td>\n",
       "      <td>0.726836</td>\n",
       "      <td>0.515392</td>\n",
       "      <td>0.596474</td>\n",
       "      <td>0.847844</td>\n",
       "    </tr>\n",
       "    <tr>\n",
       "      <th>max</th>\n",
       "      <td>76.000000</td>\n",
       "      <td>1.000000</td>\n",
       "      <td>2.194709</td>\n",
       "      <td>7.000000</td>\n",
       "      <td>15.000000</td>\n",
       "      <td>2.000000</td>\n",
       "      <td>1.000000</td>\n",
       "      <td>4.000000</td>\n",
       "      <td>2.834589</td>\n",
       "      <td>2.171815</td>\n",
       "      <td>2.358274</td>\n",
       "      <td>2.821660</td>\n",
       "      <td>1.892348</td>\n",
       "    </tr>\n",
       "  </tbody>\n",
       "</table>\n",
       "</div>"
      ],
      "text/plain": [
       "           schoolid             Z             Y            S3            C1  \\\n",
       "count  10391.000000  10391.000000  10391.000000  10391.000000  10391.000000   \n",
       "mean      39.888846      0.325666     -0.096742      5.268117      5.223078   \n",
       "std       24.008975      0.468646      0.643009      1.120765      3.982963   \n",
       "min        1.000000      0.000000     -2.097420      1.000000      1.000000   \n",
       "25%       19.000000      0.000000     -0.548980      5.000000      3.000000   \n",
       "50%       41.000000      0.000000     -0.118923      5.000000      4.000000   \n",
       "75%       62.000000      1.000000      0.335663      6.000000      5.000000   \n",
       "max       76.000000      1.000000      2.194709      7.000000     15.000000   \n",
       "\n",
       "                 C2            C3            XC            X1            X2  \\\n",
       "count  10391.000000  10391.000000  10391.000000  10391.000000  10391.000000   \n",
       "mean       1.489943      0.630931      2.447791     -0.040457      0.054841   \n",
       "std        0.499923      0.482576      1.378420      0.969743      0.935560   \n",
       "min        1.000000      0.000000      0.000000     -3.088790     -3.347819   \n",
       "25%        1.000000      0.000000      1.000000     -0.617888     -0.544506   \n",
       "50%        1.000000      1.000000      2.000000     -0.009954     -0.022514   \n",
       "75%        2.000000      1.000000      4.000000      0.420441      0.726836   \n",
       "max        2.000000      1.000000      4.000000      2.834589      2.171815   \n",
       "\n",
       "                 X3            X4            X5  \n",
       "count  10391.000000  10391.000000  10391.000000  \n",
       "mean      -0.089349     -0.045911     -0.026168  \n",
       "std        0.962804      0.967262      1.010387  \n",
       "min       -1.575463     -1.924778     -1.805073  \n",
       "25%       -0.963095     -0.813799     -0.857026  \n",
       "50%       -0.057036     -0.159602     -0.211553  \n",
       "75%        0.515392      0.596474      0.847844  \n",
       "max        2.358274      2.821660      1.892348  "
      ]
     },
     "execution_count": 2,
     "metadata": {},
     "output_type": "execute_result"
    }
   ],
   "source": [
    "df = pd.read_csv(\"../data/synthetic_data.csv\")\n",
    "df\n",
    "df.info()\n",
    "df.describe()"
   ]
  },
  {
   "cell_type": "markdown",
   "metadata": {},
   "source": [
    "## 2.3 Assessing Balance of Covariates <a class=\"anchor\" id=\"balance23\"></a>\n",
    "\n",
    "Covariate balance is the degree to which the distribution of covariates is similar across levels of the treatment. Here we assess the extent to which the treatment assignment was uniformly randomized across observational units, or there are some selection effects. To that end, we use *Prognostic scores* (Hansen 2008). The prognostic score is defined as the predicted outcome under the control condition, reflecting the baseline \"risk\", i.e., $E(Y|X, Z=0)$. It is estimated by fitting a model of the outcome in the control group, and then using that model to obtain predictions of the outcome under the control condition for all individuals. The standardize difference in the mean prognostic scores between treatment and control groups is used as a measure of covariate balance. \n",
    "\n",
    "Here we fit a Bayesian linear regression model to get a posterior distribution of the standardize difference in the mean prognostic scores between treatment and control groups.\n",
    "\n",
    "We first pre-process the data (encode categorical features and scaling)."
   ]
  },
  {
   "cell_type": "code",
   "execution_count": 3,
   "metadata": {},
   "outputs": [
    {
     "name": "stdout",
     "output_type": "stream",
     "text": [
      "Features dimension: (10391, 28)\n",
      "Treatment dimension: (10391,)\n",
      "Response dimension: (10391,)\n",
      "Number of treated / control units: 3384 / 7007\n"
     ]
    }
   ],
   "source": [
    "X, z, y, *_ = pre_process_data(df, standardize_x=True, interactions=False, \n",
    "                               p_score=None, drop_first=False)\n",
    "\n",
    "print(\"Features dimension:\", X.shape)\n",
    "print(\"Treatment dimension:\", z.shape)\n",
    "print(\"Response dimension:\", y.shape)\n",
    "print(\"Number of treated / control units:\", sum(z), \"/\", X.shape[0]-sum(z))"
   ]
  },
  {
   "cell_type": "markdown",
   "metadata": {},
   "source": [
    "We now fit the model in [stan](https://mc-stan.org/). We place the stan code separately in `stan_linear_reg.stan`, stored in the repo."
   ]
  },
  {
   "cell_type": "code",
   "execution_count": 4,
   "metadata": {},
   "outputs": [
    {
     "name": "stderr",
     "output_type": "stream",
     "text": [
      "INFO:pystan:COMPILING THE C++ CODE FOR MODEL anon_model_8096660a52168d4061eab351075ddfd3 NOW.\n",
      "WARNING:pystan:Maximum (flat) parameter count (1000) exceeded: skipping diagnostic tests for n_eff and Rhat.\n",
      "To run all diagnostics call pystan.check_hmc_diagnostics(fit)\n",
      "WARNING:pystan:1989 of 2000 iterations saturated the maximum tree depth of 10 (99.5 %)\n",
      "WARNING:pystan:Run again with max_treedepth larger than 10 to avoid saturation\n"
     ]
    }
   ],
   "source": [
    "n, p = X[z==0,:].shape # Fit model using control units only\n",
    "\n",
    "stan_data_dict = {'N': n,\n",
    "                  'K': p,\n",
    "                  'x': X[z==0,:],\n",
    "                  'y': y[z==0],\n",
    "                  'N_new': X.shape[0],\n",
    "                  'x_new': X\n",
    "                  }\n",
    "\n",
    "sm = pystan.StanModel('../stan/stan_linear_reg.stan') \n",
    "multiprocessing.set_start_method(\"fork\", force=True)\n",
    "fit = sm.sampling(data=stan_data_dict, iter=1000, chains=4)"
   ]
  },
  {
   "cell_type": "code",
   "execution_count": 5,
   "metadata": {},
   "outputs": [
    {
     "data": {
      "text/html": [
       "<div>\n",
       "<style scoped>\n",
       "    .dataframe tbody tr th:only-of-type {\n",
       "        vertical-align: middle;\n",
       "    }\n",
       "\n",
       "    .dataframe tbody tr th {\n",
       "        vertical-align: top;\n",
       "    }\n",
       "\n",
       "    .dataframe thead th {\n",
       "        text-align: right;\n",
       "    }\n",
       "</style>\n",
       "<table border=\"1\" class=\"dataframe\">\n",
       "  <thead>\n",
       "    <tr style=\"text-align: right;\">\n",
       "      <th></th>\n",
       "      <th>mean</th>\n",
       "      <th>se_mean</th>\n",
       "      <th>sd</th>\n",
       "      <th>2.5%</th>\n",
       "      <th>25%</th>\n",
       "      <th>50%</th>\n",
       "      <th>75%</th>\n",
       "      <th>97.5%</th>\n",
       "      <th>n_eff</th>\n",
       "      <th>Rhat</th>\n",
       "    </tr>\n",
       "  </thead>\n",
       "  <tbody>\n",
       "    <tr>\n",
       "      <th>alpha</th>\n",
       "      <td>-0.181427</td>\n",
       "      <td>0.000665</td>\n",
       "      <td>0.006414</td>\n",
       "      <td>-0.194224</td>\n",
       "      <td>-0.185570</td>\n",
       "      <td>-0.181424</td>\n",
       "      <td>-0.177214</td>\n",
       "      <td>-0.168535</td>\n",
       "      <td>93.115118</td>\n",
       "      <td>1.016513</td>\n",
       "    </tr>\n",
       "    <tr>\n",
       "      <th>beta[1]</th>\n",
       "      <td>0.260977</td>\n",
       "      <td>0.000632</td>\n",
       "      <td>0.006375</td>\n",
       "      <td>0.248169</td>\n",
       "      <td>0.256472</td>\n",
       "      <td>0.261180</td>\n",
       "      <td>0.265417</td>\n",
       "      <td>0.273112</td>\n",
       "      <td>101.634249</td>\n",
       "      <td>1.030773</td>\n",
       "    </tr>\n",
       "    <tr>\n",
       "      <th>beta[2]</th>\n",
       "      <td>-0.083988</td>\n",
       "      <td>0.000713</td>\n",
       "      <td>0.006470</td>\n",
       "      <td>-0.095836</td>\n",
       "      <td>-0.088558</td>\n",
       "      <td>-0.083732</td>\n",
       "      <td>-0.079942</td>\n",
       "      <td>-0.070550</td>\n",
       "      <td>82.458783</td>\n",
       "      <td>1.033549</td>\n",
       "    </tr>\n",
       "    <tr>\n",
       "      <th>beta[3]</th>\n",
       "      <td>-0.047313</td>\n",
       "      <td>0.001042</td>\n",
       "      <td>0.007189</td>\n",
       "      <td>-0.060690</td>\n",
       "      <td>-0.052673</td>\n",
       "      <td>-0.047326</td>\n",
       "      <td>-0.042052</td>\n",
       "      <td>-0.033107</td>\n",
       "      <td>47.598150</td>\n",
       "      <td>1.053624</td>\n",
       "    </tr>\n",
       "    <tr>\n",
       "      <th>beta[4]</th>\n",
       "      <td>-0.067084</td>\n",
       "      <td>0.001344</td>\n",
       "      <td>0.008490</td>\n",
       "      <td>-0.083448</td>\n",
       "      <td>-0.073415</td>\n",
       "      <td>-0.066859</td>\n",
       "      <td>-0.061357</td>\n",
       "      <td>-0.050089</td>\n",
       "      <td>39.925144</td>\n",
       "      <td>1.131900</td>\n",
       "    </tr>\n",
       "    <tr>\n",
       "      <th>...</th>\n",
       "      <td>...</td>\n",
       "      <td>...</td>\n",
       "      <td>...</td>\n",
       "      <td>...</td>\n",
       "      <td>...</td>\n",
       "      <td>...</td>\n",
       "      <td>...</td>\n",
       "      <td>...</td>\n",
       "      <td>...</td>\n",
       "      <td>...</td>\n",
       "    </tr>\n",
       "    <tr>\n",
       "      <th>prog_scores[10388]</th>\n",
       "      <td>0.178159</td>\n",
       "      <td>0.011822</td>\n",
       "      <td>0.535489</td>\n",
       "      <td>-0.819092</td>\n",
       "      <td>-0.191524</td>\n",
       "      <td>0.169045</td>\n",
       "      <td>0.533726</td>\n",
       "      <td>1.269075</td>\n",
       "      <td>2051.617869</td>\n",
       "      <td>0.999552</td>\n",
       "    </tr>\n",
       "    <tr>\n",
       "      <th>prog_scores[10389]</th>\n",
       "      <td>-0.637163</td>\n",
       "      <td>0.011632</td>\n",
       "      <td>0.530500</td>\n",
       "      <td>-1.624341</td>\n",
       "      <td>-1.010623</td>\n",
       "      <td>-0.633280</td>\n",
       "      <td>-0.269886</td>\n",
       "      <td>0.395488</td>\n",
       "      <td>2080.087794</td>\n",
       "      <td>0.999268</td>\n",
       "    </tr>\n",
       "    <tr>\n",
       "      <th>prog_scores[10390]</th>\n",
       "      <td>-0.086881</td>\n",
       "      <td>0.011901</td>\n",
       "      <td>0.534869</td>\n",
       "      <td>-1.119410</td>\n",
       "      <td>-0.450691</td>\n",
       "      <td>-0.096604</td>\n",
       "      <td>0.273152</td>\n",
       "      <td>0.990936</td>\n",
       "      <td>2019.862337</td>\n",
       "      <td>0.999835</td>\n",
       "    </tr>\n",
       "    <tr>\n",
       "      <th>prog_scores[10391]</th>\n",
       "      <td>-0.160116</td>\n",
       "      <td>0.011713</td>\n",
       "      <td>0.525359</td>\n",
       "      <td>-1.237784</td>\n",
       "      <td>-0.474761</td>\n",
       "      <td>-0.158841</td>\n",
       "      <td>0.187380</td>\n",
       "      <td>0.876885</td>\n",
       "      <td>2011.618090</td>\n",
       "      <td>0.999560</td>\n",
       "    </tr>\n",
       "    <tr>\n",
       "      <th>lp__</th>\n",
       "      <td>845.309156</td>\n",
       "      <td>0.227262</td>\n",
       "      <td>3.788960</td>\n",
       "      <td>836.897565</td>\n",
       "      <td>842.960358</td>\n",
       "      <td>845.715161</td>\n",
       "      <td>848.111747</td>\n",
       "      <td>851.660407</td>\n",
       "      <td>277.962263</td>\n",
       "      <td>1.017603</td>\n",
       "    </tr>\n",
       "  </tbody>\n",
       "</table>\n",
       "<p>10422 rows × 10 columns</p>\n",
       "</div>"
      ],
      "text/plain": [
       "                          mean   se_mean        sd        2.5%         25%  \\\n",
       "alpha                -0.181427  0.000665  0.006414   -0.194224   -0.185570   \n",
       "beta[1]               0.260977  0.000632  0.006375    0.248169    0.256472   \n",
       "beta[2]              -0.083988  0.000713  0.006470   -0.095836   -0.088558   \n",
       "beta[3]              -0.047313  0.001042  0.007189   -0.060690   -0.052673   \n",
       "beta[4]              -0.067084  0.001344  0.008490   -0.083448   -0.073415   \n",
       "...                        ...       ...       ...         ...         ...   \n",
       "prog_scores[10388]    0.178159  0.011822  0.535489   -0.819092   -0.191524   \n",
       "prog_scores[10389]   -0.637163  0.011632  0.530500   -1.624341   -1.010623   \n",
       "prog_scores[10390]   -0.086881  0.011901  0.534869   -1.119410   -0.450691   \n",
       "prog_scores[10391]   -0.160116  0.011713  0.525359   -1.237784   -0.474761   \n",
       "lp__                845.309156  0.227262  3.788960  836.897565  842.960358   \n",
       "\n",
       "                           50%         75%       97.5%        n_eff      Rhat  \n",
       "alpha                -0.181424   -0.177214   -0.168535    93.115118  1.016513  \n",
       "beta[1]               0.261180    0.265417    0.273112   101.634249  1.030773  \n",
       "beta[2]              -0.083732   -0.079942   -0.070550    82.458783  1.033549  \n",
       "beta[3]              -0.047326   -0.042052   -0.033107    47.598150  1.053624  \n",
       "beta[4]              -0.066859   -0.061357   -0.050089    39.925144  1.131900  \n",
       "...                        ...         ...         ...          ...       ...  \n",
       "prog_scores[10388]    0.169045    0.533726    1.269075  2051.617869  0.999552  \n",
       "prog_scores[10389]   -0.633280   -0.269886    0.395488  2080.087794  0.999268  \n",
       "prog_scores[10390]   -0.096604    0.273152    0.990936  2019.862337  0.999835  \n",
       "prog_scores[10391]   -0.158841    0.187380    0.876885  2011.618090  0.999560  \n",
       "lp__                845.715161  848.111747  851.660407   277.962263  1.017603  \n",
       "\n",
       "[10422 rows x 10 columns]"
      ]
     },
     "execution_count": 5,
     "metadata": {},
     "output_type": "execute_result"
    }
   ],
   "source": [
    "fit_summary = stan_model_summary(fit)\n",
    "fit_summary"
   ]
  },
  {
   "cell_type": "markdown",
   "metadata": {},
   "source": [
    "The standardize mean difference in Prognostic scores is positive meaning that students with highest potential outcomes under control are more likely to receive treatment. This can also be appreciated by plotting the proportion of individuals assigned to treatment for by quantile of the prognostic score (each quantile comprises about 1/5 of the observations). In this case, we say that the treatment assignment mechanisms is *counfounded* with the potential outcomes (i.e., the value of the outcome for each subject under each treatment, only one of which is observed).\n",
    "\n",
    "In this context, a simple comparison of treated versus control individuals would produce bias estimates of treatment effects (both average and conditional effects). We thus proceed the analysis as an observational study instead on a randomized one. Specifically, to address this problem we directly incorporate an estimate of the *propensity score* in the specification of the outcome model, implicitly inducing a covariate dependent prior on the regression function (see Hahn 2020).\n",
    "\n",
    "\n"
   ]
  },
  {
   "cell_type": "code",
   "execution_count": 6,
   "metadata": {},
   "outputs": [
    {
     "data": {
      "image/png": "[encoded data removed]",
      "text/plain": [
       "<Figure size 576x288 with 1 Axes>"
      ]
     },
     "metadata": {},
     "output_type": "display_data"
    }
   ],
   "source": [
    "# Extract prognostic scores\n",
    "samples = fit.extract(permuted=True)\n",
    "prog_scores = samples['prog_scores'].T\n",
    "\n",
    "# Compute mean and standardize mean differences in scores\n",
    "mcmc_samples = prog_scores.shape[1]\n",
    "prog_scores_diff = np.zeros(mcmc_samples)\n",
    "prog_scores_std_diff = np.zeros(mcmc_samples)\n",
    "\n",
    "for s in range(mcmc_samples):\n",
    "    prog_scores_diff[s] = np.mean(prog_scores[z==1,s]) - np.mean(prog_scores[z==0,s])\n",
    "    prog_scores_std_diff[s] = prog_scores_diff[s] / np.std(prog_scores[:,s])\n",
    "  \n",
    "                               \n",
    "plt.hist(prog_scores_std_diff, bins = 30)\n",
    "plt.title(\"Standardized mean difference in Prognostic scores\", fontsize=12)\n",
    "plt.show()  \n"
   ]
  },
  {
   "cell_type": "code",
   "execution_count": 7,
   "metadata": {
    "scrolled": true
   },
   "outputs": [
    {
     "name": "stderr",
     "output_type": "stream",
     "text": [
      "INFO:numexpr.utils:NumExpr defaulting to 8 threads.\n"
     ]
    },
    {
     "data": {
      "text/plain": [
       "<matplotlib.axes._subplots.AxesSubplot at 0x7fb6b9b1db20>"
      ]
     },
     "execution_count": 7,
     "metadata": {},
     "output_type": "execute_result"
    },
    {
     "data": {
      "image/png": "[encoded data removed]",
      "text/plain": [
       "<Figure size 576x288 with 1 Axes>"
      ]
     },
     "metadata": {},
     "output_type": "display_data"
    }
   ],
   "source": [
    "# Compute proportion treated by mean prognostic score quantile\n",
    "prog_scores_df = pd.DataFrame({'prog_score_mean': np.mean(prog_scores, axis =1),'z':z})\n",
    "prog_scores_df['prog_score_mean_quantile']= pd.qcut(prog_scores_df['prog_score_mean'], \n",
    "                                                    q = 5, labels = False)+1\n",
    "prog_scores_df.groupby(['prog_score_mean_quantile'])['z'].mean().plot(xticks=list(range(1,6)), \n",
    "                                                                     xlabel='Mean Prognostic Score (Quantile)',\n",
    "                                                                     ylabel='Proportion Treated')"
   ]
  },
  {
   "cell_type": "markdown",
   "metadata": {},
   "source": [
    "## 2.4 Propensity Score <a class=\"anchor\" id=\"propscore24\"></a>\n",
    "\n",
    "The propensity score is the probability of treatment assignment conditional on observed baseline covariates, i.e., $E(Z|X)$. Here we fit the propensity score using a flexible non-linear specification based on a Gradient Boosting method. Parameter tuning is done via cross-validated random search."
   ]
  },
  {
   "cell_type": "code",
   "execution_count": 8,
   "metadata": {},
   "outputs": [
    {
     "name": "stdout",
     "output_type": "stream",
     "text": [
      "Fitting 3 folds for each of 30 candidates, totalling 90 fits\n"
     ]
    },
    {
     "name": "stderr",
     "output_type": "stream",
     "text": [
      "[Parallel(n_jobs=-1)]: Using backend LokyBackend with 8 concurrent workers.\n",
      "[Parallel(n_jobs=-1)]: Done  16 tasks      | elapsed:   13.1s\n",
      "[Parallel(n_jobs=-1)]: Done  90 out of  90 | elapsed:  1.2min finished\n",
      "/Users/lguelman/opt/anaconda3/lib/python3.8/site-packages/xgboost/sklearn.py:888: UserWarning: The use of label encoder in XGBClassifier is deprecated and will be removed in a future release. To remove this warning, do the following: 1) Pass option use_label_encoder=False when constructing XGBClassifier object; and 2) Encode your labels (y) as integers starting with 0, i.e. 0, 1, 2, ..., [num_class - 1].\n",
      "  warnings.warn(label_encoder_deprecation_msg, UserWarning)\n"
     ]
    },
    {
     "name": "stdout",
     "output_type": "stream",
     "text": [
      "[16:47:13] WARNING: /Users/travis/build/dmlc/xgboost/src/learner.cc:541: \n",
      "Parameters: { silent } might not be used.\n",
      "\n",
      "  This may not be accurate due to some parameters are only used in language bindings but\n",
      "  passed down to XGBoost core.  Or some parameters are not used but slip through this\n",
      "  verification. Please open an issue if you find above cases.\n",
      "\n",
      "\n",
      "[16:47:13] WARNING: /Users/travis/build/dmlc/xgboost/src/learner.cc:1061: Starting in XGBoost 1.3.0, the default evaluation metric used with the objective 'binary:logistic' was changed from 'error' to 'logloss'. Explicitly set eval_metric if you'd like to restore the old behavior.\n",
      "\n",
      " Best estimator:\n",
      "XGBClassifier(base_score=0.5, booster='gbtree', colsample_bylevel=1,\n",
      "              colsample_bynode=1, colsample_bytree=1.0, gamma=5, gpu_id=-1,\n",
      "              importance_type='gain', interaction_constraints='',\n",
      "              learning_rate=0.01, max_delta_step=0, max_depth=3,\n",
      "              min_child_weight=10, missing=nan, monotone_constraints='()',\n",
      "              n_estimators=500, n_jobs=1, nthread=1, num_parallel_tree=1,\n",
      "              random_state=0, reg_alpha=0, reg_lambda=1, scale_pos_weight=1,\n",
      "              silent=True, subsample=0.8, tree_method='exact',\n",
      "              validate_parameters=1, verbosity=None)\n",
      "\n",
      " Best AUC score:\n",
      "0.5330966595431671\n",
      "\n",
      " Best hyperparameters:\n",
      "{'subsample': 0.8, 'min_child_weight': 10, 'max_depth': 3, 'gamma': 5, 'colsample_bytree': 1.0}\n",
      "[16:47:17] WARNING: /Users/travis/build/dmlc/xgboost/src/learner.cc:541: \n",
      "Parameters: { silent } might not be used.\n",
      "\n",
      "  This may not be accurate due to some parameters are only used in language bindings but\n",
      "  passed down to XGBoost core.  Or some parameters are not used but slip through this\n",
      "  verification. Please open an issue if you find above cases.\n",
      "\n",
      "\n",
      "[16:47:17] WARNING: /Users/travis/build/dmlc/xgboost/src/learner.cc:1061: Starting in XGBoost 1.3.0, the default evaluation metric used with the objective 'binary:logistic' was changed from 'error' to 'logloss'. Explicitly set eval_metric if you'd like to restore the old behavior.\n"
     ]
    }
   ],
   "source": [
    "param_grid = {\n",
    "        'min_child_weight': [1, 5, 10],\n",
    "        'gamma': [0.5, 1, 1.5, 2, 5],\n",
    "        'subsample': [0.6, 0.8, 1.0],\n",
    "        'colsample_bytree': [0.6, 0.8, 1.0],\n",
    "        'max_depth': [3, 4, 5]\n",
    "        }\n",
    "\n",
    "n_folds = 3\n",
    "param_n_picks = 30\n",
    "\n",
    "xgb = XGBClassifier(learning_rate=0.01, n_estimators=500, objective='binary:logistic',\n",
    "                    silent=True, nthread=1)\n",
    "\n",
    "skf = StratifiedKFold(n_splits=n_folds, shuffle = True, random_state = 42)\n",
    "\n",
    "xgb_fits = RandomizedSearchCV(xgb, param_distributions=param_grid,\n",
    "                              n_iter=param_n_picks, scoring='roc_auc', n_jobs=-1, \n",
    "                              cv=skf.split(X,z), verbose=3, random_state=42)\n",
    "\n",
    "xgb_fits.fit(X, z)\n",
    "\n",
    "print('\\n Best estimator:')\n",
    "print(xgb_fits.best_estimator_)\n",
    "print('\\n Best AUC score:')\n",
    "print(xgb_fits.best_score_)\n",
    "print('\\n Best hyperparameters:')\n",
    "print(xgb_fits.best_params_)\n",
    "\n",
    "# We now fit the best estimator to all train data \n",
    "best_fit = xgb_fits.best_estimator_.fit(X, z)\n",
    "pscore = best_fit.predict_proba(X)[:,1]\n",
    "log_odds_pscore = np.log(pscore /(1-pscore))"
   ]
  },
  {
   "cell_type": "code",
   "execution_count": 9,
   "metadata": {},
   "outputs": [
    {
     "data": {
      "text/plain": [
       "<seaborn.axisgrid.FacetGrid at 0x7fb6d4fd6400>"
      ]
     },
     "execution_count": 9,
     "metadata": {},
     "output_type": "execute_result"
    },
    {
     "data": {
      "image/png": "[encoded data removed]",
      "text/plain": [
       "<Figure size 419.275x360 with 1 Axes>"
      ]
     },
     "metadata": {},
     "output_type": "display_data"
    }
   ],
   "source": [
    "prop_score_df = pd.DataFrame({'log_odds_pscore': log_odds_pscore, 'Z':z})\n",
    "sns.displot(prop_score_df, x=\"log_odds_pscore\", \n",
    "            hue=\"Z\",  stat=\"density\", common_norm=False)"
   ]
  },
  {
   "cell_type": "markdown",
   "metadata": {},
   "source": [
    "## 2.5 Model-based Inference <a class=\"anchor\" id=\"mbinference25\"></a>\n",
    "\n",
    "\n",
    "We implement the Bayesian inference framework for causal effects introduced by Rubin (1978). In this framework, each observational unit $i=\\{1,\\ldots, N\\}$ is seen as having a potential outcome for each level of treatment. In the binary treatment case with $Z \\in [0,1]$, $Y_i(1)$ and $Y_i(0)$ represent the potential outcomes of unit $i$ under $Z=1$ and \n",
    "$Z=0$, respectively. Causal inference is considered a missing data problem since both potential outcomes are never jointly observed. Specifically, observed and missing outcomes can be expressed in terms of the potential outcomes as follows:\n",
    "\n",
    "\\begin{align*} \n",
    "Y_i^{\\text{obs}} &=  Y_i(1)Z_i + Y_i(0)(1-Z_i) \\\\ \n",
    "Y_i^{\\text{mis}} &=  Y_i(1)(1-Z_i) + Y_i(0)Z_i\n",
    "\\end{align*}\n",
    "\n",
    "\n",
    "From a Bayesian perspective, $Y_i^{\\text{mis}}$ is seen as a latent variable, similar to any other latent variable in the model (i.e., model parameters, using a frequentist language). The missing potential outcomes can be imputed by estimating the posterior distribution of the missing potential outcomes, conditioned on the observed quantities. That is,\n",
    "\n",
    "$$\n",
    "\\text{Pr}(Y^{\\text{mis}}| Y^{\\text{obs}},Z, X).\n",
    "$$\n",
    "\n",
    "Estimating the above quantity, requires building a model of the joint distribution of potential outcomes. We assume that the true underlying model for the potential outcomes follows a bivariate Gaussian \n",
    "\n",
    "$$\n",
    "\\begin{pmatrix}\n",
    "Y_i(0) \\\\\n",
    "Y_i(1) \n",
    "\\end{pmatrix} \\bigg\\lvert~X_i, \\theta \\sim N \\left(\\begin{pmatrix}\n",
    "\\alpha + X_i\\beta_c \\\\\n",
    "\\alpha + X_i\\beta_t + \\tau\n",
    "\\end{pmatrix},\\begin{pmatrix}\n",
    "\\sigma_c^{2} & \\rho\\sigma_c\\sigma_t \\\\\n",
    "\\rho\\sigma_c\\sigma_t & \\sigma_t^{2}\n",
    "\\end{pmatrix}\\right),\n",
    "$$\n",
    "\n",
    "where $\\theta=(\\alpha, \\beta_c, \\beta_t, \\tau, \\sigma_c^2, \\sigma_t^2, \\rho)$.\n",
    "\n",
    "A few observations from the model above:\n",
    "\n",
    "* Since $Y_i(0)$ and $Y_i(1)$ are never jointly observed, we the $\\rho$ cannot be estimated empirically, so it must be based on subject-matter knowledge. In practice, ....\n",
    "\n",
    "* We allow for heterogeneous treatment effects - i.e., we define two different vectors $\\beta_c$ and  $\\beta_t$, for control and treated units, respectively. In the **Stan** model below, we allow for this heterogeneity by including interaction terms between each covariate and the treatment. The posterior estimates on the interaction effects represent the incremental effect of the treatment $\\beta_t - \\beta_c$\n",
    "\n",
    "* The propensity score is considered as an additional covariate in $X$.\n",
    "\n",
    "\n",
    "From this model, we can derive the conditional distribution of each potential outcome as\n",
    "\n",
    "\n",
    "\\begin{align*} \n",
    "\\text{Pr}(Y_i(1) | Y_i(0), \\theta, Z_i=0) &\\sim N \\Big(\\mu_t+ \\rho \\frac{\\sigma_t}{\\sigma_c} (Y_i(0)-\\mu_c), \\sigma^2_t(1-\\rho^2)\\Big),\\\\\n",
    "\\text{Pr}(Y_i(0) | Y_i(1), \\theta, Z_i=1) &\\sim N \\Big(\\mu_c+ \\rho \\frac{\\sigma_c}{\\sigma_t} (Y_i(1)-\\mu_t), \\sigma^2_c(1-\\rho^2)\\Big), \n",
    "\\end{align*}\n",
    "\n",
    "where $\\mu_c = \\alpha + X\\beta_c$ and $\\mu_t = \\alpha + X\\beta_t + \\tau$."
   ]
  },
  {
   "cell_type": "code",
   "execution_count": 10,
   "metadata": {},
   "outputs": [
    {
     "name": "stdout",
     "output_type": "stream",
     "text": [
      "(10391, 58)\n",
      "29\n",
      "29\n",
      "(10391, 29)\n",
      "(10391, 29)\n"
     ]
    }
   ],
   "source": [
    "X, z, y, a_effects, m_effects, i_effects = pre_process_data(df, standardize_x=True, interactions=True, \n",
    "                                                            p_score=log_odds_pscore, drop_first=False)\n",
    "\n",
    "# Get indexes of main and interaction effects\n",
    "idx_m_effects = [a_effects.index(i) for i in m_effects]\n",
    "idx_i_effects = [a_effects.index(i) for i in i_effects]\n",
    "\n",
    "print(X.shape)\n",
    "print(len(idx_m_effects))\n",
    "print(len(idx_i_effects))\n",
    "print(X[:,idx_m_effects].shape)\n",
    "print(X[:,idx_i_effects].shape)"
   ]
  },
  {
   "cell_type": "code",
   "execution_count": 15,
   "metadata": {},
   "outputs": [
    {
     "name": "stderr",
     "output_type": "stream",
     "text": [
      "INFO:pystan:COMPILING THE C++ CODE FOR MODEL anon_model_60991e207af6827951ca148d0742491d NOW.\n",
      "WARNING:pystan:Maximum (flat) parameter count (1000) exceeded: skipping diagnostic tests for n_eff and Rhat.\n",
      "To run all diagnostics call pystan.check_hmc_diagnostics(fit)\n",
      "WARNING:pystan:2000 of 2000 iterations saturated the maximum tree depth of 10 (100 %)\n",
      "WARNING:pystan:Run again with max_treedepth larger than 10 to avoid saturation\n"
     ]
    }
   ],
   "source": [
    "stan_data_mbi = {'N': X.shape[0], \n",
    "                 'N_main_cov':len(idx_m_effects),\n",
    "                 'N_inter_cov':len(idx_i_effects),\n",
    "                 'y': y,\n",
    "                 'z': z,\n",
    "                 'x': X[:,idx_m_effects],\n",
    "                 'xz_inter': X[:,idx_i_effects],\n",
    "                 'rho':0.0}\n",
    "\n",
    "sm = pystan.StanModel('../stan/stan_mbi.stan') \n",
    "multiprocessing.set_start_method(\"fork\", force=True)\n",
    "fit_mbi = sm.sampling(data=stan_data_mbi, iter=1000, chains=4)"
   ]
  },
  {
   "cell_type": "markdown",
   "metadata": {},
   "source": [
    "### 2.5.1 MCMC Diagnostics "
   ]
  },
  {
   "cell_type": "code",
   "execution_count": 16,
   "metadata": {},
   "outputs": [
    {
     "data": {
      "text/html": [
       "<div>\n",
       "<style scoped>\n",
       "    .dataframe tbody tr th:only-of-type {\n",
       "        vertical-align: middle;\n",
       "    }\n",
       "\n",
       "    .dataframe tbody tr th {\n",
       "        vertical-align: top;\n",
       "    }\n",
       "\n",
       "    .dataframe thead th {\n",
       "        text-align: right;\n",
       "    }\n",
       "</style>\n",
       "<table border=\"1\" class=\"dataframe\">\n",
       "  <thead>\n",
       "    <tr style=\"text-align: right;\">\n",
       "      <th></th>\n",
       "      <th>mean</th>\n",
       "      <th>se_mean</th>\n",
       "      <th>sd</th>\n",
       "      <th>2.5%</th>\n",
       "      <th>25%</th>\n",
       "      <th>50%</th>\n",
       "      <th>75%</th>\n",
       "      <th>97.5%</th>\n",
       "      <th>n_eff</th>\n",
       "      <th>Rhat</th>\n",
       "    </tr>\n",
       "  </thead>\n",
       "  <tbody>\n",
       "    <tr>\n",
       "      <th>alpha</th>\n",
       "      <td>-0.133245</td>\n",
       "      <td>0.348577</td>\n",
       "      <td>1.413610</td>\n",
       "      <td>-2.447673</td>\n",
       "      <td>-1.101725</td>\n",
       "      <td>-0.312986</td>\n",
       "      <td>0.649372</td>\n",
       "      <td>3.024315</td>\n",
       "      <td>16.446097</td>\n",
       "      <td>1.295428</td>\n",
       "    </tr>\n",
       "    <tr>\n",
       "      <th>beta[1]</th>\n",
       "      <td>0.224531</td>\n",
       "      <td>0.001051</td>\n",
       "      <td>0.010282</td>\n",
       "      <td>0.202714</td>\n",
       "      <td>0.217668</td>\n",
       "      <td>0.224487</td>\n",
       "      <td>0.231670</td>\n",
       "      <td>0.243813</td>\n",
       "      <td>95.797723</td>\n",
       "      <td>1.016815</td>\n",
       "    </tr>\n",
       "    <tr>\n",
       "      <th>beta[2]</th>\n",
       "      <td>-0.073509</td>\n",
       "      <td>0.000556</td>\n",
       "      <td>0.007177</td>\n",
       "      <td>-0.087189</td>\n",
       "      <td>-0.078461</td>\n",
       "      <td>-0.073552</td>\n",
       "      <td>-0.068815</td>\n",
       "      <td>-0.058531</td>\n",
       "      <td>166.303376</td>\n",
       "      <td>1.025884</td>\n",
       "    </tr>\n",
       "    <tr>\n",
       "      <th>beta[3]</th>\n",
       "      <td>-0.029722</td>\n",
       "      <td>0.000703</td>\n",
       "      <td>0.007811</td>\n",
       "      <td>-0.046009</td>\n",
       "      <td>-0.034671</td>\n",
       "      <td>-0.029283</td>\n",
       "      <td>-0.024600</td>\n",
       "      <td>-0.014645</td>\n",
       "      <td>123.348223</td>\n",
       "      <td>1.029926</td>\n",
       "    </tr>\n",
       "    <tr>\n",
       "      <th>beta[4]</th>\n",
       "      <td>-0.045365</td>\n",
       "      <td>0.000959</td>\n",
       "      <td>0.010036</td>\n",
       "      <td>-0.064742</td>\n",
       "      <td>-0.052280</td>\n",
       "      <td>-0.045152</td>\n",
       "      <td>-0.038455</td>\n",
       "      <td>-0.025997</td>\n",
       "      <td>109.544643</td>\n",
       "      <td>1.022269</td>\n",
       "    </tr>\n",
       "    <tr>\n",
       "      <th>...</th>\n",
       "      <td>...</td>\n",
       "      <td>...</td>\n",
       "      <td>...</td>\n",
       "      <td>...</td>\n",
       "      <td>...</td>\n",
       "      <td>...</td>\n",
       "      <td>...</td>\n",
       "      <td>...</td>\n",
       "      <td>...</td>\n",
       "      <td>...</td>\n",
       "    </tr>\n",
       "    <tr>\n",
       "      <th>tau_unit[10388]</th>\n",
       "      <td>-0.194431</td>\n",
       "      <td>0.779079</td>\n",
       "      <td>3.177534</td>\n",
       "      <td>-7.108274</td>\n",
       "      <td>-2.111301</td>\n",
       "      <td>0.245273</td>\n",
       "      <td>2.024844</td>\n",
       "      <td>4.891014</td>\n",
       "      <td>16.634812</td>\n",
       "      <td>1.288882</td>\n",
       "    </tr>\n",
       "    <tr>\n",
       "      <th>tau_unit[10389]</th>\n",
       "      <td>-1.027130</td>\n",
       "      <td>0.782292</td>\n",
       "      <td>3.212607</td>\n",
       "      <td>-8.166130</td>\n",
       "      <td>-2.891176</td>\n",
       "      <td>-0.617392</td>\n",
       "      <td>1.262654</td>\n",
       "      <td>4.318123</td>\n",
       "      <td>16.864659</td>\n",
       "      <td>1.285280</td>\n",
       "    </tr>\n",
       "    <tr>\n",
       "      <th>tau_unit[10390]</th>\n",
       "      <td>-0.610970</td>\n",
       "      <td>0.775285</td>\n",
       "      <td>3.162891</td>\n",
       "      <td>-7.584926</td>\n",
       "      <td>-2.488698</td>\n",
       "      <td>-0.163010</td>\n",
       "      <td>1.589696</td>\n",
       "      <td>4.358599</td>\n",
       "      <td>16.643546</td>\n",
       "      <td>1.285184</td>\n",
       "    </tr>\n",
       "    <tr>\n",
       "      <th>tau_unit[10391]</th>\n",
       "      <td>-0.483101</td>\n",
       "      <td>0.784175</td>\n",
       "      <td>3.213187</td>\n",
       "      <td>-7.716384</td>\n",
       "      <td>-2.335764</td>\n",
       "      <td>-0.053859</td>\n",
       "      <td>1.806286</td>\n",
       "      <td>4.736820</td>\n",
       "      <td>16.789810</td>\n",
       "      <td>1.286672</td>\n",
       "    </tr>\n",
       "    <tr>\n",
       "      <th>lp__</th>\n",
       "      <td>1305.133514</td>\n",
       "      <td>0.231268</td>\n",
       "      <td>5.400713</td>\n",
       "      <td>1293.709637</td>\n",
       "      <td>1301.529297</td>\n",
       "      <td>1305.530557</td>\n",
       "      <td>1308.999988</td>\n",
       "      <td>1314.984179</td>\n",
       "      <td>545.345143</td>\n",
       "      <td>1.004289</td>\n",
       "    </tr>\n",
       "  </tbody>\n",
       "</table>\n",
       "<p>31237 rows × 10 columns</p>\n",
       "</div>"
      ],
      "text/plain": [
       "                        mean   se_mean        sd         2.5%          25%  \\\n",
       "alpha              -0.133245  0.348577  1.413610    -2.447673    -1.101725   \n",
       "beta[1]             0.224531  0.001051  0.010282     0.202714     0.217668   \n",
       "beta[2]            -0.073509  0.000556  0.007177    -0.087189    -0.078461   \n",
       "beta[3]            -0.029722  0.000703  0.007811    -0.046009    -0.034671   \n",
       "beta[4]            -0.045365  0.000959  0.010036    -0.064742    -0.052280   \n",
       "...                      ...       ...       ...          ...          ...   \n",
       "tau_unit[10388]    -0.194431  0.779079  3.177534    -7.108274    -2.111301   \n",
       "tau_unit[10389]    -1.027130  0.782292  3.212607    -8.166130    -2.891176   \n",
       "tau_unit[10390]    -0.610970  0.775285  3.162891    -7.584926    -2.488698   \n",
       "tau_unit[10391]    -0.483101  0.784175  3.213187    -7.716384    -2.335764   \n",
       "lp__             1305.133514  0.231268  5.400713  1293.709637  1301.529297   \n",
       "\n",
       "                         50%          75%        97.5%       n_eff      Rhat  \n",
       "alpha              -0.312986     0.649372     3.024315   16.446097  1.295428  \n",
       "beta[1]             0.224487     0.231670     0.243813   95.797723  1.016815  \n",
       "beta[2]            -0.073552    -0.068815    -0.058531  166.303376  1.025884  \n",
       "beta[3]            -0.029283    -0.024600    -0.014645  123.348223  1.029926  \n",
       "beta[4]            -0.045152    -0.038455    -0.025997  109.544643  1.022269  \n",
       "...                      ...          ...          ...         ...       ...  \n",
       "tau_unit[10388]     0.245273     2.024844     4.891014   16.634812  1.288882  \n",
       "tau_unit[10389]    -0.617392     1.262654     4.318123   16.864659  1.285280  \n",
       "tau_unit[10390]    -0.163010     1.589696     4.358599   16.643546  1.285184  \n",
       "tau_unit[10391]    -0.053859     1.806286     4.736820   16.789810  1.286672  \n",
       "lp__             1305.530557  1308.999988  1314.984179  545.345143  1.004289  \n",
       "\n",
       "[31237 rows x 10 columns]"
      ]
     },
     "execution_count": 16,
     "metadata": {},
     "output_type": "execute_result"
    }
   ],
   "source": [
    "summary_stan_fit = stan_model_summary(fit_mbi)\n",
    "summary_stan_fit"
   ]
  },
  {
   "cell_type": "code",
   "execution_count": 17,
   "metadata": {},
   "outputs": [
    {
     "data": {
      "text/plain": [
       "<matplotlib.lines.Line2D at 0x7fb6476902e0>"
      ]
     },
     "execution_count": 17,
     "metadata": {},
     "output_type": "execute_result"
    },
    {
     "data": {
      "image/png": "[encoded data removed]",
      "text/plain": [
       "<Figure size 576x288 with 1 Axes>"
      ]
     },
     "metadata": {},
     "output_type": "display_data"
    }
   ],
   "source": [
    "r_hat = summary_stan_fit['Rhat']\n",
    "r_hat.plot.hist(title=\"Rhat\")\n",
    "plt.axvline(1.1, color='r', linestyle='--')"
   ]
  },
  {
   "cell_type": "code",
   "execution_count": 18,
   "metadata": {},
   "outputs": [
    {
     "data": {
      "text/plain": [
       "<matplotlib.axes._subplots.AxesSubplot at 0x7fb627230670>"
      ]
     },
     "execution_count": 18,
     "metadata": {},
     "output_type": "execute_result"
    },
    {
     "data": {
      "image/png": "[encoded data removed]",
      "text/plain": [
       "<Figure size 576x288 with 1 Axes>"
      ]
     },
     "metadata": {},
     "output_type": "display_data"
    }
   ],
   "source": [
    "summary_stan_fit['n_eff'].plot.hist(title=\"n_eff\")"
   ]
  },
  {
   "cell_type": "code",
   "execution_count": 19,
   "metadata": {},
   "outputs": [
    {
     "name": "stdout",
     "output_type": "stream",
     "text": [
      "2000 of 2000 iterations saturated the maximum tree depth of 10 (100.0%)\n",
      "  Run again with max_treedepth set to a larger value to avoid saturation\n"
     ]
    }
   ],
   "source": [
    "stan_utility.utils.check_treedepth(fit_mbi)"
   ]
  },
  {
   "cell_type": "code",
   "execution_count": 20,
   "metadata": {},
   "outputs": [
    {
     "name": "stdout",
     "output_type": "stream",
     "text": [
      "E-BFMI indicated no pathological behavior\n"
     ]
    }
   ],
   "source": [
    "stan_utility.utils.check_energy(fit_mbi)"
   ]
  },
  {
   "cell_type": "code",
   "execution_count": 21,
   "metadata": {},
   "outputs": [
    {
     "name": "stdout",
     "output_type": "stream",
     "text": [
      "0.0 of 2000 iterations ended with a divergence (0.0%)\n"
     ]
    }
   ],
   "source": [
    "stan_utility.utils.check_div(fit_mbi)"
   ]
  },
  {
   "cell_type": "markdown",
   "metadata": {},
   "source": [
    "### 2.5.2  Effectiveness of Intervention\n",
    "\n",
    "Here we address the first study question, which we recall is \"*Was the mindset intervention effective in improving student achievement?*\" This relates to the *Average Treatment Effect (ATE)*. We plot the estimated finite sample ATE below. "
   ]
  },
  {
   "cell_type": "code",
   "execution_count": 25,
   "metadata": {},
   "outputs": [
    {
     "data": {
      "text/html": [
       "<div>\n",
       "<style scoped>\n",
       "    .dataframe tbody tr th:only-of-type {\n",
       "        vertical-align: middle;\n",
       "    }\n",
       "\n",
       "    .dataframe tbody tr th {\n",
       "        vertical-align: top;\n",
       "    }\n",
       "\n",
       "    .dataframe thead th {\n",
       "        text-align: right;\n",
       "    }\n",
       "</style>\n",
       "<table border=\"1\" class=\"dataframe\">\n",
       "  <thead>\n",
       "    <tr style=\"text-align: right;\">\n",
       "      <th></th>\n",
       "      <th>mean</th>\n",
       "      <th>se_mean</th>\n",
       "      <th>sd</th>\n",
       "      <th>2.5%</th>\n",
       "      <th>25%</th>\n",
       "      <th>50%</th>\n",
       "      <th>75%</th>\n",
       "      <th>97.5%</th>\n",
       "      <th>n_eff</th>\n",
       "      <th>Rhat</th>\n",
       "    </tr>\n",
       "  </thead>\n",
       "  <tbody>\n",
       "    <tr>\n",
       "      <th>tau_fs</th>\n",
       "      <td>0.169175</td>\n",
       "      <td>0.600753</td>\n",
       "      <td>2.436009</td>\n",
       "      <td>-5.279981</td>\n",
       "      <td>-1.173334</td>\n",
       "      <td>0.486533</td>\n",
       "      <td>1.841948</td>\n",
       "      <td>4.165661</td>\n",
       "      <td>16.442448</td>\n",
       "      <td>1.295591</td>\n",
       "    </tr>\n",
       "    <tr>\n",
       "      <th>tau</th>\n",
       "      <td>0.111171</td>\n",
       "      <td>1.070417</td>\n",
       "      <td>4.340747</td>\n",
       "      <td>-9.590881</td>\n",
       "      <td>-2.284636</td>\n",
       "      <td>0.669629</td>\n",
       "      <td>3.087347</td>\n",
       "      <td>7.222047</td>\n",
       "      <td>16.444573</td>\n",
       "      <td>1.295554</td>\n",
       "    </tr>\n",
       "  </tbody>\n",
       "</table>\n",
       "</div>"
      ],
      "text/plain": [
       "            mean   se_mean        sd      2.5%       25%       50%       75%  \\\n",
       "tau_fs  0.169175  0.600753  2.436009 -5.279981 -1.173334  0.486533  1.841948   \n",
       "tau     0.111171  1.070417  4.340747 -9.590881 -2.284636  0.669629  3.087347   \n",
       "\n",
       "           97.5%      n_eff      Rhat  \n",
       "tau_fs  4.165661  16.442448  1.295591  \n",
       "tau     7.222047  16.444573  1.295554  "
      ]
     },
     "execution_count": 25,
     "metadata": {},
     "output_type": "execute_result"
    }
   ],
   "source": [
    "taus = summary_stan_fit.loc[['tau_fs', 'tau']]\n",
    "taus\n",
    "#az.plot_density(inf_data, var_names = [\"tau\", \"tau_fs\"], \n",
    "#                hdi_prob =.95, hdi_markers='v', shade =.5)\n",
    "\n",
    "#summary_df_cov = summary_df.iloc[1:X[main_cols + inter_cols].shape[1]+1,:] \n",
    "#summary_df_cov = summary_df_cov.rename(index=dict(zip(summary_df_cov.index,\n",
    "#                                                      main_cols + inter_cols)))\n",
    "#summary_df_cov\n",
    "\n",
    "\n",
    "#az.plot_density(inf_data, var_names = [\"beta_inter\"], figsize=(20, 20),\n",
    "#                hdi_prob =.95, hdi_markers='v', shade =.5)\n",
    "\n",
    "\n",
    "#az.plot_density(inf_data, var_names = [ \"beta\"], figsize=(20, 20),\n",
    "#                hdi_prob =.95, hdi_markers='v', shade =.5)\n"
   ]
  },
  {
   "cell_type": "markdown",
   "metadata": {},
   "source": [
    "# References <a class=\"anchor\" id=\"ref\"></a>"
   ]
  },
  {
   "cell_type": "markdown",
   "metadata": {},
   "source": [
    "Yeager, D.S., Hanselman, P., Walton, G.M. et al. A national experiment reveals where a growth mindset improves achievement. Nature 573, 364–369 (2019). https://doi.org/10.1038/s41586-019-1466-y\n",
    "\n",
    "Carvalho, C., Feller, A., Murray, J., Woody, S., and Yeager, D. Assessing Treatment Effect Variation in Observational Studies: Results from a Data Challenge, (2019). https://arxiv.org/abs/1907.07592\n",
    "\n",
    "Hansen, Ben B. The Prognostic Analogue of the Propensity Score. Biometrika 95 (2), 481–88, (2008). https://doi.org/10.1093/biomet/asn004.\n",
    "\n",
    "Yeager, D.S., Hanselman, P., Walton, G.M. et al. A national experiment reveals where a growth mindset improves achievement. Nature 573, 364–369 (2019). https://doi.org/10.1038/s41586-019-1466-y\n",
    "\n",
    "\n",
    "Hahn, P.R., Murray, J.S., Carvalho, C.M. Bayesian Regression Tree Models for Causal Inference: Regularization, Confounding, and Heterogeneous Effects (with Discussion). Bayesian Analysis. 15 (3) 965 - 1056 (2020). https://doi.org/10.1214/19-BA1195\n",
    "\n"
   ]
  },
  {
   "cell_type": "code",
   "execution_count": null,
   "metadata": {},
   "outputs": [],
   "source": []
  }
 ],
 "metadata": {
  "kernelspec": {
   "display_name": "Python 3",
   "language": "python",
   "name": "python3"
  },
  "language_info": {
   "codemirror_mode": {
    "name": "ipython",
    "version": 3
   },
   "file_extension": ".py",
   "mimetype": "text/x-python",
   "name": "python",
   "nbconvert_exporter": "python",
   "pygments_lexer": "ipython3",
   "version": "3.8.3"
  }
 },
 "nbformat": 4,
 "nbformat_minor": 4
}
