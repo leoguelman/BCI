{
 "cells": [
  {
   "cell_type": "markdown",
   "metadata": {},
   "source": [
    "# Bayesian Causal Inference in Non-Randomized Experiments\n",
    "\n",
    "**Author**: Leo Guelman\n",
    "\n",
    "* [1. Problem Statment](#problem1)\n",
    "    * [1.1 The National Study of Learning Mindsets](#mindsets11)\n",
    "    * [1.2 Data Description](#data12)\n",
    "    * [1.2 The Questions](#questions13)\n",
    "* [2. Analysis](#analysis2) \n",
    "    * [2.1 Imports](#imports21)\n",
    "    * [2.2 Data](#data22)\n",
    "    * [2.3 Assessing Balance of Covariates](#balance23)\n",
    "    * [2.4 Propensity score](#propscore24)\n",
    "    * [2.5 Model-based Inference](#mbinference25)\n",
    "        * [2.5.1 MCMC Diagnostics](#mcmcdiagn251)\n",
    "        * [2.5.2 Effectivness of Intervention](#effint252)\n",
    "        * [2.5.3 Treatment effect variation across](#hetero253)\n",
    " \n",
    " "
   ]
  },
  {
   "cell_type": "markdown",
   "metadata": {},
   "source": [
    "# 1. Problem Statment <a class=\"anchor\" id=\"problem1\"></a>"
   ]
  },
  {
   "cell_type": "markdown",
   "metadata": {},
   "source": [
    "## 1.1 The National Study of Learning Mindsets <a class=\"anchor\" id=\"mindsets11\"></a>\n",
    "\n",
    "We look at the causal inference challenge presented by the *National Study of Learning Mindsets* (Yeager et al., 2019) from a Bayesian perspective. \n",
    "\n",
    "The NSLM is a randomized experiment designed to assess the effectiveness of an intervention to improve academic outcomes of students with a *growth mindset*. The *growth mindset* is a belief that people can develop intelligence, as opposed to the *fixed mindset* view which sees intelligence as an innate trait that is fixed at birth.\n",
    "\n",
    "The original study consisted in a randomized experiment composed of students from 76 schools drawn from the national probability sample of U.S. public schools. In addition, to assessing the average treatment effect (ATE), the study was designed to estimate the degree of heterogeneity in treatment effect across both students and schools. \n",
    "\n",
    "A synthetic dataset was generated to mimic the original data, but with the goal of creating an observational study that includes confounding effects not present in the original randomized experiment. Besides this difference, the synthetic data resembles the real NSLM data in terms of covariate distribution, data structures, and effect sizes. \n",
    "\n",
    "During the 2018 Atlantic Causal Inference Conference (ACIC 2018), eight groups of participans were invited to analyze the synthetic data to assess the questions of average treatment effect and treatment effect variation in non-randomized experimental settings. Participants employed a diverse set of methods, ranging from matching and flexible outcome modeling to semiparametric estimation and ensemble approaches. In this study, we employ an alternative approach founded in Bayesian inference principles."
   ]
  },
  {
   "cell_type": "markdown",
   "metadata": {},
   "source": [
    "## 1.2 Data Description <a class=\"anchor\" id=\"data12\"></a>"
   ]
  },
  {
   "cell_type": "markdown",
   "metadata": {},
   "source": [
    "The analysis is based on the sythetic dataset of $n=10,391$ children from a sample of $J=76$ schools. For each children $i=\\{1, \\ldots, n\\}$, we observe a binary treatment indicator $Z_i$, a real-valued outcome $Y_i$, as well as 10 categorical or real-valued covariates as outlined in the table below. For a full description of the data generating process refer to Carvalho et al., 2019.\n",
    "\n",
    "\n",
    "| Covariate | Description |\n",
    "| :---        |    :----   | \n",
    "| S3 | Student’s self-reported expectations for success in the future, a proxy for prior achievement, measured prior to random assignment|\n",
    "| C1 | Categorical variable for student race/ethnicity |\n",
    "|C2 | Categorical variable for student identified gender\n",
    "|C3 | Categorical variable for student first-generation status, i.e. first in family to go to college\n",
    "|XC | School-level categorical variable for urbanicity of the school, i.e. rural, suburban, etc.\n",
    "| X1 | School-level mean of students’ fixed mindsets, reported prior to random assignment\n",
    "| X2|  School achievement level, as measured by test scores and college preparation for the previous 4 cohorts of students\n",
    "|X3  | School racial/ethnic minority composition, i.e., percentage of student body that is Black, Latino, or Native American\n",
    "| X4 | School poverty concentration, i.e., percentage of students who are from families whose incomes fall below the federal poverty line\n",
    "| X5 | School size, i.e., total number of students in all four grade levels in the school\n",
    "| Y | Post-treatment outcome, a continuous measure of achievement\n",
    "|Z | Treatment, i.e., receipt of the intervention\n",
    "\n",
    "\n",
    "\n"
   ]
  },
  {
   "cell_type": "markdown",
   "metadata": {},
   "source": [
    "## 1.3 The Questions <a class=\"anchor\" id=\"questions13\"></a>\n",
    "\n",
    "The two questions we are aiming to address as part of this study are the following:\n",
    "\n",
    "1. Was the mindset intervention effective in improving student achievement?\n",
    "2. Was the effect of the intervention moderated by school level achievement (`X2`) or pre-existing mindset norms (`X1`)? In particular there are two competing hypotheses about how `X2` moderates the effect of the intervention: Either it is largest in middle-achieving schools (a \"Goldilocks effect\") or is decreasing in school-level achievement.\n"
   ]
  },
  {
   "cell_type": "markdown",
   "metadata": {},
   "source": [
    "# 2. Analysis <a class=\"anchor\" id=\"analysis2\"></a>"
   ]
  },
  {
   "cell_type": "markdown",
   "metadata": {},
   "source": [
    "## 2.1 Imports <a class=\"anchor\" id=\"imports21\"></a>"
   ]
  },
  {
   "cell_type": "code",
   "execution_count": 1,
   "metadata": {},
   "outputs": [],
   "source": [
    "import os\n",
    "os.chdir('/Users/lguelman/Library/Mobile Documents/com~apple~CloudDocs/LG_Files/Development/BCI/python')\n",
    "\n",
    "import pandas as pd\n",
    "import numpy as np\n",
    "import matplotlib.pyplot as plt\n",
    "parameters = {'figure.figsize': (8, 4),\n",
    "              'font.size': 8, \n",
    "              'axes.labelsize': 12}\n",
    "plt.rcParams.update(parameters)\n",
    "plt.style.use('fivethirtyeight')\n",
    "from IPython.display import Image\n",
    "\n",
    "import pystan\n",
    "import multiprocessing\n",
    "import stan_utility\n",
    "import arviz as az\n",
    "\n",
    "from sklearn.model_selection import RandomizedSearchCV, GridSearchCV\n",
    "from sklearn.metrics import roc_auc_score\n",
    "from sklearn.model_selection import StratifiedKFold\n",
    "from xgboost import XGBClassifier\n",
    "\n",
    "import seaborn as sns\n",
    "\n",
    "from acic_utils import pre_process_data, stan_model_summary"
   ]
  },
  {
   "cell_type": "markdown",
   "metadata": {},
   "source": [
    "## 2.2 Data  <a class=\"anchor\" id=\"data22\"></a>"
   ]
  },
  {
   "cell_type": "code",
   "execution_count": 2,
   "metadata": {},
   "outputs": [
    {
     "name": "stdout",
     "output_type": "stream",
     "text": [
      "<class 'pandas.core.frame.DataFrame'>\n",
      "RangeIndex: 10391 entries, 0 to 10390\n",
      "Data columns (total 13 columns):\n",
      " #   Column    Non-Null Count  Dtype  \n",
      "---  ------    --------------  -----  \n",
      " 0   schoolid  10391 non-null  int64  \n",
      " 1   Z         10391 non-null  int64  \n",
      " 2   Y         10391 non-null  float64\n",
      " 3   S3        10391 non-null  int64  \n",
      " 4   C1        10391 non-null  int64  \n",
      " 5   C2        10391 non-null  int64  \n",
      " 6   C3        10391 non-null  int64  \n",
      " 7   XC        10391 non-null  int64  \n",
      " 8   X1        10391 non-null  float64\n",
      " 9   X2        10391 non-null  float64\n",
      " 10  X3        10391 non-null  float64\n",
      " 11  X4        10391 non-null  float64\n",
      " 12  X5        10391 non-null  float64\n",
      "dtypes: float64(6), int64(7)\n",
      "memory usage: 1.0 MB\n"
     ]
    },
    {
     "data": {
      "text/html": [
       "<div>\n",
       "<style scoped>\n",
       "    .dataframe tbody tr th:only-of-type {\n",
       "        vertical-align: middle;\n",
       "    }\n",
       "\n",
       "    .dataframe tbody tr th {\n",
       "        vertical-align: top;\n",
       "    }\n",
       "\n",
       "    .dataframe thead th {\n",
       "        text-align: right;\n",
       "    }\n",
       "</style>\n",
       "<table border=\"1\" class=\"dataframe\">\n",
       "  <thead>\n",
       "    <tr style=\"text-align: right;\">\n",
       "      <th></th>\n",
       "      <th>schoolid</th>\n",
       "      <th>Z</th>\n",
       "      <th>Y</th>\n",
       "      <th>S3</th>\n",
       "      <th>C1</th>\n",
       "      <th>C2</th>\n",
       "      <th>C3</th>\n",
       "      <th>XC</th>\n",
       "      <th>X1</th>\n",
       "      <th>X2</th>\n",
       "      <th>X3</th>\n",
       "      <th>X4</th>\n",
       "      <th>X5</th>\n",
       "    </tr>\n",
       "  </thead>\n",
       "  <tbody>\n",
       "    <tr>\n",
       "      <th>count</th>\n",
       "      <td>10391.000000</td>\n",
       "      <td>10391.000000</td>\n",
       "      <td>10391.000000</td>\n",
       "      <td>10391.000000</td>\n",
       "      <td>10391.000000</td>\n",
       "      <td>10391.000000</td>\n",
       "      <td>10391.000000</td>\n",
       "      <td>10391.000000</td>\n",
       "      <td>10391.000000</td>\n",
       "      <td>10391.000000</td>\n",
       "      <td>10391.000000</td>\n",
       "      <td>10391.000000</td>\n",
       "      <td>10391.000000</td>\n",
       "    </tr>\n",
       "    <tr>\n",
       "      <th>mean</th>\n",
       "      <td>39.888846</td>\n",
       "      <td>0.325666</td>\n",
       "      <td>-0.096742</td>\n",
       "      <td>5.268117</td>\n",
       "      <td>5.223078</td>\n",
       "      <td>1.489943</td>\n",
       "      <td>0.630931</td>\n",
       "      <td>2.447791</td>\n",
       "      <td>-0.040457</td>\n",
       "      <td>0.054841</td>\n",
       "      <td>-0.089349</td>\n",
       "      <td>-0.045911</td>\n",
       "      <td>-0.026168</td>\n",
       "    </tr>\n",
       "    <tr>\n",
       "      <th>std</th>\n",
       "      <td>24.008975</td>\n",
       "      <td>0.468646</td>\n",
       "      <td>0.643009</td>\n",
       "      <td>1.120765</td>\n",
       "      <td>3.982963</td>\n",
       "      <td>0.499923</td>\n",
       "      <td>0.482576</td>\n",
       "      <td>1.378420</td>\n",
       "      <td>0.969743</td>\n",
       "      <td>0.935560</td>\n",
       "      <td>0.962804</td>\n",
       "      <td>0.967262</td>\n",
       "      <td>1.010387</td>\n",
       "    </tr>\n",
       "    <tr>\n",
       "      <th>min</th>\n",
       "      <td>1.000000</td>\n",
       "      <td>0.000000</td>\n",
       "      <td>-2.097420</td>\n",
       "      <td>1.000000</td>\n",
       "      <td>1.000000</td>\n",
       "      <td>1.000000</td>\n",
       "      <td>0.000000</td>\n",
       "      <td>0.000000</td>\n",
       "      <td>-3.088790</td>\n",
       "      <td>-3.347819</td>\n",
       "      <td>-1.575463</td>\n",
       "      <td>-1.924778</td>\n",
       "      <td>-1.805073</td>\n",
       "    </tr>\n",
       "    <tr>\n",
       "      <th>25%</th>\n",
       "      <td>19.000000</td>\n",
       "      <td>0.000000</td>\n",
       "      <td>-0.548980</td>\n",
       "      <td>5.000000</td>\n",
       "      <td>3.000000</td>\n",
       "      <td>1.000000</td>\n",
       "      <td>0.000000</td>\n",
       "      <td>1.000000</td>\n",
       "      <td>-0.617888</td>\n",
       "      <td>-0.544506</td>\n",
       "      <td>-0.963095</td>\n",
       "      <td>-0.813799</td>\n",
       "      <td>-0.857026</td>\n",
       "    </tr>\n",
       "    <tr>\n",
       "      <th>50%</th>\n",
       "      <td>41.000000</td>\n",
       "      <td>0.000000</td>\n",
       "      <td>-0.118923</td>\n",
       "      <td>5.000000</td>\n",
       "      <td>4.000000</td>\n",
       "      <td>1.000000</td>\n",
       "      <td>1.000000</td>\n",
       "      <td>2.000000</td>\n",
       "      <td>-0.009954</td>\n",
       "      <td>-0.022514</td>\n",
       "      <td>-0.057036</td>\n",
       "      <td>-0.159602</td>\n",
       "      <td>-0.211553</td>\n",
       "    </tr>\n",
       "    <tr>\n",
       "      <th>75%</th>\n",
       "      <td>62.000000</td>\n",
       "      <td>1.000000</td>\n",
       "      <td>0.335663</td>\n",
       "      <td>6.000000</td>\n",
       "      <td>5.000000</td>\n",
       "      <td>2.000000</td>\n",
       "      <td>1.000000</td>\n",
       "      <td>4.000000</td>\n",
       "      <td>0.420441</td>\n",
       "      <td>0.726836</td>\n",
       "      <td>0.515392</td>\n",
       "      <td>0.596474</td>\n",
       "      <td>0.847844</td>\n",
       "    </tr>\n",
       "    <tr>\n",
       "      <th>max</th>\n",
       "      <td>76.000000</td>\n",
       "      <td>1.000000</td>\n",
       "      <td>2.194709</td>\n",
       "      <td>7.000000</td>\n",
       "      <td>15.000000</td>\n",
       "      <td>2.000000</td>\n",
       "      <td>1.000000</td>\n",
       "      <td>4.000000</td>\n",
       "      <td>2.834589</td>\n",
       "      <td>2.171815</td>\n",
       "      <td>2.358274</td>\n",
       "      <td>2.821660</td>\n",
       "      <td>1.892348</td>\n",
       "    </tr>\n",
       "  </tbody>\n",
       "</table>\n",
       "</div>"
      ],
      "text/plain": [
       "           schoolid             Z             Y            S3            C1  \\\n",
       "count  10391.000000  10391.000000  10391.000000  10391.000000  10391.000000   \n",
       "mean      39.888846      0.325666     -0.096742      5.268117      5.223078   \n",
       "std       24.008975      0.468646      0.643009      1.120765      3.982963   \n",
       "min        1.000000      0.000000     -2.097420      1.000000      1.000000   \n",
       "25%       19.000000      0.000000     -0.548980      5.000000      3.000000   \n",
       "50%       41.000000      0.000000     -0.118923      5.000000      4.000000   \n",
       "75%       62.000000      1.000000      0.335663      6.000000      5.000000   \n",
       "max       76.000000      1.000000      2.194709      7.000000     15.000000   \n",
       "\n",
       "                 C2            C3            XC            X1            X2  \\\n",
       "count  10391.000000  10391.000000  10391.000000  10391.000000  10391.000000   \n",
       "mean       1.489943      0.630931      2.447791     -0.040457      0.054841   \n",
       "std        0.499923      0.482576      1.378420      0.969743      0.935560   \n",
       "min        1.000000      0.000000      0.000000     -3.088790     -3.347819   \n",
       "25%        1.000000      0.000000      1.000000     -0.617888     -0.544506   \n",
       "50%        1.000000      1.000000      2.000000     -0.009954     -0.022514   \n",
       "75%        2.000000      1.000000      4.000000      0.420441      0.726836   \n",
       "max        2.000000      1.000000      4.000000      2.834589      2.171815   \n",
       "\n",
       "                 X3            X4            X5  \n",
       "count  10391.000000  10391.000000  10391.000000  \n",
       "mean      -0.089349     -0.045911     -0.026168  \n",
       "std        0.962804      0.967262      1.010387  \n",
       "min       -1.575463     -1.924778     -1.805073  \n",
       "25%       -0.963095     -0.813799     -0.857026  \n",
       "50%       -0.057036     -0.159602     -0.211553  \n",
       "75%        0.515392      0.596474      0.847844  \n",
       "max        2.358274      2.821660      1.892348  "
      ]
     },
     "execution_count": 2,
     "metadata": {},
     "output_type": "execute_result"
    }
   ],
   "source": [
    "df = pd.read_csv(\"../data/synthetic_data.csv\")\n",
    "df\n",
    "df.info()\n",
    "df.describe()"
   ]
  },
  {
   "cell_type": "markdown",
   "metadata": {},
   "source": [
    "## 2.3 Assessing Balance of Covariates <a class=\"anchor\" id=\"balance23\"></a>\n",
    "\n",
    "Covariate balance is the degree to which the distribution of covariates is similar across levels of the treatment. Here we assess the extent to which the treatment assignment was uniformly randomized across observational units, or there are some selection effects. To that end, we use *Prognostic scores* (Hansen 2008). The prognostic score is defined as the predicted outcome under the control condition, reflecting the baseline \"risk\", i.e., $E(Y|X, Z=0)$. It is estimated by fitting a model of the outcome in the control group, and then using that model to obtain predictions of the outcome under the control condition for all individuals. The standardize difference in the mean prognostic scores between treatment and control groups is used as a measure of covariate balance. \n",
    "\n",
    "Here we fit a Bayesian linear regression model to get a posterior distribution of the standardize difference in the mean prognostic scores between treatment and control groups.\n",
    "\n",
    "We first pre-process the data (encode categorical features and scaling)."
   ]
  },
  {
   "cell_type": "code",
   "execution_count": 3,
   "metadata": {},
   "outputs": [
    {
     "name": "stdout",
     "output_type": "stream",
     "text": [
      "Features dimension: (10391, 28)\n",
      "Treatment dimension: (10391,)\n",
      "Response dimension: (10391,)\n",
      "Number of treated / control units: 3384 / 7007\n"
     ]
    }
   ],
   "source": [
    "X, z, y, *_ = pre_process_data(df, standardize_x=False, interactions=False, \n",
    "                               p_score=None, drop_first=False)\n",
    "\n",
    "print(\"Features dimension:\", X.shape)\n",
    "print(\"Treatment dimension:\", z.shape)\n",
    "print(\"Response dimension:\", y.shape)\n",
    "print(\"Number of treated / control units:\", sum(z), \"/\", X.shape[0]-sum(z))"
   ]
  },
  {
   "cell_type": "markdown",
   "metadata": {},
   "source": [
    "We now fit the model in [stan](https://mc-stan.org/). We place the stan code separately in `stan_linear_reg.stan`, stored in the repo."
   ]
  },
  {
   "cell_type": "code",
   "execution_count": 4,
   "metadata": {},
   "outputs": [
    {
     "name": "stderr",
     "output_type": "stream",
     "text": [
      "INFO:pystan:COMPILING THE C++ CODE FOR MODEL anon_model_8096660a52168d4061eab351075ddfd3 NOW.\n",
      "WARNING:pystan:Maximum (flat) parameter count (1000) exceeded: skipping diagnostic tests for n_eff and Rhat.\n",
      "To run all diagnostics call pystan.check_hmc_diagnostics(fit)\n",
      "WARNING:pystan:1942 of 2000 iterations saturated the maximum tree depth of 10 (97.1 %)\n",
      "WARNING:pystan:Run again with max_treedepth larger than 10 to avoid saturation\n"
     ]
    }
   ],
   "source": [
    "n, p = X[z==0,:].shape # Fit model using control units only\n",
    "\n",
    "stan_data_dict = {'N': n,\n",
    "                  'K': p,\n",
    "                  'x': X[z==0,:],\n",
    "                  'y': y[z==0],\n",
    "                  'N_new': X.shape[0],\n",
    "                  'x_new': X\n",
    "                  }\n",
    "\n",
    "sm = pystan.StanModel('../stan/stan_linear_reg.stan') \n",
    "multiprocessing.set_start_method(\"fork\", force=True)\n",
    "fit = sm.sampling(data=stan_data_dict, iter=1000, chains=4)"
   ]
  },
  {
   "cell_type": "code",
   "execution_count": 5,
   "metadata": {},
   "outputs": [
    {
     "data": {
      "text/html": [
       "<div>\n",
       "<style scoped>\n",
       "    .dataframe tbody tr th:only-of-type {\n",
       "        vertical-align: middle;\n",
       "    }\n",
       "\n",
       "    .dataframe tbody tr th {\n",
       "        vertical-align: top;\n",
       "    }\n",
       "\n",
       "    .dataframe thead th {\n",
       "        text-align: right;\n",
       "    }\n",
       "</style>\n",
       "<table border=\"1\" class=\"dataframe\">\n",
       "  <thead>\n",
       "    <tr style=\"text-align: right;\">\n",
       "      <th></th>\n",
       "      <th>mean</th>\n",
       "      <th>se_mean</th>\n",
       "      <th>sd</th>\n",
       "      <th>2.5%</th>\n",
       "      <th>25%</th>\n",
       "      <th>50%</th>\n",
       "      <th>75%</th>\n",
       "      <th>97.5%</th>\n",
       "      <th>n_eff</th>\n",
       "      <th>Rhat</th>\n",
       "    </tr>\n",
       "  </thead>\n",
       "  <tbody>\n",
       "    <tr>\n",
       "      <th>alpha</th>\n",
       "      <td>-5.238534</td>\n",
       "      <td>5.885756</td>\n",
       "      <td>12.588739</td>\n",
       "      <td>-26.605117</td>\n",
       "      <td>-16.537062</td>\n",
       "      <td>-4.240195</td>\n",
       "      <td>2.809899</td>\n",
       "      <td>19.665753</td>\n",
       "      <td>4.574672</td>\n",
       "      <td>2.028383</td>\n",
       "    </tr>\n",
       "    <tr>\n",
       "      <th>beta[1]</th>\n",
       "      <td>0.232894</td>\n",
       "      <td>0.000481</td>\n",
       "      <td>0.005405</td>\n",
       "      <td>0.222040</td>\n",
       "      <td>0.229219</td>\n",
       "      <td>0.232860</td>\n",
       "      <td>0.236594</td>\n",
       "      <td>0.243329</td>\n",
       "      <td>126.298196</td>\n",
       "      <td>1.058522</td>\n",
       "    </tr>\n",
       "    <tr>\n",
       "      <th>beta[2]</th>\n",
       "      <td>-0.167606</td>\n",
       "      <td>0.001188</td>\n",
       "      <td>0.012377</td>\n",
       "      <td>-0.190331</td>\n",
       "      <td>-0.176427</td>\n",
       "      <td>-0.168166</td>\n",
       "      <td>-0.159499</td>\n",
       "      <td>-0.142454</td>\n",
       "      <td>108.605109</td>\n",
       "      <td>1.064856</td>\n",
       "    </tr>\n",
       "    <tr>\n",
       "      <th>beta[3]</th>\n",
       "      <td>-0.097198</td>\n",
       "      <td>0.001470</td>\n",
       "      <td>0.013525</td>\n",
       "      <td>-0.121366</td>\n",
       "      <td>-0.106434</td>\n",
       "      <td>-0.097916</td>\n",
       "      <td>-0.087805</td>\n",
       "      <td>-0.068684</td>\n",
       "      <td>84.619702</td>\n",
       "      <td>1.049591</td>\n",
       "    </tr>\n",
       "    <tr>\n",
       "      <th>beta[4]</th>\n",
       "      <td>-0.068400</td>\n",
       "      <td>0.000763</td>\n",
       "      <td>0.008794</td>\n",
       "      <td>-0.085158</td>\n",
       "      <td>-0.074363</td>\n",
       "      <td>-0.068438</td>\n",
       "      <td>-0.062435</td>\n",
       "      <td>-0.051303</td>\n",
       "      <td>132.883928</td>\n",
       "      <td>1.009924</td>\n",
       "    </tr>\n",
       "    <tr>\n",
       "      <th>...</th>\n",
       "      <td>...</td>\n",
       "      <td>...</td>\n",
       "      <td>...</td>\n",
       "      <td>...</td>\n",
       "      <td>...</td>\n",
       "      <td>...</td>\n",
       "      <td>...</td>\n",
       "      <td>...</td>\n",
       "      <td>...</td>\n",
       "      <td>...</td>\n",
       "    </tr>\n",
       "    <tr>\n",
       "      <th>prog_scores[10388]</th>\n",
       "      <td>5.237922</td>\n",
       "      <td>5.895180</td>\n",
       "      <td>12.603150</td>\n",
       "      <td>-19.642750</td>\n",
       "      <td>-2.858228</td>\n",
       "      <td>4.303518</td>\n",
       "      <td>16.521053</td>\n",
       "      <td>26.707137</td>\n",
       "      <td>4.570504</td>\n",
       "      <td>2.025223</td>\n",
       "    </tr>\n",
       "    <tr>\n",
       "      <th>prog_scores[10389]</th>\n",
       "      <td>4.424376</td>\n",
       "      <td>5.878793</td>\n",
       "      <td>12.600082</td>\n",
       "      <td>-20.350253</td>\n",
       "      <td>-3.652748</td>\n",
       "      <td>3.379425</td>\n",
       "      <td>15.634531</td>\n",
       "      <td>25.727524</td>\n",
       "      <td>4.593782</td>\n",
       "      <td>2.015619</td>\n",
       "    </tr>\n",
       "    <tr>\n",
       "      <th>prog_scores[10390]</th>\n",
       "      <td>4.974672</td>\n",
       "      <td>5.900855</td>\n",
       "      <td>12.600318</td>\n",
       "      <td>-19.781063</td>\n",
       "      <td>-2.985285</td>\n",
       "      <td>3.946155</td>\n",
       "      <td>16.185408</td>\n",
       "      <td>26.281914</td>\n",
       "      <td>4.559667</td>\n",
       "      <td>2.029400</td>\n",
       "    </tr>\n",
       "    <tr>\n",
       "      <th>prog_scores[10391]</th>\n",
       "      <td>4.910103</td>\n",
       "      <td>5.873613</td>\n",
       "      <td>12.588250</td>\n",
       "      <td>-19.770399</td>\n",
       "      <td>-3.155080</td>\n",
       "      <td>3.991522</td>\n",
       "      <td>16.146388</td>\n",
       "      <td>26.174217</td>\n",
       "      <td>4.593250</td>\n",
       "      <td>2.020887</td>\n",
       "    </tr>\n",
       "    <tr>\n",
       "      <th>lp__</th>\n",
       "      <td>845.591905</td>\n",
       "      <td>0.209548</td>\n",
       "      <td>3.667074</td>\n",
       "      <td>837.577294</td>\n",
       "      <td>843.232797</td>\n",
       "      <td>845.919473</td>\n",
       "      <td>848.212644</td>\n",
       "      <td>851.724432</td>\n",
       "      <td>306.246864</td>\n",
       "      <td>1.010809</td>\n",
       "    </tr>\n",
       "  </tbody>\n",
       "</table>\n",
       "<p>10422 rows × 10 columns</p>\n",
       "</div>"
      ],
      "text/plain": [
       "                          mean   se_mean         sd        2.5%         25%  \\\n",
       "alpha                -5.238534  5.885756  12.588739  -26.605117  -16.537062   \n",
       "beta[1]               0.232894  0.000481   0.005405    0.222040    0.229219   \n",
       "beta[2]              -0.167606  0.001188   0.012377   -0.190331   -0.176427   \n",
       "beta[3]              -0.097198  0.001470   0.013525   -0.121366   -0.106434   \n",
       "beta[4]              -0.068400  0.000763   0.008794   -0.085158   -0.074363   \n",
       "...                        ...       ...        ...         ...         ...   \n",
       "prog_scores[10388]    5.237922  5.895180  12.603150  -19.642750   -2.858228   \n",
       "prog_scores[10389]    4.424376  5.878793  12.600082  -20.350253   -3.652748   \n",
       "prog_scores[10390]    4.974672  5.900855  12.600318  -19.781063   -2.985285   \n",
       "prog_scores[10391]    4.910103  5.873613  12.588250  -19.770399   -3.155080   \n",
       "lp__                845.591905  0.209548   3.667074  837.577294  843.232797   \n",
       "\n",
       "                           50%         75%       97.5%       n_eff      Rhat  \n",
       "alpha                -4.240195    2.809899   19.665753    4.574672  2.028383  \n",
       "beta[1]               0.232860    0.236594    0.243329  126.298196  1.058522  \n",
       "beta[2]              -0.168166   -0.159499   -0.142454  108.605109  1.064856  \n",
       "beta[3]              -0.097916   -0.087805   -0.068684   84.619702  1.049591  \n",
       "beta[4]              -0.068438   -0.062435   -0.051303  132.883928  1.009924  \n",
       "...                        ...         ...         ...         ...       ...  \n",
       "prog_scores[10388]    4.303518   16.521053   26.707137    4.570504  2.025223  \n",
       "prog_scores[10389]    3.379425   15.634531   25.727524    4.593782  2.015619  \n",
       "prog_scores[10390]    3.946155   16.185408   26.281914    4.559667  2.029400  \n",
       "prog_scores[10391]    3.991522   16.146388   26.174217    4.593250  2.020887  \n",
       "lp__                845.919473  848.212644  851.724432  306.246864  1.010809  \n",
       "\n",
       "[10422 rows x 10 columns]"
      ]
     },
     "execution_count": 5,
     "metadata": {},
     "output_type": "execute_result"
    }
   ],
   "source": [
    "fit_summary = stan_model_summary(fit)\n",
    "fit_summary"
   ]
  },
  {
   "cell_type": "markdown",
   "metadata": {},
   "source": [
    "The standardize mean difference in Prognostic scores is positive meaning that students with highest potential outcomes under control are more likely to receive treatment. This can also be appreciated by plotting the proportion of individuals assigned to treatment for by quantile of the prognostic score (each quantile comprises about 1/5 of the observations). In this case, we say that the treatment assignment mechanisms is *counfounded* with the potential outcomes (i.e., the value of the outcome for each subject under each treatment, only one of which is observed).\n",
    "\n",
    "In this context, a simple comparison of treated versus control individuals would produce bias estimates of treatment effects (both average and conditional effects). We thus proceed the analysis as an observational study instead on a randomized one. Specifically, to address this problem we directly incorporate an estimate of the *propensity score* in the specification of the outcome model, implicitly inducing a covariate dependent prior on the regression function (see Hahn 2020).\n",
    "\n",
    "\n"
   ]
  },
  {
   "cell_type": "code",
   "execution_count": 6,
   "metadata": {},
   "outputs": [
    {
     "data": {
      "image/png": "[encoded data removed]",
      "text/plain": [
       "<Figure size 576x288 with 1 Axes>"
      ]
     },
     "metadata": {},
     "output_type": "display_data"
    }
   ],
   "source": [
    "# Extract prognostic scores\n",
    "samples = fit.extract(permuted=True)\n",
    "prog_scores = samples['prog_scores'].T\n",
    "\n",
    "# Compute mean and standardize mean differences in scores\n",
    "mcmc_samples = prog_scores.shape[1]\n",
    "prog_scores_diff = np.zeros(mcmc_samples)\n",
    "prog_scores_std_diff = np.zeros(mcmc_samples)\n",
    "\n",
    "for s in range(mcmc_samples):\n",
    "    prog_scores_diff[s] = np.mean(prog_scores[z==1,s]) - np.mean(prog_scores[z==0,s])\n",
    "    prog_scores_std_diff[s] = prog_scores_diff[s] / np.std(prog_scores[:,s])\n",
    "  \n",
    "                               \n",
    "plt.hist(prog_scores_std_diff, bins = 30)\n",
    "plt.title(\"Standardized mean difference in Prognostic scores\", fontsize=12)\n",
    "plt.show()  \n"
   ]
  },
  {
   "cell_type": "code",
   "execution_count": 7,
   "metadata": {
    "scrolled": true
   },
   "outputs": [
    {
     "name": "stderr",
     "output_type": "stream",
     "text": [
      "INFO:numexpr.utils:NumExpr defaulting to 8 threads.\n"
     ]
    },
    {
     "data": {
      "text/plain": [
       "<matplotlib.axes._subplots.AxesSubplot at 0x7f95a225dbe0>"
      ]
     },
     "execution_count": 7,
     "metadata": {},
     "output_type": "execute_result"
    },
    {
     "data": {
      "image/png": "[encoded data removed]",
      "text/plain": [
       "<Figure size 576x288 with 1 Axes>"
      ]
     },
     "metadata": {},
     "output_type": "display_data"
    }
   ],
   "source": [
    "# Compute proportion treated by mean prognostic score quantile\n",
    "prog_scores_df = pd.DataFrame({'prog_score_mean': np.mean(prog_scores, axis =1),'z':z})\n",
    "prog_scores_df['prog_score_mean_quantile']= pd.qcut(prog_scores_df['prog_score_mean'], \n",
    "                                                    q = 5, labels = False)+1\n",
    "prog_scores_df.groupby(['prog_score_mean_quantile'])['z'].mean().plot(xticks=list(range(1,6)), \n",
    "                                                                     xlabel='Mean Prognostic Score (Quantile)',\n",
    "                                                                     ylabel='Proportion Treated')"
   ]
  },
  {
   "cell_type": "markdown",
   "metadata": {},
   "source": [
    "## 2.4 Propensity Score <a class=\"anchor\" id=\"propscore24\"></a>\n",
    "\n",
    "The propensity score is the probability of treatment assignment conditional on observed baseline covariates, i.e., $E(Z|X)$. Here we fit the propensity score using a flexible non-linear specification based on a Gradient Boosting method. Parameter tuning is done via cross-validated random search."
   ]
  },
  {
   "cell_type": "code",
   "execution_count": 8,
   "metadata": {},
   "outputs": [
    {
     "name": "stdout",
     "output_type": "stream",
     "text": [
      "Fitting 3 folds for each of 30 candidates, totalling 90 fits\n"
     ]
    },
    {
     "name": "stderr",
     "output_type": "stream",
     "text": [
      "[Parallel(n_jobs=-1)]: Using backend LokyBackend with 8 concurrent workers.\n",
      "[Parallel(n_jobs=-1)]: Done  16 tasks      | elapsed:   12.3s\n",
      "[Parallel(n_jobs=-1)]: Done  90 out of  90 | elapsed:  1.1min finished\n",
      "/Users/lguelman/opt/anaconda3/lib/python3.8/site-packages/xgboost/sklearn.py:888: UserWarning: The use of label encoder in XGBClassifier is deprecated and will be removed in a future release. To remove this warning, do the following: 1) Pass option use_label_encoder=False when constructing XGBClassifier object; and 2) Encode your labels (y) as integers starting with 0, i.e. 0, 1, 2, ..., [num_class - 1].\n",
      "  warnings.warn(label_encoder_deprecation_msg, UserWarning)\n"
     ]
    },
    {
     "name": "stdout",
     "output_type": "stream",
     "text": [
      "[12:12:24] WARNING: /Users/travis/build/dmlc/xgboost/src/learner.cc:541: \n",
      "Parameters: { silent } might not be used.\n",
      "\n",
      "  This may not be accurate due to some parameters are only used in language bindings but\n",
      "  passed down to XGBoost core.  Or some parameters are not used but slip through this\n",
      "  verification. Please open an issue if you find above cases.\n",
      "\n",
      "\n",
      "[12:12:24] WARNING: /Users/travis/build/dmlc/xgboost/src/learner.cc:1061: Starting in XGBoost 1.3.0, the default evaluation metric used with the objective 'binary:logistic' was changed from 'error' to 'logloss'. Explicitly set eval_metric if you'd like to restore the old behavior.\n",
      "\n",
      " Best estimator:\n",
      "XGBClassifier(base_score=0.5, booster='gbtree', colsample_bylevel=1,\n",
      "              colsample_bynode=1, colsample_bytree=1.0, gamma=5, gpu_id=-1,\n",
      "              importance_type='gain', interaction_constraints='',\n",
      "              learning_rate=0.01, max_delta_step=0, max_depth=3,\n",
      "              min_child_weight=10, missing=nan, monotone_constraints='()',\n",
      "              n_estimators=500, n_jobs=1, nthread=1, num_parallel_tree=1,\n",
      "              random_state=0, reg_alpha=0, reg_lambda=1, scale_pos_weight=1,\n",
      "              silent=True, subsample=0.8, tree_method='exact',\n",
      "              validate_parameters=1, verbosity=None)\n",
      "\n",
      " Best AUC score:\n",
      "0.5330966595431671\n",
      "\n",
      " Best hyperparameters:\n",
      "{'subsample': 0.8, 'min_child_weight': 10, 'max_depth': 3, 'gamma': 5, 'colsample_bytree': 1.0}\n",
      "[12:12:28] WARNING: /Users/travis/build/dmlc/xgboost/src/learner.cc:541: \n",
      "Parameters: { silent } might not be used.\n",
      "\n",
      "  This may not be accurate due to some parameters are only used in language bindings but\n",
      "  passed down to XGBoost core.  Or some parameters are not used but slip through this\n",
      "  verification. Please open an issue if you find above cases.\n",
      "\n",
      "\n",
      "[12:12:28] WARNING: /Users/travis/build/dmlc/xgboost/src/learner.cc:1061: Starting in XGBoost 1.3.0, the default evaluation metric used with the objective 'binary:logistic' was changed from 'error' to 'logloss'. Explicitly set eval_metric if you'd like to restore the old behavior.\n"
     ]
    }
   ],
   "source": [
    "param_grid = {\n",
    "        'min_child_weight': [1, 5, 10],\n",
    "        'gamma': [0.5, 1, 1.5, 2, 5],\n",
    "        'subsample': [0.6, 0.8, 1.0],\n",
    "        'colsample_bytree': [0.6, 0.8, 1.0],\n",
    "        'max_depth': [3, 4, 5]\n",
    "        }\n",
    "\n",
    "n_folds = 3\n",
    "param_n_picks = 30\n",
    "\n",
    "xgb = XGBClassifier(learning_rate=0.01, n_estimators=500, objective='binary:logistic',\n",
    "                    silent=True, nthread=1)\n",
    "\n",
    "skf = StratifiedKFold(n_splits=n_folds, shuffle = True, random_state = 42)\n",
    "\n",
    "xgb_fits = RandomizedSearchCV(xgb, param_distributions=param_grid,\n",
    "                              n_iter=param_n_picks, scoring='roc_auc', n_jobs=-1, \n",
    "                              cv=skf.split(X,z), verbose=3, random_state=42)\n",
    "\n",
    "xgb_fits.fit(X, z)\n",
    "\n",
    "print('\\n Best estimator:')\n",
    "print(xgb_fits.best_estimator_)\n",
    "print('\\n Best AUC score:')\n",
    "print(xgb_fits.best_score_)\n",
    "print('\\n Best hyperparameters:')\n",
    "print(xgb_fits.best_params_)\n",
    "\n",
    "# We now fit the best estimator to all train data \n",
    "best_fit = xgb_fits.best_estimator_.fit(X, z)\n",
    "pscore = best_fit.predict_proba(X)[:,1]\n",
    "log_odds_pscore = np.log(pscore /(1-pscore))"
   ]
  },
  {
   "cell_type": "code",
   "execution_count": 9,
   "metadata": {},
   "outputs": [
    {
     "data": {
      "text/plain": [
       "<seaborn.axisgrid.FacetGrid at 0x7f95ad3c13d0>"
      ]
     },
     "execution_count": 9,
     "metadata": {},
     "output_type": "execute_result"
    },
    {
     "data": {
      "image/png": "[encoded data removed]",
      "text/plain": [
       "<Figure size 419.275x360 with 1 Axes>"
      ]
     },
     "metadata": {},
     "output_type": "display_data"
    }
   ],
   "source": [
    "prop_score_df = pd.DataFrame({'log_odds_pscore': log_odds_pscore, 'Z':z})\n",
    "sns.displot(prop_score_df, x=\"log_odds_pscore\", \n",
    "            hue=\"Z\",  stat=\"density\", common_norm=False)"
   ]
  },
  {
   "cell_type": "markdown",
   "metadata": {},
   "source": [
    "## 2.5 Model-based Inference <a class=\"anchor\" id=\"mbinference25\"></a>\n",
    "\n",
    "\n",
    "We implement the Bayesian inference framework for causal effects introduced by Rubin (1978). In this framework, each observational unit $i=\\{1,\\ldots, N\\}$ is seen as having a potential outcome for each level of treatment. In the binary treatment case with $Z \\in [0,1]$, $Y_i(1)$ and $Y_i(0)$ represent the potential outcomes of unit $i$ under $Z=1$ and \n",
    "$Z=0$, respectively. Causal inference is considered a missing data problem since both potential outcomes are never jointly observed. Specifically, observed and missing outcomes can be expressed in terms of the potential outcomes as follows:\n",
    "\n",
    "\\begin{align*} \n",
    "Y_i^{\\text{obs}} &=  Y_i(1)Z_i + Y_i(0)(1-Z_i) \\\\ \n",
    "Y_i^{\\text{mis}} &=  Y_i(1)(1-Z_i) + Y_i(0)Z_i\n",
    "\\end{align*}\n",
    "\n",
    "\n",
    "From a Bayesian perspective, $Y_i^{\\text{mis}}$ is considered a latent variable, similar to any other latent variable in the model (I'm trying to avoid the term \"parameters\" here, which is more common in the frequentist language). The missing potential outcomes can be imputed by estimating their posterior predictive distribution given the observed data. That is,\n",
    "\n",
    "$$\n",
    "\\text{Pr}(Y^{\\text{mis}}| Y^{\\text{obs}},Z, X).\n",
    "$$\n",
    "\n",
    "Estimating the conditional distribution of $Y^{\\text{mis}}$ given $(Y^{\\text{obs}},Z, X)$, requires building a model of the joint distribution of potential outcomes $(Y(0), Y(1))$. We assume that the true underlying model for the potential outcomes follows a bivariate Gaussian, \n",
    "\n",
    "$$\n",
    "\\begin{pmatrix}\n",
    "Y_i(0) \\\\\n",
    "Y_i(1) \n",
    "\\end{pmatrix} \\bigg\\lvert~X_i, \\theta \\sim N \\left(\\begin{pmatrix}\n",
    "\\alpha + X_i\\beta_c \\\\\n",
    "\\alpha + X_i\\beta_t + \\tau\n",
    "\\end{pmatrix},\\begin{pmatrix}\n",
    "\\sigma_c^{2} & \\rho\\sigma_c\\sigma_t \\\\\n",
    "\\rho\\sigma_c\\sigma_t & \\sigma_t^{2}\n",
    "\\end{pmatrix}\\right),\n",
    "$$\n",
    "\n",
    "where $\\theta=(\\alpha, \\beta_c, \\beta_t, \\tau, \\sigma_c^2, \\sigma_t^2, \\rho)$.\n",
    "\n",
    "From this model, we can derive the conditional distribution of each potential outcome as\n",
    "\n",
    "\n",
    "\\begin{align*} \n",
    "\\text{Pr}(Y_i(1) | Y_i(0), \\theta, Z_i=0) &\\sim N \\Big(\\mu_t+ \\rho \\frac{\\sigma_t}{\\sigma_c} (Y_i(0)-\\mu_c), \\sigma^2_t(1-\\rho^2)\\Big),\\\\\n",
    "\\text{Pr}(Y_i(0) | Y_i(1), \\theta, Z_i=1) &\\sim N \\Big(\\mu_c+ \\rho \\frac{\\sigma_c}{\\sigma_t} (Y_i(1)-\\mu_t), \\sigma^2_c(1-\\rho^2)\\Big), \n",
    "\\end{align*}\n",
    "\n",
    "where $\\mu_c = \\alpha + X\\beta_c$, and $\\mu_t = \\alpha + X\\beta_t + \\tau$.\n",
    "\n",
    "From the distribution of potential outcomes, we can infer the distribution of any estimand of interest of the form $\\tau = \\tau(Y(0),Y(1), X, Z)$. For instance, the average treatment effect (ATE) can be obtained by simply computing $\\frac{1}{N}\\sum_{i=1}^N(Y_i(1)-Y_i(0))$. This is also known as the \"finite sample\" ATE. If instead, we view the observations as a sample from an infinite super-population, then the super-population ATE is given from the posterior distribution of $\\tau$.\n",
    "\n",
    "A few observations from the model above:\n",
    "\n",
    "* Since $Y_i(0)$ and $Y_i(1)$ are never jointly observed, the correlation between outcomes, $\\rho$, cannot be estimated empirically. It must be based on subject-matter knowledge. Sometimes we may choose to be \"conservative\" about this dependence and therefore assume the worst case. In terms of the posterior variance, the worst case is often the situation of perfect correlation between the two potential outcomes.\n",
    "\n",
    "* There are two sources of uncertainty in the predictive distribution of the missing potential outcomes: the first is the uncertainty in the estimated latent variables (a.k.a., *epistemic uncertainty*), and the second in the uncertainty in the data as expressed by the Gaussian random sampling mechanism (a.k.a., *aleatoric uncertainty*).\n",
    "\n",
    "* We allow for heterogeneous treatment effects - i.e., we define two different vectors $\\beta_c$ and  $\\beta_t$, for control and treated units, respectively. In the **Stan** model below (see `stan_mbi.stan`), this heterogeneity is expressed by including interaction terms between each covariate and the treatment. The posterior estimates on the interaction effects represent the incremental effect of treatment $\\beta_t - \\beta_c$.\n",
    "\n",
    "* The propensity score is considered as an additional covariate in $X$.\n",
    "\n"
   ]
  },
  {
   "cell_type": "code",
   "execution_count": 10,
   "metadata": {},
   "outputs": [
    {
     "name": "stdout",
     "output_type": "stream",
     "text": [
      "(10391, 58)\n",
      "29\n",
      "29\n",
      "(10391, 29)\n",
      "(10391, 29)\n"
     ]
    }
   ],
   "source": [
    "X,z, y, a_effects, m_effects, i_effects = pre_process_data(df, standardize_x=False, interactions=True, \n",
    "                                                            p_score=pscore, drop_first=False)\n",
    "\n",
    "# Get indexes of main and interaction effects\n",
    "idx_m_effects = [a_effects.index(i) for i in m_effects]\n",
    "idx_i_effects = [a_effects.index(i) for i in i_effects]\n",
    "\n",
    "print(X.shape)\n",
    "print(len(idx_m_effects))\n",
    "print(len(idx_i_effects))\n",
    "print(X[:,idx_m_effects].shape)\n",
    "print(X[:,idx_i_effects].shape)"
   ]
  },
  {
   "cell_type": "code",
   "execution_count": 11,
   "metadata": {},
   "outputs": [
    {
     "name": "stderr",
     "output_type": "stream",
     "text": [
      "INFO:pystan:COMPILING THE C++ CODE FOR MODEL anon_model_60991e207af6827951ca148d0742491d NOW.\n",
      "WARNING:pystan:Maximum (flat) parameter count (1000) exceeded: skipping diagnostic tests for n_eff and Rhat.\n",
      "To run all diagnostics call pystan.check_hmc_diagnostics(fit)\n",
      "WARNING:pystan:2000 of 2000 iterations saturated the maximum tree depth of 10 (100 %)\n",
      "WARNING:pystan:Run again with max_treedepth larger than 10 to avoid saturation\n"
     ]
    }
   ],
   "source": [
    "stan_data_mbi = {'N': X.shape[0], \n",
    "                 'N_main_cov':len(idx_m_effects),\n",
    "                 'N_inter_cov':len(idx_i_effects),\n",
    "                 'y': y,\n",
    "                 'z': z,\n",
    "                 'x': X[:,idx_m_effects],\n",
    "                 'xz_inter': X[:,idx_i_effects],\n",
    "                 'rho':0.0}\n",
    "\n",
    "sm = pystan.StanModel('../stan/stan_mbi.stan') \n",
    "multiprocessing.set_start_method(\"fork\", force=True)\n",
    "fit_mbi = sm.sampling(data=stan_data_mbi, iter=1000, chains=4, seed=194838)"
   ]
  },
  {
   "cell_type": "markdown",
   "metadata": {},
   "source": [
    "### 2.5.1 MCMC Diagnostics <a class=\"anchor\" id=\"mcmcdiagn251\"></a>\n"
   ]
  },
  {
   "cell_type": "code",
   "execution_count": 12,
   "metadata": {},
   "outputs": [
    {
     "data": {
      "text/html": [
       "<div>\n",
       "<style scoped>\n",
       "    .dataframe tbody tr th:only-of-type {\n",
       "        vertical-align: middle;\n",
       "    }\n",
       "\n",
       "    .dataframe tbody tr th {\n",
       "        vertical-align: top;\n",
       "    }\n",
       "\n",
       "    .dataframe thead th {\n",
       "        text-align: right;\n",
       "    }\n",
       "</style>\n",
       "<table border=\"1\" class=\"dataframe\">\n",
       "  <thead>\n",
       "    <tr style=\"text-align: right;\">\n",
       "      <th></th>\n",
       "      <th>mean</th>\n",
       "      <th>se_mean</th>\n",
       "      <th>sd</th>\n",
       "      <th>2.5%</th>\n",
       "      <th>25%</th>\n",
       "      <th>50%</th>\n",
       "      <th>75%</th>\n",
       "      <th>97.5%</th>\n",
       "      <th>n_eff</th>\n",
       "      <th>Rhat</th>\n",
       "    </tr>\n",
       "  </thead>\n",
       "  <tbody>\n",
       "    <tr>\n",
       "      <th>alpha</th>\n",
       "      <td>-1.528304</td>\n",
       "      <td>0.693496</td>\n",
       "      <td>3.212315</td>\n",
       "      <td>-7.570534</td>\n",
       "      <td>-3.788758</td>\n",
       "      <td>-1.466491</td>\n",
       "      <td>0.564333</td>\n",
       "      <td>4.989348</td>\n",
       "      <td>21.456011</td>\n",
       "      <td>1.211422</td>\n",
       "    </tr>\n",
       "    <tr>\n",
       "      <th>beta[1]</th>\n",
       "      <td>0.196362</td>\n",
       "      <td>0.000875</td>\n",
       "      <td>0.009929</td>\n",
       "      <td>0.176052</td>\n",
       "      <td>0.189962</td>\n",
       "      <td>0.196349</td>\n",
       "      <td>0.202961</td>\n",
       "      <td>0.215980</td>\n",
       "      <td>128.715076</td>\n",
       "      <td>1.030324</td>\n",
       "    </tr>\n",
       "    <tr>\n",
       "      <th>beta[2]</th>\n",
       "      <td>-0.143101</td>\n",
       "      <td>0.001229</td>\n",
       "      <td>0.014045</td>\n",
       "      <td>-0.170103</td>\n",
       "      <td>-0.152569</td>\n",
       "      <td>-0.143146</td>\n",
       "      <td>-0.134007</td>\n",
       "      <td>-0.115498</td>\n",
       "      <td>130.532297</td>\n",
       "      <td>1.037132</td>\n",
       "    </tr>\n",
       "    <tr>\n",
       "      <th>beta[3]</th>\n",
       "      <td>-0.058852</td>\n",
       "      <td>0.001615</td>\n",
       "      <td>0.017272</td>\n",
       "      <td>-0.090583</td>\n",
       "      <td>-0.070745</td>\n",
       "      <td>-0.059339</td>\n",
       "      <td>-0.047720</td>\n",
       "      <td>-0.022832</td>\n",
       "      <td>114.410890</td>\n",
       "      <td>1.039459</td>\n",
       "    </tr>\n",
       "    <tr>\n",
       "      <th>beta[4]</th>\n",
       "      <td>-0.043382</td>\n",
       "      <td>0.000778</td>\n",
       "      <td>0.010198</td>\n",
       "      <td>-0.063602</td>\n",
       "      <td>-0.050343</td>\n",
       "      <td>-0.043308</td>\n",
       "      <td>-0.036262</td>\n",
       "      <td>-0.023320</td>\n",
       "      <td>171.862733</td>\n",
       "      <td>1.019397</td>\n",
       "    </tr>\n",
       "    <tr>\n",
       "      <th>...</th>\n",
       "      <td>...</td>\n",
       "      <td>...</td>\n",
       "      <td>...</td>\n",
       "      <td>...</td>\n",
       "      <td>...</td>\n",
       "      <td>...</td>\n",
       "      <td>...</td>\n",
       "      <td>...</td>\n",
       "      <td>...</td>\n",
       "      <td>...</td>\n",
       "    </tr>\n",
       "    <tr>\n",
       "      <th>tau_unit[10388]</th>\n",
       "      <td>0.422756</td>\n",
       "      <td>0.011818</td>\n",
       "      <td>0.539426</td>\n",
       "      <td>-0.689171</td>\n",
       "      <td>0.075395</td>\n",
       "      <td>0.434672</td>\n",
       "      <td>0.765118</td>\n",
       "      <td>1.482047</td>\n",
       "      <td>2083.253191</td>\n",
       "      <td>0.998910</td>\n",
       "    </tr>\n",
       "    <tr>\n",
       "      <th>tau_unit[10389]</th>\n",
       "      <td>-0.936938</td>\n",
       "      <td>0.012161</td>\n",
       "      <td>0.533103</td>\n",
       "      <td>-1.972346</td>\n",
       "      <td>-1.298663</td>\n",
       "      <td>-0.944824</td>\n",
       "      <td>-0.580085</td>\n",
       "      <td>0.143458</td>\n",
       "      <td>1921.826441</td>\n",
       "      <td>0.999979</td>\n",
       "    </tr>\n",
       "    <tr>\n",
       "      <th>tau_unit[10390]</th>\n",
       "      <td>0.120828</td>\n",
       "      <td>0.011447</td>\n",
       "      <td>0.532955</td>\n",
       "      <td>-0.925286</td>\n",
       "      <td>-0.234366</td>\n",
       "      <td>0.122399</td>\n",
       "      <td>0.495573</td>\n",
       "      <td>1.149292</td>\n",
       "      <td>2167.578426</td>\n",
       "      <td>0.999434</td>\n",
       "    </tr>\n",
       "    <tr>\n",
       "      <th>tau_unit[10391]</th>\n",
       "      <td>-0.563016</td>\n",
       "      <td>0.012717</td>\n",
       "      <td>0.544431</td>\n",
       "      <td>-1.671883</td>\n",
       "      <td>-0.938285</td>\n",
       "      <td>-0.563197</td>\n",
       "      <td>-0.187035</td>\n",
       "      <td>0.497794</td>\n",
       "      <td>1832.924103</td>\n",
       "      <td>1.000102</td>\n",
       "    </tr>\n",
       "    <tr>\n",
       "      <th>lp__</th>\n",
       "      <td>1307.370470</td>\n",
       "      <td>0.257781</td>\n",
       "      <td>5.626879</td>\n",
       "      <td>1295.386433</td>\n",
       "      <td>1303.703825</td>\n",
       "      <td>1307.843526</td>\n",
       "      <td>1311.371740</td>\n",
       "      <td>1317.536894</td>\n",
       "      <td>476.468599</td>\n",
       "      <td>1.013699</td>\n",
       "    </tr>\n",
       "  </tbody>\n",
       "</table>\n",
       "<p>31237 rows × 10 columns</p>\n",
       "</div>"
      ],
      "text/plain": [
       "                        mean   se_mean        sd         2.5%          25%  \\\n",
       "alpha              -1.528304  0.693496  3.212315    -7.570534    -3.788758   \n",
       "beta[1]             0.196362  0.000875  0.009929     0.176052     0.189962   \n",
       "beta[2]            -0.143101  0.001229  0.014045    -0.170103    -0.152569   \n",
       "beta[3]            -0.058852  0.001615  0.017272    -0.090583    -0.070745   \n",
       "beta[4]            -0.043382  0.000778  0.010198    -0.063602    -0.050343   \n",
       "...                      ...       ...       ...          ...          ...   \n",
       "tau_unit[10388]     0.422756  0.011818  0.539426    -0.689171     0.075395   \n",
       "tau_unit[10389]    -0.936938  0.012161  0.533103    -1.972346    -1.298663   \n",
       "tau_unit[10390]     0.120828  0.011447  0.532955    -0.925286    -0.234366   \n",
       "tau_unit[10391]    -0.563016  0.012717  0.544431    -1.671883    -0.938285   \n",
       "lp__             1307.370470  0.257781  5.626879  1295.386433  1303.703825   \n",
       "\n",
       "                         50%          75%        97.5%        n_eff      Rhat  \n",
       "alpha              -1.466491     0.564333     4.989348    21.456011  1.211422  \n",
       "beta[1]             0.196349     0.202961     0.215980   128.715076  1.030324  \n",
       "beta[2]            -0.143146    -0.134007    -0.115498   130.532297  1.037132  \n",
       "beta[3]            -0.059339    -0.047720    -0.022832   114.410890  1.039459  \n",
       "beta[4]            -0.043308    -0.036262    -0.023320   171.862733  1.019397  \n",
       "...                      ...          ...          ...          ...       ...  \n",
       "tau_unit[10388]     0.434672     0.765118     1.482047  2083.253191  0.998910  \n",
       "tau_unit[10389]    -0.944824    -0.580085     0.143458  1921.826441  0.999979  \n",
       "tau_unit[10390]     0.122399     0.495573     1.149292  2167.578426  0.999434  \n",
       "tau_unit[10391]    -0.563197    -0.187035     0.497794  1832.924103  1.000102  \n",
       "lp__             1307.843526  1311.371740  1317.536894   476.468599  1.013699  \n",
       "\n",
       "[31237 rows x 10 columns]"
      ]
     },
     "execution_count": 12,
     "metadata": {},
     "output_type": "execute_result"
    }
   ],
   "source": [
    "summary_stan_fit = stan_model_summary(fit_mbi)\n",
    "summary_stan_fit"
   ]
  },
  {
   "cell_type": "code",
   "execution_count": 13,
   "metadata": {},
   "outputs": [
    {
     "data": {
      "text/plain": [
       "<matplotlib.lines.Line2D at 0x7f957bf91850>"
      ]
     },
     "execution_count": 13,
     "metadata": {},
     "output_type": "execute_result"
    },
    {
     "data": {
      "image/png": "[encoded data removed]",
      "text/plain": [
       "<Figure size 576x288 with 1 Axes>"
      ]
     },
     "metadata": {},
     "output_type": "display_data"
    }
   ],
   "source": [
    "r_hat = summary_stan_fit['Rhat']\n",
    "r_hat.plot.hist(title=\"Rhat\")\n",
    "plt.axvline(1.1, color='r', linestyle='--')"
   ]
  },
  {
   "cell_type": "code",
   "execution_count": 14,
   "metadata": {},
   "outputs": [
    {
     "data": {
      "text/plain": [
       "<matplotlib.axes._subplots.AxesSubplot at 0x7f95ad3c1910>"
      ]
     },
     "execution_count": 14,
     "metadata": {},
     "output_type": "execute_result"
    },
    {
     "data": {
      "image/png": "[encoded data removed]",
      "text/plain": [
       "<Figure size 576x288 with 1 Axes>"
      ]
     },
     "metadata": {},
     "output_type": "display_data"
    }
   ],
   "source": [
    "summary_stan_fit['n_eff'].plot.hist(title=\"n_eff\")"
   ]
  },
  {
   "cell_type": "code",
   "execution_count": 15,
   "metadata": {},
   "outputs": [
    {
     "name": "stdout",
     "output_type": "stream",
     "text": [
      "2000 of 2000 iterations saturated the maximum tree depth of 10 (100.0%)\n",
      "  Run again with max_treedepth set to a larger value to avoid saturation\n"
     ]
    }
   ],
   "source": [
    "stan_utility.utils.check_treedepth(fit_mbi)"
   ]
  },
  {
   "cell_type": "code",
   "execution_count": 16,
   "metadata": {},
   "outputs": [
    {
     "name": "stdout",
     "output_type": "stream",
     "text": [
      "E-BFMI indicated no pathological behavior\n"
     ]
    }
   ],
   "source": [
    "stan_utility.utils.check_energy(fit_mbi)"
   ]
  },
  {
   "cell_type": "code",
   "execution_count": 17,
   "metadata": {},
   "outputs": [
    {
     "name": "stdout",
     "output_type": "stream",
     "text": [
      "0.0 of 2000 iterations ended with a divergence (0.0%)\n"
     ]
    }
   ],
   "source": [
    "stan_utility.utils.check_div(fit_mbi)"
   ]
  },
  {
   "cell_type": "markdown",
   "metadata": {},
   "source": [
    "### 2.5.2  Effectiveness of Intervention<a class=\"anchor\" id=\"effint252\"></a>\n",
    "\n",
    "Here we address the first study question, which we recall is \"*Was the mindset intervention effective in improving student achievement?*\" This relates to the *Average Treatment Effect (ATE)*. The estimated (finite-sample) **ATE is 0.24 with a 95% uncertainty interval between 0.22 and 0.26. The true value based on the simulation is also 0.24**, so we are right on spot. "
   ]
  },
  {
   "cell_type": "code",
   "execution_count": 18,
   "metadata": {},
   "outputs": [
    {
     "data": {
      "text/html": [
       "<div>\n",
       "<style scoped>\n",
       "    .dataframe tbody tr th:only-of-type {\n",
       "        vertical-align: middle;\n",
       "    }\n",
       "\n",
       "    .dataframe tbody tr th {\n",
       "        vertical-align: top;\n",
       "    }\n",
       "\n",
       "    .dataframe thead th {\n",
       "        text-align: right;\n",
       "    }\n",
       "</style>\n",
       "<table border=\"1\" class=\"dataframe\">\n",
       "  <thead>\n",
       "    <tr style=\"text-align: right;\">\n",
       "      <th></th>\n",
       "      <th>mean</th>\n",
       "      <th>se_mean</th>\n",
       "      <th>sd</th>\n",
       "      <th>2.5%</th>\n",
       "      <th>25%</th>\n",
       "      <th>50%</th>\n",
       "      <th>75%</th>\n",
       "      <th>97.5%</th>\n",
       "      <th>n_eff</th>\n",
       "      <th>Rhat</th>\n",
       "    </tr>\n",
       "  </thead>\n",
       "  <tbody>\n",
       "    <tr>\n",
       "      <th>tau_fs</th>\n",
       "      <td>0.240261</td>\n",
       "      <td>0.000194</td>\n",
       "      <td>0.008324</td>\n",
       "      <td>0.223899</td>\n",
       "      <td>0.234661</td>\n",
       "      <td>0.24039</td>\n",
       "      <td>0.245908</td>\n",
       "      <td>0.256844</td>\n",
       "      <td>1832.438293</td>\n",
       "      <td>1.001269</td>\n",
       "    </tr>\n",
       "  </tbody>\n",
       "</table>\n",
       "</div>"
      ],
      "text/plain": [
       "            mean   se_mean        sd      2.5%       25%      50%       75%  \\\n",
       "tau_fs  0.240261  0.000194  0.008324  0.223899  0.234661  0.24039  0.245908   \n",
       "\n",
       "           97.5%        n_eff      Rhat  \n",
       "tau_fs  0.256844  1832.438293  1.001269  "
      ]
     },
     "execution_count": 18,
     "metadata": {},
     "output_type": "execute_result"
    }
   ],
   "source": [
    "taus = summary_stan_fit.loc[['tau_fs']]\n",
    "taus"
   ]
  },
  {
   "cell_type": "markdown",
   "metadata": {},
   "source": [
    "For comparison purposes, we show below the submitted estimates for average treatment effects and corresponding 95% uncertainty intervals from eight ACIC 2018 challenge participants (Carvalho 2019). Our estimate is closer to the true value relative to all submissions."
   ]
  },
  {
   "cell_type": "code",
   "execution_count": 19,
   "metadata": {},
   "outputs": [
    {
     "data": {
      "image/png": "[encoded data removed]",
      "text/plain": [
       "<IPython.core.display.Image object>"
      ]
     },
     "execution_count": 19,
     "metadata": {
      "image/png": {
       "height": 200,
       "width": 300
      }
     },
     "output_type": "execute_result"
    }
   ],
   "source": [
    "Image(filename = \"../img/acic_ate.png\", width = 300, height = 200)"
   ]
  },
  {
   "cell_type": "markdown",
   "metadata": {},
   "source": [
    "### 2.5.3  Treatment effect variation across `X1` and `X2` <a class=\"anchor\" id=\"hetero253\"></a>\n",
    "\n",
    "The second question of the study is directed to assess the treatment effect variation across the two pre-specified moderators, `X1` (pre-existing mindset norms) and `X2` (school level achievement).\n",
    "\n",
    "We look at the posterior estimates of interaction effects `Z x X1` and `Z x X2`. This effect represent the incremental effect of treatment $\\beta_t - \\beta_c$ from `X1` and `X2`, respectively. The results depicted below indicate that a higher baseline mindset beliefs tends to be associated with lower treatment effect on average. In contrast, there appears to be no support for treatment effect variation across school achievement levels. "
   ]
  },
  {
   "cell_type": "code",
   "execution_count": 20,
   "metadata": {},
   "outputs": [
    {
     "data": {
      "text/plain": [
       "<seaborn.axisgrid.FacetGrid at 0x7f954339a1f0>"
      ]
     },
     "execution_count": 20,
     "metadata": {},
     "output_type": "execute_result"
    },
    {
     "data": {
      "image/png": "[encoded data removed]",
      "text/plain": [
       "<Figure size 360x360 with 1 Axes>"
      ]
     },
     "metadata": {},
     "output_type": "display_data"
    },
    {
     "data": {
      "image/png": "[encoded data removed]",
      "text/plain": [
       "<Figure size 360x360 with 1 Axes>"
      ]
     },
     "metadata": {},
     "output_type": "display_data"
    }
   ],
   "source": [
    "samples = fit_mbi.extract(permuted=True)\n",
    "\n",
    "Z_X1_samples = samples['beta_inter'][:,i_effects.index('Z_X1')]\n",
    "Z_X2_samples = samples['beta_inter'][:,i_effects.index('Z_X2')]\n",
    "\n",
    "g1 = sns.displot(Z_X1_samples,\n",
    "    kind=\"kde\")\n",
    "g1.set_axis_labels(\"Interaction effect (Z x X1) posterior samples\", \n",
    "                  \"Density\", fontsize=10)\n",
    "\n",
    "g2 = sns.displot(Z_X2_samples,\n",
    "    kind=\"kde\")\n",
    "g2.set_axis_labels(\"Interaction effect (Z x X2) posterior samples\", \n",
    "                  \"Density\", fontsize=10)"
   ]
  },
  {
   "cell_type": "markdown",
   "metadata": {},
   "source": [
    "# References <a class=\"anchor\" id=\"ref\"></a>"
   ]
  },
  {
   "cell_type": "markdown",
   "metadata": {},
   "source": [
    "Carvalho, C., Feller, A., Murray, J., Woody, S., and Yeager, D. Assessing Treatment Effect Variation in Observational Studies: Results from a Data Challenge, (2019). https://arxiv.org/abs/1907.07592\n",
    "\n",
    "Donald B. Rubin. Bayesian Inference for Causal Effects: The Role of Randomization. Ann. Statist. 6 (1) 34 - 58 (1978). https://doi.org/10.1214/aos/1176344064\n",
    "\n",
    "Hahn, P.R., Murray, J.S., Carvalho, C.M. Bayesian Regression Tree Models for Causal Inference: Regularization, Confounding, and Heterogeneous Effects (with Discussion). Bayesian Analysis. 15 (3) 965 - 1056 (2020). https://doi.org/10.1214/19-BA1195\n",
    "\n",
    "Hansen, Ben B. The Prognostic Analogue of the Propensity Score. Biometrika 95 (2), 481–88, (2008). https://doi.org/10.1093/biomet/asn004.\n",
    "\n",
    "Yeager, D.S., Hanselman, P., Walton, G.M. et al. A national experiment reveals where a growth mindset improves achievement. Nature 573, 364–369 (2019). https://doi.org/10.1038/s41586-019-1466-y"
   ]
  }
 ],
 "metadata": {
  "kernelspec": {
   "display_name": "Python 3",
   "language": "python",
   "name": "python3"
  },
  "language_info": {
   "codemirror_mode": {
    "name": "ipython",
    "version": 3
   },
   "file_extension": ".py",
   "mimetype": "text/x-python",
   "name": "python",
   "nbconvert_exporter": "python",
   "pygments_lexer": "ipython3",
   "version": "3.8.3"
  }
 },
 "nbformat": 4,
 "nbformat_minor": 4
}
